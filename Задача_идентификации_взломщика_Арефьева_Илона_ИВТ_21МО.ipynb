{
  "cells": [
    {
      "cell_type": "markdown",
      "metadata": {
        "id": "view-in-github",
        "colab_type": "text"
      },
      "source": [
        "<a href=\"https://colab.research.google.com/github/Ilona019/ColabAlice/blob/main/%D0%97%D0%B0%D0%B4%D0%B0%D1%87%D0%B0_%D0%B8%D0%B4%D0%B5%D0%BD%D1%82%D0%B8%D1%84%D0%B8%D0%BA%D0%B0%D1%86%D0%B8%D0%B8_%D0%B2%D0%B7%D0%BB%D0%BE%D0%BC%D1%89%D0%B8%D0%BA%D0%B0_%D0%90%D1%80%D0%B5%D1%84%D1%8C%D0%B5%D0%B2%D0%B0_%D0%98%D0%BB%D0%BE%D0%BD%D0%B0_%D0%98%D0%92%D0%A2_21%D0%9C%D0%9E.ipynb\" target=\"_parent\"><img src=\"https://colab.research.google.com/assets/colab-badge.svg\" alt=\"Open In Colab\"/></a>"
      ]
    },
    {
      "cell_type": "markdown",
      "metadata": {
        "id": "QIEk86LhBQVt"
      },
      "source": [
        "Будем решать задачу идентификации взломщика по его поведению в сети Интернет. Это сложная и интересная задача на стыке анализа данных и поведенческой психологии. В качестве примера, компания Яндекс решает задачу идентификации взломщика почтового ящика по его поведению. В двух словах, взломщик будет себя вести не так, как владелец ящика: он может не удалять сообщения сразу по прочтении, как это делал хозяин, он будет по-другому ставить флажки сообщениям и даже по-своему двигать мышкой. Тогда такого злоумышленника можно идентифицировать и \"выкинуть\" из почтового ящика, предложив хозяину войти по SMS-коду. Этот пилотный проект описан в статье на Хабрахабре. Похожие вещи делаются, например, в Google Analytics и описываются в научных статьях, найти можно многое по фразам \"Traversal Pattern Mining\" и \"Sequential Pattern Mining\".\n",
        "\n",
        "В этом соревновании будем решать похожую задачу: алгоритм будет анализировать последовательность из нескольких веб-сайтов, посещенных подряд одним и тем же человеком, и определять, Элис это или взломщик (кто-то другой).\n",
        "\n",
        "Данные собраны с прокси-серверов Университета Блеза Паскаля. \"A Tool for Classification of Sequential Data\", авторы Giacomo Kahn, Yannick Loiseau и Olivier Raynaud.\n",
        "\n",
        "**Задача – сделать прогнозы для сессий в тестовой выборке (test_sessions.csv), определить, принадлежат ли они Элис. Сделать посылку на kaggle.**\n"
      ]
    },
    {
      "cell_type": "code",
      "execution_count": null,
      "metadata": {
        "colab": {
          "background_save": true
        },
        "id": "NMU80WPsFtlM"
      },
      "outputs": [],
      "source": [
        "from __future__ import division, print_function\n",
        "import warnings\n",
        "warnings.filterwarnings('ignore')\n",
        "import numpy as np\n",
        "import pandas as pd\n",
        "from scipy.sparse import csr_matrix"
      ]
    },
    {
      "cell_type": "code",
      "execution_count": null,
      "metadata": {
        "id": "OM6q1VwJv8mY"
      },
      "outputs": [],
      "source": [
        "from google.colab import drive\n",
        "drive.mount('/content/gdrive')\n",
        "#подключаю файл из папки Colab на Google диске\n",
        "path_train_data = 'gdrive/My Drive/Colab_files/Catch_me/train_sessions.csv'\n",
        "path_test_data = 'gdrive/My Drive/Colab_files/Catch_me/test_sessions.csv'\n",
        "train_data = pd.read_csv(path_train_data)\n",
        "test_data = pd.read_csv(path_test_data)"
      ]
    },
    {
      "cell_type": "code",
      "execution_count": null,
      "metadata": {
        "id": "UL1_lE4sT4Rs"
      },
      "outputs": [],
      "source": [
        "print(train_data.head(n=10))\n",
        "print(test_data.head(n=10))"
      ]
    },
    {
      "cell_type": "code",
      "execution_count": null,
      "metadata": {
        "id": "DURZG0Y_upY3"
      },
      "outputs": [],
      "source": [
        "train_data.info()\n",
        "test_data.info()"
      ]
    },
    {
      "cell_type": "code",
      "execution_count": null,
      "metadata": {
        "id": "e2QSlx6H7E5Z"
      },
      "outputs": [],
      "source": [
        "sites_header = ['site%s' % i for i in range(1, 11)]\n",
        "time_header = ['time%s' % i for i in range(1, 11)]\n",
        "# Посмотрим на типы данных колонок\n",
        "print(train_data.dtypes.value_counts())\n",
        "# Размерность DataFrame\n",
        "print('Размерность train и test:', train_data.shape, test_data.shape,)\n",
        "print(train_data['site1'].value_counts(dropna = False))"
      ]
    },
    {
      "cell_type": "markdown",
      "metadata": {
        "id": "vTarVCpq4x83"
      },
      "source": [
        "# **Предобработка**"
      ]
    },
    {
      "cell_type": "code",
      "execution_count": null,
      "metadata": {
        "id": "_l6lioz64eKv"
      },
      "outputs": [],
      "source": [
        "# Заменим значения NA/NAN -> 0 \n",
        "train_data[sites_header] = train_data[sites_header].fillna(0).astype('int')\n",
        "test_data[sites_header] = test_data[sites_header].fillna(0).astype('int')\n",
        "\n",
        "train_data[time_header] = train_data[time_header].fillna(0)\n",
        "test_data[time_header] = test_data[time_header].fillna(0)\n",
        "train_data[time_header]"
      ]
    },
    {
      "cell_type": "code",
      "execution_count": null,
      "metadata": {
        "id": "L9wo7sY06TCX"
      },
      "outputs": [],
      "source": [
        " y_train = train_data['target'].values\n",
        " X_train = train_data.drop('target', axis=1)\n",
        " print(X_train)"
      ]
    },
    {
      "cell_type": "markdown",
      "metadata": {
        "id": "o6c24KIiLzvI"
      },
      "source": [
        ""
      ]
    },
    {
      "cell_type": "code",
      "execution_count": null,
      "metadata": {
        "id": "RnnJDoS2KObv"
      },
      "outputs": [],
      "source": [
        "train_data[sites_header].to_csv('preprocessing_train_set_sites.txt', sep=' ', index=None, header=None);\n",
        "test_data[sites_header].to_csv('preprocessing_test_set_sites.txt', sep=' ', index=None, header=None);\n",
        "from sklearn.feature_extraction.text import CountVectorizer\n",
        "count_vertorizer = CountVectorizer(ngram_range=(1, 3), max_features=50000)"
      ]
    },
    {
      "cell_type": "code",
      "execution_count": null,
      "metadata": {
        "id": "7LHuMp8DMqM3"
      },
      "outputs": [],
      "source": [
        "train_sites = open('preprocessing_train_set_sites.txt')\n",
        "test_sites = open('preprocessing_test_set_sites.txt')\n",
        "X_train = count_vertorizer.fit_transform(train_sites)\n",
        "X_test = count_vertorizer.transform(test_sites)\n",
        "print(X_train.shape, X_test.shape)"
      ]
    },
    {
      "cell_type": "markdown",
      "metadata": {
        "id": "1MNEgVvobaMq"
      },
      "source": [
        "# **Логистическая регрессия**"
      ]
    },
    {
      "cell_type": "code",
      "execution_count": null,
      "metadata": {
        "id": "t1FsHThC8SCw"
      },
      "outputs": [],
      "source": [
        "from sklearn.linear_model import LogisticRegression\n",
        "from sklearn.metrics import roc_auc_score\n",
        "\n",
        "def calculate_quality_of_model(lr, X, y, split_ind):\n",
        "  y_pred = lr.predict_proba(X[split_ind:, :])[:, 1]\n",
        "  return roc_auc_score(y[split_ind:], y_pred)\n",
        "\n",
        "lr = LogisticRegression(C=1.0, random_state=24, solver='saga', max_iter=500).fit(X_train, y_train)\n",
        "\n",
        "print('100000 Score: ', calculate_quality_of_model(lr, X_train, y_train, 100000))\n",
        "print('125000 Score: ', calculate_quality_of_model(lr, X_train, y_train, 125000))\n",
        "print('200000 Score: ', calculate_quality_of_model(lr, X_train, y_train, 200000))"
      ]
    },
    {
      "cell_type": "code",
      "execution_count": null,
      "metadata": {
        "id": "n6GsuVCx_iY9"
      },
      "outputs": [],
      "source": [
        ""
      ]
    },
    {
      "cell_type": "markdown",
      "metadata": {
        "id": "LkTiAoh9brfC"
      },
      "source": [
        "# Выделение новых признаков по времени посещения сайтов"
      ]
    },
    {
      "cell_type": "code",
      "execution_count": null,
      "metadata": {
        "id": "4gI0LTIVkQVd"
      },
      "outputs": [],
      "source": [
        "# Датафрейм для записи новых признаков времени\n",
        "spent_time_data = pd.DataFrame()\n",
        "\n",
        "times = train_data[['time%s' % i for i in range(1, 11)]]\n",
        "sites = train_data[['site%s' % i for i in range(1, 11)]].fillna(0).astype(int).values\n",
        "\n",
        "for header_index in range(1, 10):\n",
        "    spent_time_data['target'] = train_data['target']\n",
        "    spent_time_data['time_diff{}'.format(header_index)] = (pd.to_datetime(times['time{}'.format(header_index + 1)]) - \n",
        "                        pd.to_datetime(times['time{}'.format(header_index)])).dt.total_seconds().fillna(0)\n",
        "\n",
        "# Сумма по строкам датафрейма - время сессии\n",
        "spent_time_data['session_time'] = np.sum(spent_time_data, axis=1)\n",
        "# Выделим столбец для начала работы в интернете\n",
        "spent_time_data['hour'] = pd.to_datetime(times['time1']).dt.hour\n",
        "# Выделим столбец для определения дня недели\n",
        "spent_time_data['day_of_week'] = pd.to_datetime(times['time1']).dt.weekday\n",
        "# Выделим столбец для месяца\n",
        "spent_time_data['month'] = pd.to_datetime(times['time1']).dt.month\n",
        "# Посчитаем количество уникальных посещенных сайтов\n",
        "spent_time_data['count_unique_sites'] = [len(np.unique(session[session != 0])) for session in sites]\n",
        "print(spent_time_data.head())"
      ]
    },
    {
      "cell_type": "code",
      "execution_count": null,
      "metadata": {
        "id": "JdbnC8xe2bQM"
      },
      "outputs": [],
      "source": [
        "import matplotlib\n",
        "import matplotlib.pyplot as plt\n",
        "import seaborn as sns\n",
        "plt.figure(figsize=(10, 6), dpi=100)\n",
        "sns.countplot(x=spent_time_data['hour'], data=spent_time_data, hue='target')\n",
        "plt.xlabel('Время посещения первого сайта')\n",
        "plt.title('Распределение сессий по часу начала')\n",
        "\n",
        "plt.figure(figsize=(10, 6), dpi=100)\n",
        "plt.ylim(0, 1100)\n",
        "sns.countplot(x=spent_time_data['hour'], data=spent_time_data, hue='target')\n",
        "plt.ylabel('Кол-во сессий')\n",
        "plt.xlabel('Время посещения первого сайта')\n",
        "plt.title('Сессии Элис')"
      ]
    },
    {
      "cell_type": "markdown",
      "metadata": {
        "id": "opxQVODn8ULE"
      },
      "source": [
        "Активность Элис в интернете с 12 до 13 часов и с 16 до 18 часов. Изредка появлялась в 9 и 15 часов. "
      ]
    },
    {
      "cell_type": "code",
      "execution_count": null,
      "metadata": {
        "id": "z8IM3q2286Ij"
      },
      "outputs": [],
      "source": [
        "plt.figure(figsize=(10, 6), dpi=100)\n",
        "sns.countplot(x=spent_time_data['day_of_week'], data=spent_time_data, hue='target')\n",
        "plt.ylabel('Кол-во сессий')\n",
        "plt.xlabel('День недели')\n",
        "plt.grid()\n",
        "plt.title('Распределение посещений по дням недели')\n",
        "\n",
        "plt.figure(figsize=(10, 6), dpi=100)\n",
        "plt.ylim(0, 1000)\n",
        "sns.countplot(x=spent_time_data['day_of_week'], data=spent_time_data, hue='target')\n",
        "plt.ylabel('Кол-во сессий')\n",
        "plt.xlabel('День недели')\n",
        "plt.grid()\n",
        "plt.title('Сессии Элис')"
      ]
    },
    {
      "cell_type": "markdown",
      "metadata": {
        "id": "9G_j38_iDMUb"
      },
      "source": [
        "Элис пользуется интернетом все дни, кроме вс. Небольшая активность в ср и сб."
      ]
    },
    {
      "cell_type": "code",
      "execution_count": null,
      "metadata": {
        "id": "dLnTBS6sD1QF"
      },
      "outputs": [],
      "source": [
        "plt.figure(figsize=(10, 6), dpi=100)\n",
        "sns.countplot(x=spent_time_data['month'], data=spent_time_data, hue='target')\n",
        "plt.ylabel('Кол-во сессий')\n",
        "plt.xlabel('Месяц')\n",
        "plt.title('Распределение посещений по месяцам')\n",
        "\n",
        "plt.figure(figsize=(10, 6), dpi=100)\n",
        "plt.ylim(0, 500)\n",
        "sns.countplot(x=spent_time_data['month'], data=spent_time_data, hue='target')\n",
        "plt.ylabel('Кол-во сессий')\n",
        "plt.xlabel('Месяц')\n",
        "plt.title('Сессии Элис')"
      ]
    },
    {
      "cell_type": "markdown",
      "metadata": {
        "id": "ysw44KC4EgNw"
      },
      "source": [
        "Наименьшая активность Элис с мая по август и в ноябре."
      ]
    },
    {
      "cell_type": "code",
      "execution_count": null,
      "metadata": {
        "id": "f-BMKwb_E4or"
      },
      "outputs": [],
      "source": [
        "plt.figure(figsize=(10, 6), dpi=100)\n",
        "sns.countplot(x=spent_time_data['count_unique_sites'], data=spent_time_data, hue='target')\n",
        "plt.ylabel('Кол-во посещений')\n",
        "plt.xlabel('Сайт')\n",
        "plt.title('График посещений уникального сайта')\n",
        "\n",
        "plt.figure(figsize=(10, 6), dpi=100)\n",
        "plt.ylim(0, 500) \n",
        "sns.countplot(x=spent_time_data['count_unique_sites'], data=spent_time_data, hue='target')\n",
        "plt.ylabel('Кол-во посещений')\n",
        "plt.xlabel('Сайт')\n",
        "plt.title('Сессии Элис') "
      ]
    },
    {
      "cell_type": "markdown",
      "metadata": {
        "id": "tDr93PsiFXEc"
      },
      "source": [
        "Элис посещает все теже сайты что и другие люди (злоумышленник)."
      ]
    },
    {
      "cell_type": "markdown",
      "metadata": {
        "id": "FtmTB6p2F4op"
      },
      "source": [
        "Таким образом, есть смысл анализировать признаки:\n",
        "\n",
        "*   время просмотра первого сайта\n",
        "*   день недели\n",
        "*   месяц"
      ]
    },
    {
      "cell_type": "code",
      "execution_count": null,
      "metadata": {
        "id": "gAf55ZaZKjh5"
      },
      "outputs": [],
      "source": [
        "# Тестовая выборка с новыми признаками\n",
        "test = pd.DataFrame()\n",
        "\n",
        "time_test = test_data[['time%s' % i for i in range(1, 11)]]\n",
        "sites_test = test_data[['site%s' % i for i in range(1, 11)]].fillna(0).astype(int).values\n",
        "\n",
        "for header_index in range(1, 10):\n",
        "    test['time_diff{}'.format(header_index)] = (pd.to_datetime(time_test['time{}'.format(header_index + 1)]) - \n",
        "                        pd.to_datetime(time_test['time{}'.format(header_index)])).dt.total_seconds().fillna(0)\n",
        "   \n",
        "test['session_time'] = np.sum(test, axis=1)\n",
        "test['hour'] = pd.to_datetime(time_test['time1']).dt.hour\n",
        "test['day_of_week'] = pd.to_datetime(time_test['time1']).dt.weekday\n",
        "test['month'] = pd.to_datetime(time_test['time1']).dt.month\n",
        "test['count_unique_sites'] = [len(np.unique(session[session != 0])) for session in sites_test]\n",
        "\n",
        "print(test.head())"
      ]
    },
    {
      "cell_type": "code",
      "execution_count": null,
      "metadata": {
        "id": "Bmg7ozg0MIdb"
      },
      "outputs": [],
      "source": [
        "# Сформируем колонки целевых признаков для новых данных\n",
        "spent_time_data['target_hour'] = np.where(((spent_time_data['hour']>=12) & (spent_time_data['hour']<=13)) | ((spent_time_data['hour']>=16) & (spent_time_data['hour']<=18)), 0, 1)\n",
        "test['target_hour'] = np.where(((test['hour']>=12) & (test['hour']<=13)) | ((test['hour']>=16) & (test['hour']<=18)), 1, 0)\n",
        "\n",
        "spent_time_data['target_week_day'] = np.where((spent_time_data['day_of_week']==5) | (spent_time_data['day_of_week']==6), 1, 0)\n",
        "test['target_week_day'] = np.where((test['day_of_week']==5) | (test['day_of_week']==6), 1, 0)\n",
        "\n",
        "spent_time_data['target_month'] = np.where(((spent_time_data['month']>=5) & (spent_time_data['month']<=8)), 1, 0)\n",
        "test['target_month'] = np.where(((test['month']>=5) & (test['month']<=8)), 1, 0)\n",
        "\n",
        "target_train = spent_time_data[['target_hour', 'target_week_day','target_month']]\n",
        "target_test = test[['target_hour', 'target_week_day','target_month']]"
      ]
    },
    {
      "cell_type": "code",
      "execution_count": null,
      "metadata": {
        "id": "0_CL5nGCNta_"
      },
      "outputs": [],
      "source": [
        "Y_train_spent_time = spent_time_data['target'].values\n",
        "from sklearn.model_selection import train_test_split\n",
        "X_train_log, X_valid_log, Y_train_log, Y_valid_log = train_test_split(X_train, Y_train_spent_time, test_size=0.1, random_state=24)\n",
        "log_reg = LogisticRegression(C=1.0, random_state=24, solver='lbfgs', max_iter=500)\n",
        "log_reg.fit(X_train_log, Y_train_log)"
      ]
    },
    {
      "cell_type": "code",
      "execution_count": null,
      "metadata": {
        "id": "PuC917NFRH2J"
      },
      "outputs": [],
      "source": [
        "y_pred = log_reg.predict_proba(X_valid_log)\n",
        "from sklearn.metrics import roc_auc_score\n",
        "score_log = roc_auc_score(Y_valid_log, y_pred[:,1])\n",
        "print(\"log\",round(score_log, 2)*100)"
      ]
    },
    {
      "cell_type": "code",
      "execution_count": null,
      "metadata": {
        "id": "rqRIClZwRW1M"
      },
      "outputs": [],
      "source": [
        "log_reg.fit(X_train, Y_train_spent_time)\n",
        "Y_test = log_reg.predict_proba(X_test)\n",
        "Y_test[:5]"
      ]
    },
    {
      "cell_type": "markdown",
      "metadata": {
        "id": "xpg2_QI0sf3-"
      },
      "source": [
        "# **Случайный лес**"
      ]
    },
    {
      "cell_type": "code",
      "execution_count": null,
      "metadata": {
        "colab": {
          "base_uri": "https://localhost:8080/"
        },
        "id": "SFLcy2m1ssYu",
        "outputId": "829cfd0e-269d-4e60-ea31-d4eb92c192b1"
      },
      "outputs": [
        {
          "name": "stdout",
          "output_type": "stream",
          "text": [
            "Fitting 5 folds for each of 64 candidates, totalling 320 fits\n"
          ]
        }
      ],
      "source": [
        "from sklearn.ensemble import RandomForestClassifier\n",
        "from sklearn.model_selection import cross_val_score, StratifiedKFold, GridSearchCV\n",
        "\n",
        "skf = StratifiedKFold(n_splits=5, shuffle=True, random_state=24)\n",
        "\n",
        "parameters = {'max_features': [3, 4, 10, 14], 'min_samples_leaf': [1, 3, 5, 7], 'max_depth': [5, 10, 15, 20]}\n",
        "rfc = RandomForestClassifier(n_estimators=50, random_state=24, \n",
        "                             n_jobs=8, oob_score=True)\n",
        "gcv = GridSearchCV(rfc, parameters, n_jobs=8, cv=skf, verbose=1)\n",
        "gcv.fit(X_train_log, Y_train_log)"
      ]
    },
    {
      "cell_type": "code",
      "execution_count": null,
      "metadata": {
        "id": "jFsZeQwgvX_u"
      },
      "outputs": [],
      "source": [
        "gcv.best_estimator_, gcv.best_score_"
      ]
    }
  ],
  "metadata": {
    "colab": {
      "collapsed_sections": [],
      "name": "11Задача идентификации взломщика Арефьева Илона ИВТ-21МО.ipynb",
      "provenance": [],
      "authorship_tag": "ABX9TyMy2eoKpfpIvMS+SacFLmJw",
      "include_colab_link": true
    },
    "kernelspec": {
      "display_name": "Python 3",
      "name": "python3"
    },
    "language_info": {
      "name": "python"
    }
  },
  "nbformat": 4,
  "nbformat_minor": 0
}