{
  "cells": [
    {
      "cell_type": "markdown",
      "metadata": {
        "id": "view-in-github",
        "colab_type": "text"
      },
      "source": [
        "<a href=\"https://colab.research.google.com/github/Ilona019/ColabAlice/blob/main/%D0%97%D0%B0%D0%B4%D0%B0%D1%87%D0%B0_%D0%B8%D0%B4%D0%B5%D0%BD%D1%82%D0%B8%D1%84%D0%B8%D0%BA%D0%B0%D1%86%D0%B8%D0%B8_%D0%B2%D0%B7%D0%BB%D0%BE%D0%BC%D1%89%D0%B8%D0%BA%D0%B0_%D0%90%D1%80%D0%B5%D1%84%D1%8C%D0%B5%D0%B2%D0%B0_%D0%98%D0%BB%D0%BE%D0%BD%D0%B0_%D0%98%D0%92%D0%A2_21%D0%9C%D0%9E.ipynb\" target=\"_parent\"><img src=\"https://colab.research.google.com/assets/colab-badge.svg\" alt=\"Open In Colab\"/></a>"
      ]
    },
    {
      "cell_type": "markdown",
      "metadata": {
        "id": "QIEk86LhBQVt"
      },
      "source": [
        "Будем решать задачу идентификации взломщика по его поведению в сети Интернет. Это сложная и интересная задача на стыке анализа данных и поведенческой психологии. В качестве примера, компания Яндекс решает задачу идентификации взломщика почтового ящика по его поведению. В двух словах, взломщик будет себя вести не так, как владелец ящика: он может не удалять сообщения сразу по прочтении, как это делал хозяин, он будет по-другому ставить флажки сообщениям и даже по-своему двигать мышкой. Тогда такого злоумышленника можно идентифицировать и \"выкинуть\" из почтового ящика, предложив хозяину войти по SMS-коду. Этот пилотный проект описан в статье на Хабрахабре. Похожие вещи делаются, например, в Google Analytics и описываются в научных статьях, найти можно многое по фразам \"Traversal Pattern Mining\" и \"Sequential Pattern Mining\".\n",
        "\n",
        "В этом соревновании будем решать похожую задачу: алгоритм будет анализировать последовательность из нескольких веб-сайтов, посещенных подряд одним и тем же человеком, и определять, Элис это или взломщик (кто-то другой).\n",
        "\n",
        "Данные собраны с прокси-серверов Университета Блеза Паскаля. \"A Tool for Classification of Sequential Data\", авторы Giacomo Kahn, Yannick Loiseau и Olivier Raynaud.\n",
        "\n",
        "**Задача – сделать прогнозы для сессий в тестовой выборке (test_sessions.csv), определить, принадлежат ли они Элис. Сделать посылку на kaggle.**\n"
      ]
    },
    {
      "cell_type": "code",
      "execution_count": 21,
      "metadata": {
        "id": "NMU80WPsFtlM"
      },
      "outputs": [],
      "source": [
        "from __future__ import division, print_function\n",
        "import warnings\n",
        "warnings.filterwarnings('ignore')\n",
        "import numpy as np\n",
        "import pandas as pd\n",
        "from scipy.sparse import csr_matrix"
      ]
    },
    {
      "cell_type": "code",
      "execution_count": 22,
      "metadata": {
        "id": "OM6q1VwJv8mY",
        "colab": {
          "base_uri": "https://localhost:8080/"
        },
        "outputId": "47190b5d-e67a-4d54-9b97-e6c00bf87a08"
      },
      "outputs": [
        {
          "output_type": "stream",
          "name": "stdout",
          "text": [
            "Drive already mounted at /content/gdrive; to attempt to forcibly remount, call drive.mount(\"/content/gdrive\", force_remount=True).\n"
          ]
        }
      ],
      "source": [
        "from google.colab import drive\n",
        "drive.mount('/content/gdrive')\n",
        "#подключаю файл из папки Colab на Google диске\n",
        "path_train_data = 'gdrive/My Drive/Colab_files/Catch_me/train_sessions.csv'\n",
        "path_test_data = 'gdrive/My Drive/Colab_files/Catch_me/test_sessions.csv'\n",
        "train_data = pd.read_csv(path_train_data)\n",
        "test_data = pd.read_csv(path_test_data)"
      ]
    },
    {
      "cell_type": "code",
      "execution_count": 23,
      "metadata": {
        "id": "UL1_lE4sT4Rs",
        "colab": {
          "base_uri": "https://localhost:8080/"
        },
        "outputId": "46633c11-caa3-46e3-dec9-5976c04982e3"
      },
      "outputs": [
        {
          "output_type": "stream",
          "name": "stdout",
          "text": [
            "   session_id  site1                time1  ...   site10               time10  target\n",
            "0           1    718  2014-02-20 10:02:45  ...      NaN                  NaN       0\n",
            "1           2    890  2014-02-22 11:19:50  ...   1518.0  2014-02-22 11:20:16       0\n",
            "2           3  14769  2013-12-16 16:40:17  ...  14768.0  2013-12-16 16:40:24       0\n",
            "3           4    782  2014-03-28 10:52:12  ...    782.0  2014-03-28 10:56:42       0\n",
            "4           5     22  2014-02-28 10:53:05  ...    178.0  2014-02-28 10:57:11       0\n",
            "5           6    570  2014-03-18 15:18:31  ...      NaN                  NaN       0\n",
            "6           7    803  2014-02-13 16:45:35  ...  17514.0  2014-02-13 16:47:17       0\n",
            "7           8     22  2013-04-12 10:27:26  ...  14421.0  2013-04-12 10:27:32       0\n",
            "8           9    668  2014-03-17 16:23:08  ...     22.0  2014-03-17 16:23:53       0\n",
            "9          10   3700  2014-02-20 16:09:13  ...   2044.0  2014-02-20 16:10:40       0\n",
            "\n",
            "[10 rows x 22 columns]\n",
            "   session_id  site1  ...   site10               time10\n",
            "0           1     29  ...  15336.0  2014-10-04 11:20:00\n",
            "1           2    782  ...    782.0  2014-07-03 11:01:53\n",
            "2           3     55  ...   1445.0  2014-12-05 15:56:36\n",
            "3           4   1023  ...   3374.0  2014-11-04 10:03:23\n",
            "4           5    301  ...    167.0  2014-05-16 15:05:44\n",
            "5           6   1218  ...   1220.0  2014-12-05 11:21:53\n",
            "6           7  43986  ...  43986.0  2014-05-21 14:11:08\n",
            "7           8   3346  ...      NaN                  NaN\n",
            "8           9   1062  ...    292.0  2014-06-05 10:25:54\n",
            "9          10     77  ...     77.0  2014-05-02 11:48:51\n",
            "\n",
            "[10 rows x 21 columns]\n"
          ]
        }
      ],
      "source": [
        "print(train_data.head(n=10))\n",
        "print(test_data.head(n=10))"
      ]
    },
    {
      "cell_type": "code",
      "execution_count": 24,
      "metadata": {
        "id": "DURZG0Y_upY3",
        "colab": {
          "base_uri": "https://localhost:8080/"
        },
        "outputId": "70b01127-c6f1-440c-c40e-be8b3f2ef214"
      },
      "outputs": [
        {
          "output_type": "stream",
          "name": "stdout",
          "text": [
            "<class 'pandas.core.frame.DataFrame'>\n",
            "RangeIndex: 253561 entries, 0 to 253560\n",
            "Data columns (total 22 columns):\n",
            " #   Column      Non-Null Count   Dtype  \n",
            "---  ------      --------------   -----  \n",
            " 0   session_id  253561 non-null  int64  \n",
            " 1   site1       253561 non-null  int64  \n",
            " 2   time1       253561 non-null  object \n",
            " 3   site2       250098 non-null  float64\n",
            " 4   time2       250098 non-null  object \n",
            " 5   site3       246919 non-null  float64\n",
            " 6   time3       246919 non-null  object \n",
            " 7   site4       244321 non-null  float64\n",
            " 8   time4       244321 non-null  object \n",
            " 9   site5       241829 non-null  float64\n",
            " 10  time5       241829 non-null  object \n",
            " 11  site6       239495 non-null  float64\n",
            " 12  time6       239495 non-null  object \n",
            " 13  site7       237297 non-null  float64\n",
            " 14  time7       237297 non-null  object \n",
            " 15  site8       235224 non-null  float64\n",
            " 16  time8       235224 non-null  object \n",
            " 17  site9       233084 non-null  float64\n",
            " 18  time9       233084 non-null  object \n",
            " 19  site10      231052 non-null  float64\n",
            " 20  time10      231052 non-null  object \n",
            " 21  target      253561 non-null  int64  \n",
            "dtypes: float64(9), int64(3), object(10)\n",
            "memory usage: 42.6+ MB\n",
            "<class 'pandas.core.frame.DataFrame'>\n",
            "RangeIndex: 82797 entries, 0 to 82796\n",
            "Data columns (total 21 columns):\n",
            " #   Column      Non-Null Count  Dtype  \n",
            "---  ------      --------------  -----  \n",
            " 0   session_id  82797 non-null  int64  \n",
            " 1   site1       82797 non-null  int64  \n",
            " 2   time1       82797 non-null  object \n",
            " 3   site2       81308 non-null  float64\n",
            " 4   time2       81308 non-null  object \n",
            " 5   site3       80075 non-null  float64\n",
            " 6   time3       80075 non-null  object \n",
            " 7   site4       79182 non-null  float64\n",
            " 8   time4       79182 non-null  object \n",
            " 9   site5       78341 non-null  float64\n",
            " 10  time5       78341 non-null  object \n",
            " 11  site6       77566 non-null  float64\n",
            " 12  time6       77566 non-null  object \n",
            " 13  site7       76840 non-null  float64\n",
            " 14  time7       76840 non-null  object \n",
            " 15  site8       76151 non-null  float64\n",
            " 16  time8       76151 non-null  object \n",
            " 17  site9       75484 non-null  float64\n",
            " 18  time9       75484 non-null  object \n",
            " 19  site10      74806 non-null  float64\n",
            " 20  time10      74806 non-null  object \n",
            "dtypes: float64(9), int64(2), object(10)\n",
            "memory usage: 13.3+ MB\n"
          ]
        }
      ],
      "source": [
        "train_data.info()\n",
        "test_data.info()"
      ]
    },
    {
      "cell_type": "code",
      "execution_count": 25,
      "metadata": {
        "id": "e2QSlx6H7E5Z",
        "colab": {
          "base_uri": "https://localhost:8080/"
        },
        "outputId": "f0c13c17-e4e7-4c75-bfd7-a02ca32bb10c"
      },
      "outputs": [
        {
          "output_type": "stream",
          "name": "stdout",
          "text": [
            "object     10\n",
            "float64     9\n",
            "int64       3\n",
            "dtype: int64\n",
            "object     10\n",
            "float64     9\n",
            "int64       2\n",
            "dtype: int64\n",
            "Размерность train и test: (253561, 22) (82797, 21)\n",
            "21       13874\n",
            "23        9244\n",
            "782       7769\n",
            "29        5501\n",
            "22        5434\n",
            "         ...  \n",
            "40160        1\n",
            "8884         1\n",
            "17080        1\n",
            "18402        1\n",
            "19130        1\n",
            "Name: site1, Length: 15765, dtype: int64\n"
          ]
        }
      ],
      "source": [
        "sites_header = ['site%s' % i for i in range(1, 11)]\n",
        "time_header = ['time%s' % i for i in range(1, 11)]\n",
        "# Посмотрим на типы данных колонок\n",
        "print(train_data.dtypes.value_counts())\n",
        "print(test_data.dtypes.value_counts())\n",
        "# Размерность DataFrame\n",
        "print('Размерность train и test:', train_data.shape, test_data.shape,)\n",
        "print(train_data['site1'].value_counts(dropna = False))"
      ]
    },
    {
      "cell_type": "markdown",
      "metadata": {
        "id": "vTarVCpq4x83"
      },
      "source": [
        "# **Предобработка**"
      ]
    },
    {
      "cell_type": "code",
      "execution_count": 26,
      "metadata": {
        "id": "_l6lioz64eKv",
        "colab": {
          "base_uri": "https://localhost:8080/"
        },
        "outputId": "20773da6-dd3b-4b4b-d6e0-2e353cc4802b"
      },
      "outputs": [
        {
          "output_type": "stream",
          "name": "stdout",
          "text": [
            "Empty DataFrame\n",
            "Columns: [session_id, site1, time1, site2, time2, site3, time3, site4, time4, site5, time5, site6, time6, site7, time7, site8, time8, site9, time9, site10, time10, target]\n",
            "Index: []\n",
            "Empty DataFrame\n",
            "Columns: [session_id, site1, time1, site2, time2, site3, time3, site4, time4, site5, time5, site6, time6, site7, time7, site8, time8, site9, time9, site10, time10]\n",
            "Index: []\n"
          ]
        }
      ],
      "source": [
        "# Заменим значения NA/NAN -> 0, преобразуем к int \n",
        "train_data[sites_header] = train_data[sites_header].fillna(0).astype('int')\n",
        "test_data[sites_header] = test_data[sites_header].fillna(0).astype('int')\n",
        "\n",
        "train_data[time_header] = train_data[time_header].fillna(0)\n",
        "test_data[time_header] = test_data[time_header].fillna(0)\n",
        "train_data[time_header]\n",
        "\n",
        "# Дубликатов нет\n",
        "print(train_data[train_data.duplicated() == True])\n",
        "print(test_data[test_data.duplicated() == True])"
      ]
    },
    {
      "cell_type": "code",
      "execution_count": 27,
      "metadata": {
        "id": "L9wo7sY06TCX",
        "colab": {
          "base_uri": "https://localhost:8080/"
        },
        "outputId": "274beffe-7450-4a53-8674-07c254652c66"
      },
      "outputs": [
        {
          "output_type": "stream",
          "name": "stdout",
          "text": [
            "        session_id  site1  ... site10               time10\n",
            "0                1    718  ...      0                    0\n",
            "1                2    890  ...   1518  2014-02-22 11:20:16\n",
            "2                3  14769  ...  14768  2013-12-16 16:40:24\n",
            "3                4    782  ...    782  2014-03-28 10:56:42\n",
            "4                5     22  ...    178  2014-02-28 10:57:11\n",
            "...            ...    ...  ...    ...                  ...\n",
            "253556      253557   3474  ...    148  2013-11-25 10:27:53\n",
            "253557      253558  12727  ...     21  2013-03-12 16:01:18\n",
            "253558      253559   2661  ...      0                    0\n",
            "253559      253560    812  ...    570  2013-12-19 15:20:24\n",
            "253560      253561  34942  ...     33  2014-04-25 09:56:55\n",
            "\n",
            "[253561 rows x 21 columns]\n"
          ]
        }
      ],
      "source": [
        " y_train = train_data['target'].values\n",
        " X_train = train_data.drop('target', axis=1)\n",
        " print(X_train)"
      ]
    },
    {
      "cell_type": "markdown",
      "metadata": {
        "id": "o6c24KIiLzvI"
      },
      "source": [
        ""
      ]
    },
    {
      "cell_type": "code",
      "execution_count": 28,
      "metadata": {
        "id": "RnnJDoS2KObv"
      },
      "outputs": [],
      "source": [
        "train_data[sites_header].to_csv('preprocessing_train_set_sites.txt', sep=' ', index=None, header=None);\n",
        "test_data[sites_header].to_csv('preprocessing_test_set_sites.txt', sep=' ', index=None, header=None);\n",
        "from sklearn.feature_extraction.text import CountVectorizer\n",
        "count_vertorizer = CountVectorizer(ngram_range=(1, 3), max_features=50000)"
      ]
    },
    {
      "cell_type": "code",
      "execution_count": 29,
      "metadata": {
        "id": "7LHuMp8DMqM3",
        "colab": {
          "base_uri": "https://localhost:8080/"
        },
        "outputId": "b730832a-3125-4c98-f4e2-8acfaae475a7"
      },
      "outputs": [
        {
          "output_type": "stream",
          "name": "stdout",
          "text": [
            "(253561, 50000) (82797, 50000)\n"
          ]
        }
      ],
      "source": [
        "train_sites = open('preprocessing_train_set_sites.txt')\n",
        "test_sites = open('preprocessing_test_set_sites.txt')\n",
        "X_train = count_vertorizer.fit_transform(train_sites)\n",
        "X_test = count_vertorizer.transform(test_sites)\n",
        "print(X_train.shape, X_test.shape)"
      ]
    },
    {
      "cell_type": "markdown",
      "metadata": {
        "id": "1MNEgVvobaMq"
      },
      "source": [
        "# **Логистическая регрессия**"
      ]
    },
    {
      "cell_type": "code",
      "execution_count": 30,
      "metadata": {
        "id": "t1FsHThC8SCw",
        "colab": {
          "base_uri": "https://localhost:8080/"
        },
        "outputId": "b08c68e6-5333-4a1b-8b60-0701d2a931c9"
      },
      "outputs": [
        {
          "output_type": "stream",
          "name": "stdout",
          "text": [
            "100000 Score:  0.9936167500325541\n",
            "125000 Score:  0.9936152950480328\n",
            "200000 Score:  0.9943896927790449\n"
          ]
        }
      ],
      "source": [
        "from sklearn.linear_model import LogisticRegression\n",
        "from sklearn.metrics import roc_auc_score\n",
        "\n",
        "def calculate_quality_of_model(lr, X, y, split_ind):\n",
        "  y_pred = lr.predict_proba(X[split_ind:, :])[:, 1]\n",
        "  return roc_auc_score(y[split_ind:], y_pred)\n",
        "\n",
        "lr = LogisticRegression(C=1.0, random_state=24, solver='saga', max_iter=500).fit(X_train, y_train)\n",
        "\n",
        "print('100000 Score: ', calculate_quality_of_model(lr, X_train, y_train, 100000))\n",
        "print('125000 Score: ', calculate_quality_of_model(lr, X_train, y_train, 125000))\n",
        "print('200000 Score: ', calculate_quality_of_model(lr, X_train, y_train, 200000))"
      ]
    },
    {
      "cell_type": "markdown",
      "metadata": {
        "id": "LkTiAoh9brfC"
      },
      "source": [
        "# Выделение новых признаков по времени посещения сайтов"
      ]
    },
    {
      "cell_type": "code",
      "execution_count": 31,
      "metadata": {
        "id": "4gI0LTIVkQVd",
        "colab": {
          "base_uri": "https://localhost:8080/"
        },
        "outputId": "249dce0b-5f16-497e-e7ce-232472940f27"
      },
      "outputs": [
        {
          "output_type": "stream",
          "name": "stdout",
          "text": [
            "   target    time_diff1  time_diff2  ...  day_of_week  month  count_unique_sites\n",
            "0       0 -1.392891e+09         0.0  ...            3      2                   1\n",
            "1       0  0.000000e+00         1.0  ...            5      2                   7\n",
            "2       0  1.000000e+00         1.0  ...            0     12                   4\n",
            "3       0  3.000000e+01        30.0  ...            4      3                   1\n",
            "4       0  1.370000e+02         0.0  ...            4      2                   4\n",
            "\n",
            "[5 rows x 15 columns]\n"
          ]
        }
      ],
      "source": [
        "# Датафрейм для записи новых признаков времени\n",
        "spent_time_data = pd.DataFrame()\n",
        "\n",
        "times = train_data[['time%s' % i for i in range(1, 11)]]\n",
        "sites = train_data[['site%s' % i for i in range(1, 11)]].fillna(0).astype(int).values\n",
        "\n",
        "for header_index in range(1, 10):\n",
        "    spent_time_data['target'] = train_data['target']\n",
        "    spent_time_data['time_diff{}'.format(header_index)] = (pd.to_datetime(times['time{}'.format(header_index + 1)]) - \n",
        "                        pd.to_datetime(times['time{}'.format(header_index)])).dt.total_seconds().fillna(0)\n",
        "\n",
        "# Сумма по строкам датафрейма - время сессии\n",
        "spent_time_data['session_time'] = np.sum(spent_time_data, axis=1)\n",
        "# Выделим столбец для начала работы в интернете\n",
        "spent_time_data['hour'] = pd.to_datetime(times['time1']).dt.hour\n",
        "# Выделим столбец для определения дня недели\n",
        "spent_time_data['day_of_week'] = pd.to_datetime(times['time1']).dt.weekday\n",
        "# Выделим столбец для месяца\n",
        "spent_time_data['month'] = pd.to_datetime(times['time1']).dt.month\n",
        "# Посчитаем количество уникальных посещенных сайтов\n",
        "spent_time_data['count_unique_sites'] = [len(np.unique(session[session != 0])) for session in sites]\n",
        "print(spent_time_data.head())"
      ]
    },
    {
      "cell_type": "code",
      "execution_count": 32,
      "metadata": {
        "id": "JdbnC8xe2bQM",
        "colab": {
          "base_uri": "https://localhost:8080/",
          "height": 1000
        },
        "outputId": "87c18d22-d95f-43b0-aeff-340c609a325a"
      },
      "outputs": [
        {
          "output_type": "execute_result",
          "data": {
            "text/plain": [
              "Text(0.5, 1.0, 'Сессии Элис')"
            ]
          },
          "metadata": {},
          "execution_count": 32
        },
        {
          "output_type": "display_data",
          "data": {
            "image/png": "[encoded data removed]",
            "text/plain": [
              "<Figure size 1000x600 with 1 Axes>"
            ]
          },
          "metadata": {
            "needs_background": "light"
          }
        },
        {
          "output_type": "display_data",
          "data": {
            "image/png": "[encoded data removed]",
            "text/plain": [
              "<Figure size 1000x600 with 1 Axes>"
            ]
          },
          "metadata": {
            "needs_background": "light"
          }
        }
      ],
      "source": [
        "import matplotlib\n",
        "import matplotlib.pyplot as plt\n",
        "import seaborn as sns\n",
        "plt.figure(figsize=(10, 6), dpi=100)\n",
        "sns.countplot(x=spent_time_data['hour'], data=spent_time_data, hue='target')\n",
        "plt.xlabel('Время посещения первого сайта')\n",
        "plt.title('Распределение сессий по часу начала')\n",
        "\n",
        "plt.figure(figsize=(10, 6), dpi=100)\n",
        "plt.ylim(0, 1100)\n",
        "sns.countplot(x=spent_time_data['hour'], data=spent_time_data, hue='target')\n",
        "plt.ylabel('Кол-во сессий')\n",
        "plt.xlabel('Время посещения первого сайта')\n",
        "plt.title('Сессии Элис')"
      ]
    },
    {
      "cell_type": "markdown",
      "metadata": {
        "id": "opxQVODn8ULE"
      },
      "source": [
        "Активность Элис в интернете с 12 до 13 часов и с 16 до 18 часов. Изредка появлялась в 9 и 15 часов. "
      ]
    },
    {
      "cell_type": "code",
      "execution_count": 33,
      "metadata": {
        "id": "z8IM3q2286Ij",
        "colab": {
          "base_uri": "https://localhost:8080/",
          "height": 1000
        },
        "outputId": "37df4046-cf56-496f-fcb5-415e32c21b0d"
      },
      "outputs": [
        {
          "output_type": "execute_result",
          "data": {
            "text/plain": [
              "Text(0.5, 1.0, 'Сессии Элис')"
            ]
          },
          "metadata": {},
          "execution_count": 33
        },
        {
          "output_type": "display_data",
          "data": {
            "image/png": "[encoded data removed]",
            "text/plain": [
              "<Figure size 1000x600 with 1 Axes>"
            ]
          },
          "metadata": {
            "needs_background": "light"
          }
        },
        {
          "output_type": "display_data",
          "data": {
            "image/png": "[encoded data removed]",
            "text/plain": [
              "<Figure size 1000x600 with 1 Axes>"
            ]
          },
          "metadata": {
            "needs_background": "light"
          }
        }
      ],
      "source": [
        "plt.figure(figsize=(10, 6), dpi=100)\n",
        "sns.countplot(x=spent_time_data['day_of_week'], data=spent_time_data, hue='target')\n",
        "plt.ylabel('Кол-во сессий')\n",
        "plt.xlabel('День недели')\n",
        "plt.grid()\n",
        "plt.title('Распределение посещений по дням недели')\n",
        "\n",
        "plt.figure(figsize=(10, 6), dpi=100)\n",
        "plt.ylim(0, 1000)\n",
        "sns.countplot(x=spent_time_data['day_of_week'], data=spent_time_data, hue='target')\n",
        "plt.ylabel('Кол-во сессий')\n",
        "plt.xlabel('День недели')\n",
        "plt.grid()\n",
        "plt.title('Сессии Элис')"
      ]
    },
    {
      "cell_type": "markdown",
      "metadata": {
        "id": "9G_j38_iDMUb"
      },
      "source": [
        "Элис пользуется интернетом все дни, кроме вс. Небольшая активность в ср и сб."
      ]
    },
    {
      "cell_type": "code",
      "execution_count": 34,
      "metadata": {
        "id": "dLnTBS6sD1QF",
        "colab": {
          "base_uri": "https://localhost:8080/",
          "height": 1000
        },
        "outputId": "9257ac3b-08cc-43bb-e5ab-bdf296c82788"
      },
      "outputs": [
        {
          "output_type": "execute_result",
          "data": {
            "text/plain": [
              "Text(0.5, 1.0, 'Сессии Элис')"
            ]
          },
          "metadata": {},
          "execution_count": 34
        },
        {
          "output_type": "display_data",
          "data": {
            "image/png": "[encoded data removed]",
            "text/plain": [
              "<Figure size 1000x600 with 1 Axes>"
            ]
          },
          "metadata": {
            "needs_background": "light"
          }
        },
        {
          "output_type": "display_data",
          "data": {
            "image/png": "[encoded data removed]",
            "text/plain": [
              "<Figure size 1000x600 with 1 Axes>"
            ]
          },
          "metadata": {
            "needs_background": "light"
          }
        }
      ],
      "source": [
        "plt.figure(figsize=(10, 6), dpi=100)\n",
        "sns.countplot(x=spent_time_data['month'], data=spent_time_data, hue='target')\n",
        "plt.ylabel('Кол-во сессий')\n",
        "plt.xlabel('Месяц')\n",
        "plt.title('Распределение посещений по месяцам')\n",
        "\n",
        "plt.figure(figsize=(10, 6), dpi=100)\n",
        "plt.ylim(0, 500)\n",
        "sns.countplot(x=spent_time_data['month'], data=spent_time_data, hue='target')\n",
        "plt.ylabel('Кол-во сессий')\n",
        "plt.xlabel('Месяц')\n",
        "plt.title('Сессии Элис')"
      ]
    },
    {
      "cell_type": "markdown",
      "metadata": {
        "id": "ysw44KC4EgNw"
      },
      "source": [
        "Наименьшая активность Элис с мая по август и в ноябре."
      ]
    },
    {
      "cell_type": "code",
      "execution_count": 35,
      "metadata": {
        "id": "f-BMKwb_E4or",
        "colab": {
          "base_uri": "https://localhost:8080/",
          "height": 1000
        },
        "outputId": "f003069f-8cee-4eeb-e3a6-7fdbd29d1682"
      },
      "outputs": [
        {
          "output_type": "execute_result",
          "data": {
            "text/plain": [
              "Text(0.5, 1.0, 'Сессии Элис')"
            ]
          },
          "metadata": {},
          "execution_count": 35
        },
        {
          "output_type": "display_data",
          "data": {
            "image/png": "[encoded data removed]",
            "text/plain": [
              "<Figure size 1000x600 with 1 Axes>"
            ]
          },
          "metadata": {
            "needs_background": "light"
          }
        },
        {
          "output_type": "display_data",
          "data": {
            "image/png": "[encoded data removed]",
            "text/plain": [
              "<Figure size 1000x600 with 1 Axes>"
            ]
          },
          "metadata": {
            "needs_background": "light"
          }
        }
      ],
      "source": [
        "plt.figure(figsize=(10, 6), dpi=100)\n",
        "sns.countplot(x=spent_time_data['count_unique_sites'], data=spent_time_data, hue='target')\n",
        "plt.ylabel('Кол-во посещений')\n",
        "plt.xlabel('Сайт')\n",
        "plt.title('График посещений уникального сайта')\n",
        "\n",
        "plt.figure(figsize=(10, 6), dpi=100)\n",
        "plt.ylim(0, 500) \n",
        "sns.countplot(x=spent_time_data['count_unique_sites'], data=spent_time_data, hue='target')\n",
        "plt.ylabel('Кол-во посещений')\n",
        "plt.xlabel('Сайт')\n",
        "plt.title('Сессии Элис') "
      ]
    },
    {
      "cell_type": "markdown",
      "metadata": {
        "id": "tDr93PsiFXEc"
      },
      "source": [
        "Элис посещает все теже сайты что и другие люди (злоумышленник)."
      ]
    },
    {
      "cell_type": "markdown",
      "metadata": {
        "id": "FtmTB6p2F4op"
      },
      "source": [
        "Таким образом, есть смысл анализировать признаки:\n",
        "\n",
        "*   время просмотра первого сайта\n",
        "*   день недели\n",
        "*   месяц"
      ]
    },
    {
      "cell_type": "code",
      "execution_count": 36,
      "metadata": {
        "id": "gAf55ZaZKjh5",
        "colab": {
          "base_uri": "https://localhost:8080/"
        },
        "outputId": "9bf05d83-bf9f-4b31-e4a8-ab96f2c8636b"
      },
      "outputs": [
        {
          "output_type": "stream",
          "name": "stdout",
          "text": [
            "   time_diff1  time_diff2  time_diff3  ...  day_of_week  month  count_unique_sites\n",
            "0         0.0         1.0         0.0  ...            5     10                  10\n",
            "1        25.0         5.0         8.0  ...            3      7                   1\n",
            "2         1.0         1.0        61.0  ...            4     12                   2\n",
            "3         0.0         1.0         1.0  ...            1     11                   7\n",
            "4         1.0         1.0         6.0  ...            4      5                   8\n",
            "\n",
            "[5 rows x 14 columns]\n"
          ]
        }
      ],
      "source": [
        "# Тестовая выборка с новыми признаками\n",
        "test = pd.DataFrame()\n",
        "\n",
        "time_test = test_data[['time%s' % i for i in range(1, 11)]]\n",
        "sites_test = test_data[['site%s' % i for i in range(1, 11)]].fillna(0).astype(int).values\n",
        "\n",
        "for header_index in range(1, 10):\n",
        "    test['time_diff{}'.format(header_index)] = (pd.to_datetime(time_test['time{}'.format(header_index + 1)]) - \n",
        "                        pd.to_datetime(time_test['time{}'.format(header_index)])).dt.total_seconds().fillna(0)\n",
        "   \n",
        "test['session_time'] = np.sum(test, axis=1)\n",
        "test['hour'] = pd.to_datetime(time_test['time1']).dt.hour\n",
        "test['day_of_week'] = pd.to_datetime(time_test['time1']).dt.weekday\n",
        "test['month'] = pd.to_datetime(time_test['time1']).dt.month\n",
        "test['count_unique_sites'] = [len(np.unique(session[session != 0])) for session in sites_test]\n",
        "\n",
        "print(test.head())"
      ]
    },
    {
      "cell_type": "code",
      "execution_count": 37,
      "metadata": {
        "id": "Bmg7ozg0MIdb"
      },
      "outputs": [],
      "source": [
        "# Сформируем колонки целевых признаков для новых данных\n",
        "spent_time_data['target_hour'] = np.where(((spent_time_data['hour']>=12) & (spent_time_data['hour']<=13)) | ((spent_time_data['hour']>=16) & (spent_time_data['hour']<=18)), 0, 1)\n",
        "test['target_hour'] = np.where(((test['hour']>=12) & (test['hour']<=13)) | ((test['hour']>=16) & (test['hour']<=18)), 1, 0)\n",
        "\n",
        "spent_time_data['target_week_day'] = np.where((spent_time_data['day_of_week']==5) | (spent_time_data['day_of_week']==6), 1, 0)\n",
        "test['target_week_day'] = np.where((test['day_of_week']==5) | (test['day_of_week']==6), 1, 0)\n",
        "\n",
        "spent_time_data['target_month'] = np.where(((spent_time_data['month']>=5) & (spent_time_data['month']<=8)), 1, 0)\n",
        "test['target_month'] = np.where(((test['month']>=5) & (test['month']<=8)), 1, 0)\n",
        "\n",
        "target_train = spent_time_data[['target_hour', 'target_week_day','target_month']]\n",
        "target_test = test[['target_hour', 'target_week_day','target_month']]"
      ]
    },
    {
      "cell_type": "code",
      "execution_count": 38,
      "metadata": {
        "id": "0_CL5nGCNta_",
        "colab": {
          "base_uri": "https://localhost:8080/"
        },
        "outputId": "20748115-159a-412e-a2bb-34015a050e3a"
      },
      "outputs": [
        {
          "output_type": "execute_result",
          "data": {
            "text/plain": [
              "LogisticRegression(max_iter=500, random_state=24)"
            ]
          },
          "metadata": {},
          "execution_count": 38
        }
      ],
      "source": [
        "Y_train_spent_time = spent_time_data['target'].values\n",
        "from sklearn.model_selection import train_test_split\n",
        "X_train_log, X_valid_log, Y_train_log, Y_valid_log = train_test_split(X_train, Y_train_spent_time, test_size=0.1, random_state=24)\n",
        "log_reg = LogisticRegression(C=1.0, random_state=24, solver='lbfgs', max_iter=500)\n",
        "log_reg.fit(X_train_log, Y_train_log)"
      ]
    },
    {
      "cell_type": "code",
      "execution_count": 39,
      "metadata": {
        "id": "PuC917NFRH2J",
        "colab": {
          "base_uri": "https://localhost:8080/"
        },
        "outputId": "e0ebd620-5857-472c-c0c1-c0f4772b77fd"
      },
      "outputs": [
        {
          "output_type": "stream",
          "name": "stdout",
          "text": [
            "log 96.0\n"
          ]
        }
      ],
      "source": [
        "y_pred = log_reg.predict_proba(X_valid_log)\n",
        "from sklearn.metrics import roc_auc_score\n",
        "score_log = roc_auc_score(Y_valid_log, y_pred[:,1])\n",
        "print(\"log\",round(score_log, 2)*100)"
      ]
    },
    {
      "cell_type": "code",
      "execution_count": 40,
      "metadata": {
        "id": "rqRIClZwRW1M",
        "colab": {
          "base_uri": "https://localhost:8080/"
        },
        "outputId": "20f83080-50aa-441a-f1a8-5ecd9ba938f5"
      },
      "outputs": [
        {
          "output_type": "execute_result",
          "data": {
            "text/plain": [
              "array([[9.98552672e-01, 1.44732836e-03],\n",
              "       [9.99999980e-01, 1.95872065e-08],\n",
              "       [9.99999952e-01, 4.84310610e-08],\n",
              "       [9.99999887e-01, 1.13096850e-07],\n",
              "       [9.99989614e-01, 1.03857771e-05]])"
            ]
          },
          "metadata": {},
          "execution_count": 40
        }
      ],
      "source": [
        "log_reg.fit(X_train, Y_train_spent_time)\n",
        "Y_test = log_reg.predict_proba(X_test)\n",
        "Y_test[:5]"
      ]
    },
    {
      "cell_type": "code",
      "source": [
        "!pip install catboost\n",
        "from catboost import CatBoostClassifier"
      ],
      "metadata": {
        "colab": {
          "base_uri": "https://localhost:8080/"
        },
        "id": "sZPbO1_KAevw",
        "outputId": "1d966178-996f-444d-9b2d-291444dfe6b1"
      },
      "execution_count": 46,
      "outputs": [
        {
          "output_type": "stream",
          "name": "stdout",
          "text": [
            "Requirement already satisfied: catboost in /usr/local/lib/python3.7/dist-packages (1.0.3)\n",
            "Requirement already satisfied: six in /usr/local/lib/python3.7/dist-packages (from catboost) (1.15.0)\n",
            "Requirement already satisfied: plotly in /usr/local/lib/python3.7/dist-packages (from catboost) (4.4.1)\n",
            "Requirement already satisfied: pandas>=0.24.0 in /usr/local/lib/python3.7/dist-packages (from catboost) (1.1.5)\n",
            "Requirement already satisfied: scipy in /usr/local/lib/python3.7/dist-packages (from catboost) (1.4.1)\n",
            "Requirement already satisfied: matplotlib in /usr/local/lib/python3.7/dist-packages (from catboost) (3.2.2)\n",
            "Requirement already satisfied: graphviz in /usr/local/lib/python3.7/dist-packages (from catboost) (0.10.1)\n",
            "Requirement already satisfied: numpy>=1.16.0 in /usr/local/lib/python3.7/dist-packages (from catboost) (1.19.5)\n",
            "Requirement already satisfied: pytz>=2017.2 in /usr/local/lib/python3.7/dist-packages (from pandas>=0.24.0->catboost) (2018.9)\n",
            "Requirement already satisfied: python-dateutil>=2.7.3 in /usr/local/lib/python3.7/dist-packages (from pandas>=0.24.0->catboost) (2.8.2)\n",
            "Requirement already satisfied: kiwisolver>=1.0.1 in /usr/local/lib/python3.7/dist-packages (from matplotlib->catboost) (1.3.2)\n",
            "Requirement already satisfied: cycler>=0.10 in /usr/local/lib/python3.7/dist-packages (from matplotlib->catboost) (0.11.0)\n",
            "Requirement already satisfied: pyparsing!=2.0.4,!=2.1.2,!=2.1.6,>=2.0.1 in /usr/local/lib/python3.7/dist-packages (from matplotlib->catboost) (3.0.6)\n",
            "Requirement already satisfied: retrying>=1.3.3 in /usr/local/lib/python3.7/dist-packages (from plotly->catboost) (1.3.3)\n"
          ]
        }
      ]
    },
    {
      "cell_type": "code",
      "source": [
        "SEED = 5\n",
        "X_train, X_valid, y_train, Y_valid = train_test_split(X_train, y_train, test_size=0.25, random_state=SEED)\n",
        "params = {'loss_function':'Logloss',\n",
        "          'eval_metric': 'AUC', \n",
        "          'verbose': 300,\n",
        "          'random_seed': SEED\n",
        "         }\n",
        "cbc_1 = CatBoostClassifier(**params)\n",
        "cbc_1.fit(X_train, y_train, \n",
        "          eval_set=(X_valid, Y_valid), \n",
        "          use_best_model=True, \n",
        "          plot=True \n",
        "         );"
      ],
      "metadata": {
        "colab": {
          "base_uri": "https://localhost:8080/",
          "height": 208,
          "referenced_widgets": [
            "c9bda42832a04d35a2d4595b0f9bc7f9"
          ]
        },
        "id": "t11BvNTKBbuf",
        "outputId": "f8f3a477-de04-4499-82a0-7469df03d800"
      },
      "execution_count": 59,
      "outputs": [
        {
          "output_type": "stream",
          "name": "stderr",
          "text": [
            "Custom logger is already specified. Specify more than one logger at same time is not thread safe."
          ]
        },
        {
          "output_type": "display_data",
          "data": {
            "application/vnd.jupyter.widget-view+json": {
              "model_id": "c9bda42832a04d35a2d4595b0f9bc7f9",
              "version_minor": 0,
              "version_major": 2
            },
            "text/plain": [
              "MetricVisualizer(layout=Layout(align_self='stretch', height='500px'))"
            ]
          },
          "metadata": {}
        },
        {
          "output_type": "stream",
          "name": "stdout",
          "text": [
            "Learning rate set to 0.049375\n",
            "0:\ttest: 0.5120664\tbest: 0.5120664 (0)\ttotal: 75.3ms\tremaining: 1m 15s\n",
            "300:\ttest: 0.8596491\tbest: 0.8619777 (149)\ttotal: 20.7s\tremaining: 48s\n",
            "600:\ttest: 0.8597947\tbest: 0.8619777 (149)\ttotal: 41.8s\tremaining: 27.7s\n",
            "900:\ttest: 0.8821942\tbest: 0.8844831 (647)\ttotal: 1m 3s\tremaining: 7.02s\n",
            "999:\ttest: 0.8822471\tbest: 0.8844831 (647)\ttotal: 1m 11s\tremaining: 0us\n",
            "\n",
            "bestTest = 0.884483078\n",
            "bestIteration = 647\n",
            "\n",
            "Shrink model to first 648 iterations.\n"
          ]
        }
      ]
    },
    {
      "cell_type": "code",
      "source": [
        "CatBoostClassifier?"
      ],
      "metadata": {
        "id": "gvZlwP7_CcGt"
      },
      "execution_count": 48,
      "outputs": []
    },
    {
      "cell_type": "markdown",
      "metadata": {
        "id": "xpg2_QI0sf3-"
      },
      "source": [
        "# **Случайный лес**"
      ]
    },
    {
      "cell_type": "code",
      "execution_count": 60,
      "metadata": {
        "colab": {
          "base_uri": "https://localhost:8080/"
        },
        "id": "SFLcy2m1ssYu",
        "outputId": "7ba43519-f1b1-4ded-ca95-903cdb2b3bf8"
      },
      "outputs": [
        {
          "output_type": "stream",
          "name": "stdout",
          "text": [
            "Fitting 5 folds for each of 36 candidates, totalling 180 fits\n"
          ]
        },
        {
          "output_type": "execute_result",
          "data": {
            "text/plain": [
              "GridSearchCV(cv=StratifiedKFold(n_splits=5, random_state=24, shuffle=True),\n",
              "             estimator=RandomForestClassifier(n_estimators=50, n_jobs=8,\n",
              "                                              oob_score=True, random_state=24),\n",
              "             n_jobs=8,\n",
              "             param_grid={'max_depth': [5, 10, 15, 20],\n",
              "                         'max_features': [4, 10, 14],\n",
              "                         'min_samples_leaf': [3, 5, 7]},\n",
              "             verbose=1)"
            ]
          },
          "metadata": {},
          "execution_count": 60
        }
      ],
      "source": [
        "from sklearn.ensemble import RandomForestClassifier\n",
        "from sklearn.model_selection import cross_val_score, StratifiedKFold, GridSearchCV\n",
        "\n",
        "skf = StratifiedKFold(n_splits=5, shuffle=True, random_state=24)\n",
        "\n",
        "parameters = {'max_features': [4, 10, 14], 'min_samples_leaf': [3, 5, 7], 'max_depth': [5, 10, 15, 20]}\n",
        "rfc = RandomForestClassifier(n_estimators=50, random_state=24, \n",
        "                             n_jobs=8, oob_score=True)\n",
        "gcv = GridSearchCV(rfc, parameters, n_jobs=8, cv=skf, verbose=1)\n",
        "gcv.fit(X_train_log, Y_train_log)"
      ]
    },
    {
      "cell_type": "code",
      "execution_count": 61,
      "metadata": {
        "id": "jFsZeQwgvX_u",
        "colab": {
          "base_uri": "https://localhost:8080/"
        },
        "outputId": "218726d5-5f64-4111-be26-26866c19cb97"
      },
      "outputs": [
        {
          "output_type": "execute_result",
          "data": {
            "text/plain": [
              "(RandomForestClassifier(max_depth=5, max_features=4, min_samples_leaf=3,\n",
              "                        n_estimators=50, n_jobs=8, oob_score=True,\n",
              "                        random_state=24), 0.9907538868724384)"
            ]
          },
          "metadata": {},
          "execution_count": 61
        }
      ],
      "source": [
        "gcv.best_estimator_, gcv.best_score_"
      ]
    },
    {
      "cell_type": "markdown",
      "source": [
        "# Таким образом, лучше всего показала модель RandomForestClassifier\n",
        "с точностью 0.9907538868724384 и параметрами:\n",
        "\n",
        "*   max_depth=5\n",
        "*   max_features=4\n",
        "*   min_samples_leaf=3\n",
        "*    n_estimators=50\n",
        "*   n_jobs=8\n",
        "*   oob_score=True\n",
        "\n"
      ],
      "metadata": {
        "id": "hlYpurcnL4zg"
      }
    }
  ],
  "metadata": {
    "colab": {
      "collapsed_sections": [],
      "name": " Задача идентификации взломщика Арефьева Илона ИВТ-21МО.ipynb",
      "provenance": [],
      "authorship_tag": "ABX9TyNuJc7BB99NzL5Bnz/zxeyE",
      "include_colab_link": true
    },
    "kernelspec": {
      "display_name": "Python 3",
      "name": "python3"
    },
    "language_info": {
      "name": "python"
    },
    "widgets": {
      "application/vnd.jupyter.widget-state+json": {
        "c9bda42832a04d35a2d4595b0f9bc7f9": {
          "model_module": "catboost-widget",
          "model_name": "CatboostWidgetModel",
          "model_module_version": "^1.0.0",
          "state": {
            "_view_name": "CatboostWidgetView",
            "_dom_classes": [],
            "_model_name": "CatboostWidgetModel",
            "data": {
              "catboost_info": {
                "content": {
                  "data": {
                    "meta": {
                      "name": "experiment",
                      "parameters": "",
                      "test_metrics": [
                        {
                          "best_value": "Max",
                          "name": "AUC"
                        },
                        {
                          "best_value": "Min",
                          "name": "Logloss"
                        }
                      ],
                      "learn_sets": [
                        "learn"
                      ],
                      "launch_mode": "Train",
                      "learn_metrics": [
                        {
                          "best_value": "Min",
                          "name": "Logloss"
                        }
                      ],
                      "iteration_count": 1000,
                      "test_sets": [
                        "test"
                      ]
                    },
                    "iterations": [
                      {
                        "test": [
                          0.512066365,
                          0.5859982502
                        ],
                        "passed_time": 0.07528250271,
                        "iteration": 0,
                        "remaining_time": 75.2072202,
                        "learn": [
                          0.5857464317
                        ]
                      },
                      {
                        "test": [
                          0.5553703263,
                          0.4959612003
                        ],
                        "passed_time": 0.1398199982,
                        "iteration": 1,
                        "remaining_time": 69.77017909,
                        "learn": [
                          0.4957415919
                        ]
                      },
                      {
                        "test": [
                          0.6011616522,
                          0.4209640554
                        ],
                        "passed_time": 0.2116037886,
                        "iteration": 2,
                        "remaining_time": 70.3229924,
                        "learn": [
                          0.4206165346
                        ]
                      },
                      {
                        "test": [
                          0.5954989283,
                          0.3595259431
                        ],
                        "passed_time": 0.2766677514,
                        "iteration": 3,
                        "remaining_time": 68.89027011,
                        "learn": [
                          0.3590842364
                        ]
                      },
                      {
                        "test": [
                          0.5919663412,
                          0.308760651
                        ],
                        "passed_time": 0.3454698517,
                        "iteration": 4,
                        "remaining_time": 68.74850049,
                        "learn": [
                          0.3081681667
                        ]
                      },
                      {
                        "test": [
                          0.6566245932,
                          0.2638438967
                        ],
                        "passed_time": 0.4148461898,
                        "iteration": 5,
                        "remaining_time": 68.72618544,
                        "learn": [
                          0.2632312149
                        ]
                      },
                      {
                        "test": [
                          0.6677648117,
                          0.2296054122
                        ],
                        "passed_time": 0.4801435905,
                        "iteration": 6,
                        "remaining_time": 68.11179791,
                        "learn": [
                          0.2288729721
                        ]
                      },
                      {
                        "test": [
                          0.6666269747,
                          0.2013176059
                        ],
                        "passed_time": 0.5447762877,
                        "iteration": 7,
                        "remaining_time": 67.55225967,
                        "learn": [
                          0.2004313196
                        ]
                      },
                      {
                        "test": [
                          0.6806911699,
                          0.1775445002
                        ],
                        "passed_time": 0.622645913,
                        "iteration": 8,
                        "remaining_time": 68.56023331,
                        "learn": [
                          0.1763309188
                        ]
                      },
                      {
                        "test": [
                          0.682808076,
                          0.158408822
                        ],
                        "passed_time": 0.6881330243,
                        "iteration": 9,
                        "remaining_time": 68.1251694,
                        "learn": [
                          0.1570599862
                        ]
                      },
                      {
                        "test": [
                          0.6847000609,
                          0.1422935595
                        ],
                        "passed_time": 0.7603622627,
                        "iteration": 10,
                        "remaining_time": 68.3634798,
                        "learn": [
                          0.1408225633
                        ]
                      },
                      {
                        "test": [
                          0.6845809849,
                          0.1283924894
                        ],
                        "passed_time": 0.8253287269,
                        "iteration": 11,
                        "remaining_time": 67.95206518,
                        "learn": [
                          0.1266865948
                        ]
                      },
                      {
                        "test": [
                          0.6850572888,
                          0.1173862209
                        ],
                        "passed_time": 0.896071382,
                        "iteration": 12,
                        "remaining_time": 68.03249646,
                        "learn": [
                          0.1155774893
                        ]
                      },
                      {
                        "test": [
                          0.7133047551,
                          0.1078046741
                        ],
                        "passed_time": 0.9634457799,
                        "iteration": 13,
                        "remaining_time": 67.85410993,
                        "learn": [
                          0.1059149504
                        ]
                      },
                      {
                        "test": [
                          0.7377417904,
                          0.09965500116
                        ],
                        "passed_time": 1.037772323,
                        "iteration": 14,
                        "remaining_time": 68.14704923,
                        "learn": [
                          0.09763086733
                        ]
                      },
                      {
                        "test": [
                          0.7366039533,
                          0.09152414964
                        ],
                        "passed_time": 1.102718637,
                        "iteration": 15,
                        "remaining_time": 67.81719618,
                        "learn": [
                          0.08933710917
                        ]
                      },
                      {
                        "test": [
                          0.7472414067,
                          0.08582627913
                        ],
                        "passed_time": 1.169295311,
                        "iteration": 16,
                        "remaining_time": 67.61278178,
                        "learn": [
                          0.08353313306
                        ]
                      },
                      {
                        "test": [
                          0.76864862,
                          0.07999333714
                        ],
                        "passed_time": 1.235509847,
                        "iteration": 17,
                        "remaining_time": 67.40392611,
                        "learn": [
                          0.07753391587
                        ]
                      },
                      {
                        "test": [
                          0.7681855468,
                          0.0753274667
                        ],
                        "passed_time": 1.304133244,
                        "iteration": 18,
                        "remaining_time": 67.33445853,
                        "learn": [
                          0.07272017002
                        ]
                      },
                      {
                        "test": [
                          0.7912069011,
                          0.07148024343
                        ],
                        "passed_time": 1.377690911,
                        "iteration": 19,
                        "remaining_time": 67.50685464,
                        "learn": [
                          0.06880031399
                        ]
                      },
                      {
                        "test": [
                          0.7922124315,
                          0.06763063996
                        ],
                        "passed_time": 1.443290888,
                        "iteration": 20,
                        "remaining_time": 67.28484663,
                        "learn": [
                          0.0647479142
                        ]
                      },
                      {
                        "test": [
                          0.7917890503,
                          0.06478669308
                        ],
                        "passed_time": 1.523502269,
                        "iteration": 21,
                        "remaining_time": 67.72660089,
                        "learn": [
                          0.06172941764
                        ]
                      },
                      {
                        "test": [
                          0.791762589,
                          0.06218614189
                        ],
                        "passed_time": 1.589681209,
                        "iteration": 22,
                        "remaining_time": 67.52689309,
                        "learn": [
                          0.05889870029
                        ]
                      },
                      {
                        "test": [
                          0.7911275171,
                          0.06033915127
                        ],
                        "passed_time": 1.667610728,
                        "iteration": 23,
                        "remaining_time": 67.81616961,
                        "learn": [
                          0.05677553319
                        ]
                      },
                      {
                        "test": [
                          0.791524437,
                          0.05828832609
                        ],
                        "passed_time": 1.734050604,
                        "iteration": 24,
                        "remaining_time": 67.62797354,
                        "learn": [
                          0.05440073629
                        ]
                      },
                      {
                        "test": [
                          0.7914185917,
                          0.05674788196
                        ],
                        "passed_time": 1.799307406,
                        "iteration": 25,
                        "remaining_time": 67.4048236,
                        "learn": [
                          0.05259869738
                        ]
                      },
                      {
                        "test": [
                          0.7913127464,
                          0.0554608912
                        ],
                        "passed_time": 1.866331428,
                        "iteration": 26,
                        "remaining_time": 67.2570548,
                        "learn": [
                          0.05108000671
                        ]
                      },
                      {
                        "test": [
                          0.7913127464,
                          0.05444300319
                        ],
                        "passed_time": 1.932709322,
                        "iteration": 27,
                        "remaining_time": 67.09262362,
                        "learn": [
                          0.04978012983
                        ]
                      },
                      {
                        "test": [
                          0.7911672091,
                          0.05348873673
                        ],
                        "passed_time": 2.017826308,
                        "iteration": 28,
                        "remaining_time": 67.5623912,
                        "learn": [
                          0.04855290117
                        ]
                      },
                      {
                        "test": [
                          0.7909819798,
                          0.05269883378
                        ],
                        "passed_time": 2.082357677,
                        "iteration": 29,
                        "remaining_time": 67.3295649,
                        "learn": [
                          0.04739312488
                        ]
                      },
                      {
                        "test": [
                          0.7909290572,
                          0.05202507219
                        ],
                        "passed_time": 2.148875691,
                        "iteration": 30,
                        "remaining_time": 67.16969499,
                        "learn": [
                          0.0464171993
                        ]
                      },
                      {
                        "test": [
                          0.7911407478,
                          0.05131200986
                        ],
                        "passed_time": 2.216692572,
                        "iteration": 31,
                        "remaining_time": 67.0549503,
                        "learn": [
                          0.04540792191
                        ]
                      },
                      {
                        "test": [
                          0.7911672091,
                          0.05072468352
                        ],
                        "passed_time": 2.282212936,
                        "iteration": 32,
                        "remaining_time": 66.87575481,
                        "learn": [
                          0.04464859629
                        ]
                      },
                      {
                        "test": [
                          0.7911936705,
                          0.05024099627
                        ],
                        "passed_time": 2.350600072,
                        "iteration": 33,
                        "remaining_time": 66.78469617,
                        "learn": [
                          0.04387857349
                        ]
                      },
                      {
                        "test": [
                          0.7911936705,
                          0.04983348193
                        ],
                        "passed_time": 2.424065923,
                        "iteration": 34,
                        "remaining_time": 66.83496044,
                        "learn": [
                          0.04325498256
                        ]
                      },
                      {
                        "test": [
                          0.7908099812,
                          0.04947105598
                        ],
                        "passed_time": 2.493576359,
                        "iteration": 35,
                        "remaining_time": 66.77243361,
                        "learn": [
                          0.04264066602
                        ]
                      },
                      {
                        "test": [
                          0.7905718293,
                          0.04916490515
                        ],
                        "passed_time": 2.565293953,
                        "iteration": 36,
                        "remaining_time": 66.76697506,
                        "learn": [
                          0.04206628429
                        ]
                      },
                      {
                        "test": [
                          0.7907438279,
                          0.04879922225
                        ],
                        "passed_time": 2.637340475,
                        "iteration": 37,
                        "remaining_time": 66.76635625,
                        "learn": [
                          0.04153927007
                        ]
                      },
                      {
                        "test": [
                          0.7906644439,
                          0.04842261607
                        ],
                        "passed_time": 2.708526964,
                        "iteration": 38,
                        "remaining_time": 66.74088236,
                        "learn": [
                          0.04102438077
                        ]
                      },
                      {
                        "test": [
                          0.7906247519,
                          0.04816861594
                        ],
                        "passed_time": 2.777091438,
                        "iteration": 39,
                        "remaining_time": 66.65019452,
                        "learn": [
                          0.04057014201
                        ]
                      },
                      {
                        "test": [
                          0.7905453679,
                          0.04798478109
                        ],
                        "passed_time": 2.842551556,
                        "iteration": 40,
                        "remaining_time": 66.4879742,
                        "learn": [
                          0.04015695054
                        ]
                      },
                      {
                        "test": [
                          0.7907041359,
                          0.04783207326
                        ],
                        "passed_time": 2.909047064,
                        "iteration": 41,
                        "remaining_time": 66.35397827,
                        "learn": [
                          0.03971954181
                        ]
                      },
                      {
                        "test": [
                          0.7907041359,
                          0.04766396777
                        ],
                        "passed_time": 2.978997101,
                        "iteration": 42,
                        "remaining_time": 66.30000524,
                        "learn": [
                          0.03936950481
                        ]
                      },
                      {
                        "test": [
                          0.7903733693,
                          0.04746628523
                        ],
                        "passed_time": 3.051054034,
                        "iteration": 43,
                        "remaining_time": 66.2910831,
                        "learn": [
                          0.03904256247
                        ]
                      },
                      {
                        "test": [
                          0.790426292,
                          0.04731676231
                        ],
                        "passed_time": 3.121239373,
                        "iteration": 44,
                        "remaining_time": 66.23963559,
                        "learn": [
                          0.03875364628
                        ]
                      },
                      {
                        "test": [
                          0.7909555185,
                          0.04717806682
                        ],
                        "passed_time": 3.18650458,
                        "iteration": 45,
                        "remaining_time": 66.08533412,
                        "learn": [
                          0.03845562073
                        ]
                      },
                      {
                        "test": [
                          0.7909025959,
                          0.04713620729
                        ],
                        "passed_time": 3.252380354,
                        "iteration": 46,
                        "remaining_time": 65.94720165,
                        "learn": [
                          0.03819547485
                        ]
                      },
                      {
                        "test": [
                          0.7907041359,
                          0.04697157575
                        ],
                        "passed_time": 3.318546755,
                        "iteration": 47,
                        "remaining_time": 65.81784398,
                        "learn": [
                          0.0378953643
                        ]
                      },
                      {
                        "test": [
                          0.7978619248,
                          0.04679077041
                        ],
                        "passed_time": 3.384254218,
                        "iteration": 48,
                        "remaining_time": 65.68215838,
                        "learn": [
                          0.03757859349
                        ]
                      },
                      {
                        "test": [
                          0.7978354635,
                          0.04676701492
                        ],
                        "passed_time": 3.453079816,
                        "iteration": 49,
                        "remaining_time": 65.6085165,
                        "learn": [
                          0.03734796005
                        ]
                      },
                      {
                        "test": [
                          0.7978354635,
                          0.04670424083
                        ],
                        "passed_time": 3.517734882,
                        "iteration": 50,
                        "remaining_time": 65.45745888,
                        "learn": [
                          0.03711710622
                        ]
                      },
                      {
                        "test": [
                          0.7978090021,
                          0.04664661619
                        ],
                        "passed_time": 3.583922875,
                        "iteration": 51,
                        "remaining_time": 65.33767088,
                        "learn": [
                          0.03687461246
                        ]
                      },
                      {
                        "test": [
                          0.7974385436,
                          0.04664018699
                        ],
                        "passed_time": 3.652528934,
                        "iteration": 52,
                        "remaining_time": 65.26311132,
                        "learn": [
                          0.03668980705
                        ]
                      },
                      {
                        "test": [
                          0.7974385436,
                          0.04663230841
                        ],
                        "passed_time": 3.728581872,
                        "iteration": 53,
                        "remaining_time": 65.31923057,
                        "learn": [
                          0.03649228971
                        ]
                      },
                      {
                        "test": [
                          0.7973062369,
                          0.04663004529
                        ],
                        "passed_time": 3.793941177,
                        "iteration": 54,
                        "remaining_time": 65.1868075,
                        "learn": [
                          0.03631138924
                        ]
                      },
                      {
                        "test": [
                          0.7973062369,
                          0.04662738468
                        ],
                        "passed_time": 3.858718753,
                        "iteration": 55,
                        "remaining_time": 65.04697326,
                        "learn": [
                          0.03613303283
                        ]
                      },
                      {
                        "test": [
                          0.797226853,
                          0.04662874652
                        ],
                        "passed_time": 3.92354383,
                        "iteration": 56,
                        "remaining_time": 64.91055846,
                        "learn": [
                          0.03595932178
                        ]
                      },
                      {
                        "test": [
                          0.797226853,
                          0.0466297318
                        ],
                        "passed_time": 3.997133753,
                        "iteration": 57,
                        "remaining_time": 64.91896543,
                        "learn": [
                          0.03578428067
                        ]
                      },
                      {
                        "test": [
                          0.7970945463,
                          0.04663794742
                        ],
                        "passed_time": 4.065054704,
                        "iteration": 58,
                        "remaining_time": 64.83417757,
                        "learn": [
                          0.03561600876
                        ]
                      },
                      {
                        "test": [
                          0.7970151623,
                          0.04664244412
                        ],
                        "passed_time": 4.131871858,
                        "iteration": 59,
                        "remaining_time": 64.73265911,
                        "learn": [
                          0.03545193267
                        ]
                      },
                      {
                        "test": [
                          0.7978090021,
                          0.04657456201
                        ],
                        "passed_time": 4.197264038,
                        "iteration": 60,
                        "remaining_time": 64.61034314,
                        "learn": [
                          0.03528100008
                        ]
                      },
                      {
                        "test": [
                          0.7977296182,
                          0.04658306972
                        ],
                        "passed_time": 4.26335415,
                        "iteration": 61,
                        "remaining_time": 64.50042247,
                        "learn": [
                          0.03511544333
                        ]
                      },
                      {
                        "test": [
                          0.7968563944,
                          0.04638603989
                        ],
                        "passed_time": 4.330412843,
                        "iteration": 62,
                        "remaining_time": 64.40629895,
                        "learn": [
                          0.03472346227
                        ]
                      },
                      {
                        "test": [
                          0.7967770104,
                          0.0463969186
                        ],
                        "passed_time": 4.396039598,
                        "iteration": 63,
                        "remaining_time": 64.29207912,
                        "learn": [
                          0.03457618314
                        ]
                      },
                      {
                        "test": [
                          0.7968034717,
                          0.04633144101
                        ],
                        "passed_time": 4.472314249,
                        "iteration": 64,
                        "remaining_time": 64.33252036,
                        "learn": [
                          0.03442154193
                        ]
                      },
                      {
                        "test": [
                          0.7967770104,
                          0.04634029142
                        ],
                        "passed_time": 4.537824975,
                        "iteration": 65,
                        "remaining_time": 64.2170989,
                        "learn": [
                          0.03426730991
                        ]
                      },
                      {
                        "test": [
                          0.7967770104,
                          0.04634818275
                        ],
                        "passed_time": 4.605560423,
                        "iteration": 66,
                        "remaining_time": 64.13414738,
                        "learn": [
                          0.03411754713
                        ]
                      },
                      {
                        "test": [
                          0.7967770104,
                          0.04635683393
                        ],
                        "passed_time": 4.669762909,
                        "iteration": 67,
                        "remaining_time": 64.00322104,
                        "learn": [
                          0.03396436025
                        ]
                      },
                      {
                        "test": [
                          0.7967770104,
                          0.04636565239
                        ],
                        "passed_time": 4.741878668,
                        "iteration": 68,
                        "remaining_time": 63.98100057,
                        "learn": [
                          0.03381167373
                        ]
                      },
                      {
                        "test": [
                          0.7968299331,
                          0.04630324039
                        ],
                        "passed_time": 4.806780985,
                        "iteration": 69,
                        "remaining_time": 63.86151881,
                        "learn": [
                          0.0336706265
                        ]
                      },
                      {
                        "test": [
                          0.7963271678,
                          0.04612681941
                        ],
                        "passed_time": 4.87251751,
                        "iteration": 70,
                        "remaining_time": 63.75448967,
                        "learn": [
                          0.0334189046
                        ]
                      },
                      {
                        "test": [
                          0.7963007065,
                          0.04613775649
                        ],
                        "passed_time": 4.938514555,
                        "iteration": 71,
                        "remaining_time": 63.65196538,
                        "learn": [
                          0.03327016889
                        ]
                      },
                      {
                        "test": [
                          0.7963007065,
                          0.04614606362
                        ],
                        "passed_time": 5.017704981,
                        "iteration": 72,
                        "remaining_time": 63.71797969,
                        "learn": [
                          0.03312319706
                        ]
                      },
                      {
                        "test": [
                          0.7963007065,
                          0.04615556345
                        ],
                        "passed_time": 5.082558523,
                        "iteration": 73,
                        "remaining_time": 63.60066476,
                        "learn": [
                          0.0329835433
                        ]
                      },
                      {
                        "test": [
                          0.7963007065,
                          0.04616275326
                        ],
                        "passed_time": 5.147903958,
                        "iteration": 74,
                        "remaining_time": 63.49081548,
                        "learn": [
                          0.03285931279
                        ]
                      },
                      {
                        "test": [
                          0.7963007065,
                          0.04617357287
                        ],
                        "passed_time": 5.215200198,
                        "iteration": 75,
                        "remaining_time": 63.40585504,
                        "learn": [
                          0.03272603033
                        ]
                      },
                      {
                        "test": [
                          0.7963007065,
                          0.04618125671
                        ],
                        "passed_time": 5.279543672,
                        "iteration": 76,
                        "remaining_time": 63.28595856,
                        "learn": [
                          0.03259107069
                        ]
                      },
                      {
                        "test": [
                          0.7960625546,
                          0.04612158435
                        ],
                        "passed_time": 5.344120223,
                        "iteration": 77,
                        "remaining_time": 63.1702416,
                        "learn": [
                          0.03244036048
                        ]
                      },
                      {
                        "test": [
                          0.7960625546,
                          0.04612982545
                        ],
                        "passed_time": 5.412058606,
                        "iteration": 78,
                        "remaining_time": 63.09501236,
                        "learn": [
                          0.03230098174
                        ]
                      },
                      {
                        "test": [
                          0.7959831706,
                          0.04613803474
                        ],
                        "passed_time": 5.478565226,
                        "iteration": 79,
                        "remaining_time": 63.0035001,
                        "learn": [
                          0.03216709107
                        ]
                      },
                      {
                        "test": [
                          0.7959831706,
                          0.04611909448
                        ],
                        "passed_time": 5.545998172,
                        "iteration": 80,
                        "remaining_time": 62.92311507,
                        "learn": [
                          0.0319939705
                        ]
                      },
                      {
                        "test": [
                          0.7959302479,
                          0.04612780593
                        ],
                        "passed_time": 5.61438877,
                        "iteration": 81,
                        "remaining_time": 62.85376696,
                        "learn": [
                          0.03185859517
                        ]
                      },
                      {
                        "test": [
                          0.7959037866,
                          0.04613818554
                        ],
                        "passed_time": 5.679325214,
                        "iteration": 82,
                        "remaining_time": 62.74627977,
                        "learn": [
                          0.03172976165
                        ]
                      },
                      {
                        "test": [
                          0.7959037866,
                          0.04614498442
                        ],
                        "passed_time": 5.754219513,
                        "iteration": 83,
                        "remaining_time": 62.74839373,
                        "learn": [
                          0.03159145747
                        ]
                      },
                      {
                        "test": [
                          0.7959037866,
                          0.04615235336
                        ],
                        "passed_time": 5.818828056,
                        "iteration": 84,
                        "remaining_time": 62.63797261,
                        "learn": [
                          0.03145609187
                        ]
                      },
                      {
                        "test": [
                          0.7957979413,
                          0.04609473295
                        ],
                        "passed_time": 5.891489643,
                        "iteration": 85,
                        "remaining_time": 62.61420388,
                        "learn": [
                          0.03132092318
                        ]
                      },
                      {
                        "test": [
                          0.7957979413,
                          0.04610212943
                        ],
                        "passed_time": 5.95642618,
                        "iteration": 86,
                        "remaining_time": 62.50824256,
                        "learn": [
                          0.03119111716
                        ]
                      },
                      {
                        "test": [
                          0.8169537721,
                          0.04604936767
                        ],
                        "passed_time": 6.036474692,
                        "iteration": 87,
                        "remaining_time": 62.55982863,
                        "learn": [
                          0.03105906613
                        ]
                      },
                      {
                        "test": [
                          0.8593712789,
                          0.0458715521
                        ],
                        "passed_time": 6.100832984,
                        "iteration": 88,
                        "remaining_time": 62.44785223,
                        "learn": [
                          0.03093446062
                        ]
                      },
                      {
                        "test": [
                          0.8583789791,
                          0.04579063108
                        ],
                        "passed_time": 6.166866404,
                        "iteration": 89,
                        "remaining_time": 62.35387142,
                        "learn": [
                          0.03060269254
                        ]
                      },
                      {
                        "test": [
                          0.8583260565,
                          0.04579659875
                        ],
                        "passed_time": 6.232076017,
                        "iteration": 90,
                        "remaining_time": 62.25227582,
                        "learn": [
                          0.03047073413
                        ]
                      },
                      {
                        "test": [
                          0.8581275965,
                          0.04580557057
                        ],
                        "passed_time": 6.295914792,
                        "iteration": 91,
                        "remaining_time": 62.13794164,
                        "learn": [
                          0.03034903622
                        ]
                      },
                      {
                        "test": [
                          0.8581275965,
                          0.04581043472
                        ],
                        "passed_time": 6.364455446,
                        "iteration": 92,
                        "remaining_time": 62.07054935,
                        "learn": [
                          0.03021664554
                        ]
                      },
                      {
                        "test": [
                          0.8581275965,
                          0.04581504297
                        ],
                        "passed_time": 6.428875631,
                        "iteration": 93,
                        "remaining_time": 61.96341831,
                        "learn": [
                          0.03008838761
                        ]
                      },
                      {
                        "test": [
                          0.8583128258,
                          0.0457566083
                        ],
                        "passed_time": 6.497937519,
                        "iteration": 94,
                        "remaining_time": 61.90140478,
                        "learn": [
                          0.02996209607
                        ]
                      },
                      {
                        "test": [
                          0.8583128258,
                          0.04576220649
                        ],
                        "passed_time": 6.564180705,
                        "iteration": 95,
                        "remaining_time": 61.81270164,
                        "learn": [
                          0.02983854959
                        ]
                      },
                      {
                        "test": [
                          0.8583128258,
                          0.04576745653
                        ],
                        "passed_time": 6.6316124,
                        "iteration": 96,
                        "remaining_time": 61.73552574,
                        "learn": [
                          0.02970762878
                        ]
                      },
                      {
                        "test": [
                          0.8594242015,
                          0.0456553062
                        ],
                        "passed_time": 6.696779362,
                        "iteration": 97,
                        "remaining_time": 61.63770393,
                        "learn": [
                          0.02958024778
                        ]
                      },
                      {
                        "test": [
                          0.8593712789,
                          0.04566176879
                        ],
                        "passed_time": 6.769849944,
                        "iteration": 98,
                        "remaining_time": 61.61247272,
                        "learn": [
                          0.02945433312
                        ]
                      },
                      {
                        "test": [
                          0.8593712789,
                          0.04560818516
                        ],
                        "passed_time": 6.83484172,
                        "iteration": 99,
                        "remaining_time": 61.51357548,
                        "learn": [
                          0.02932899706
                        ]
                      },
                      {
                        "test": [
                          0.8593712789,
                          0.04561296038
                        ],
                        "passed_time": 6.89896093,
                        "iteration": 100,
                        "remaining_time": 61.40758293,
                        "learn": [
                          0.0292015475
                        ]
                      },
                      {
                        "test": [
                          0.8593448175,
                          0.04561941915
                        ],
                        "passed_time": 6.96363507,
                        "iteration": 101,
                        "remaining_time": 61.30729699,
                        "learn": [
                          0.02906915467
                        ]
                      },
                      {
                        "test": [
                          0.8593448175,
                          0.04562533711
                        ],
                        "passed_time": 7.05983141,
                        "iteration": 102,
                        "remaining_time": 61.48222111,
                        "learn": [
                          0.02894616395
                        ]
                      },
                      {
                        "test": [
                          0.8593448175,
                          0.04562884404
                        ],
                        "passed_time": 7.124473643,
                        "iteration": 103,
                        "remaining_time": 61.38008061,
                        "learn": [
                          0.02882503423
                        ]
                      },
                      {
                        "test": [
                          0.8593977402,
                          0.04558041587
                        ],
                        "passed_time": 7.189107122,
                        "iteration": 104,
                        "remaining_time": 61.27857975,
                        "learn": [
                          0.02870074393
                        ]
                      },
                      {
                        "test": [
                          0.8595035855,
                          0.04552645338
                        ],
                        "passed_time": 7.253965574,
                        "iteration": 105,
                        "remaining_time": 61.17967191,
                        "learn": [
                          0.02858104674
                        ]
                      },
                      {
                        "test": [
                          0.8595035855,
                          0.04549981826
                        ],
                        "passed_time": 7.320854396,
                        "iteration": 106,
                        "remaining_time": 61.09834557,
                        "learn": [
                          0.02842987143
                        ]
                      },
                      {
                        "test": [
                          0.8593845095,
                          0.04550571245
                        ],
                        "passed_time": 7.385958245,
                        "iteration": 107,
                        "remaining_time": 61.00254403,
                        "learn": [
                          0.02829288185
                        ]
                      },
                      {
                        "test": [
                          0.8593845095,
                          0.04548013889
                        ],
                        "passed_time": 7.451693363,
                        "iteration": 108,
                        "remaining_time": 60.91246593,
                        "learn": [
                          0.02816399424
                        ]
                      },
                      {
                        "test": [
                          0.8593315869,
                          0.0454843346
                        ],
                        "passed_time": 7.517962015,
                        "iteration": 109,
                        "remaining_time": 60.82714721,
                        "learn": [
                          0.02803920904
                        ]
                      },
                      {
                        "test": [
                          0.8593315869,
                          0.0454877915
                        ],
                        "passed_time": 7.584728406,
                        "iteration": 110,
                        "remaining_time": 60.74615814,
                        "learn": [
                          0.02791695776
                        ]
                      },
                      {
                        "test": [
                          0.8593051256,
                          0.04549388676
                        ],
                        "passed_time": 7.655973181,
                        "iteration": 111,
                        "remaining_time": 60.70093022,
                        "learn": [
                          0.02779541172
                        ]
                      },
                      {
                        "test": [
                          0.8593051256,
                          0.04549720503
                        ],
                        "passed_time": 7.721553271,
                        "iteration": 112,
                        "remaining_time": 60.61077656,
                        "learn": [
                          0.02767505581
                        ]
                      },
                      {
                        "test": [
                          0.8593051256,
                          0.04544577449
                        ],
                        "passed_time": 7.794495858,
                        "iteration": 113,
                        "remaining_time": 60.57827483,
                        "learn": [
                          0.02755804038
                        ]
                      },
                      {
                        "test": [
                          0.8593051256,
                          0.04545270159
                        ],
                        "passed_time": 7.859580011,
                        "iteration": 114,
                        "remaining_time": 60.484594,
                        "learn": [
                          0.02742470885
                        ]
                      },
                      {
                        "test": [
                          0.8593051256,
                          0.04545710567
                        ],
                        "passed_time": 7.924356196,
                        "iteration": 115,
                        "remaining_time": 60.38905929,
                        "learn": [
                          0.027314018
                        ]
                      },
                      {
                        "test": [
                          0.8592257416,
                          0.04540731729
                        ],
                        "passed_time": 7.989861595,
                        "iteration": 116,
                        "remaining_time": 60.29955375,
                        "learn": [
                          0.0272024073
                        ]
                      },
                      {
                        "test": [
                          0.8592257416,
                          0.04541056868
                        ],
                        "passed_time": 8.07708542,
                        "iteration": 117,
                        "remaining_time": 60.37279102,
                        "learn": [
                          0.02708189515
                        ]
                      },
                      {
                        "test": [
                          0.8592257416,
                          0.04541353946
                        ],
                        "passed_time": 8.142905946,
                        "iteration": 118,
                        "remaining_time": 60.28487511,
                        "learn": [
                          0.02696866795
                        ]
                      },
                      {
                        "test": [
                          0.8591463576,
                          0.04541989674
                        ],
                        "passed_time": 8.211898673,
                        "iteration": 119,
                        "remaining_time": 60.22059027,
                        "learn": [
                          0.0268448547
                        ]
                      },
                      {
                        "test": [
                          0.8592786642,
                          0.04536808873
                        ],
                        "passed_time": 8.277657295,
                        "iteration": 120,
                        "remaining_time": 60.13273357,
                        "learn": [
                          0.02673430321
                        ]
                      },
                      {
                        "test": [
                          0.8592257416,
                          0.04537517735
                        ],
                        "passed_time": 8.342839892,
                        "iteration": 121,
                        "remaining_time": 60.04109365,
                        "learn": [
                          0.02661330205
                        ]
                      },
                      {
                        "test": [
                          0.8594109709,
                          0.04529724595
                        ],
                        "passed_time": 8.408919757,
                        "iteration": 122,
                        "remaining_time": 59.95628152,
                        "learn": [
                          0.02648439025
                        ]
                      },
                      {
                        "test": [
                          0.8596491228,
                          0.04524609759
                        ],
                        "passed_time": 8.476797727,
                        "iteration": 123,
                        "remaining_time": 59.88447427,
                        "learn": [
                          0.02637664372
                        ]
                      },
                      {
                        "test": [
                          0.8596226615,
                          0.04525126527
                        ],
                        "passed_time": 8.542739558,
                        "iteration": 124,
                        "remaining_time": 59.79917691,
                        "learn": [
                          0.02625985133
                        ]
                      },
                      {
                        "test": [
                          0.8599401974,
                          0.04514741137
                        ],
                        "passed_time": 8.615184446,
                        "iteration": 125,
                        "remaining_time": 59.75929528,
                        "learn": [
                          0.02614419324
                        ]
                      },
                      {
                        "test": [
                          0.8599401974,
                          0.04504483793
                        ],
                        "passed_time": 8.68138496,
                        "iteration": 126,
                        "remaining_time": 59.67597693,
                        "learn": [
                          0.02594533759
                        ]
                      },
                      {
                        "test": [
                          0.8599401974,
                          0.04504913675
                        ],
                        "passed_time": 8.746622742,
                        "iteration": 127,
                        "remaining_time": 59.58636743,
                        "learn": [
                          0.02583978804
                        ]
                      },
                      {
                        "test": [
                          0.8598872747,
                          0.04505426728
                        ],
                        "passed_time": 8.823435664,
                        "iteration": 128,
                        "remaining_time": 59.57529041,
                        "learn": [
                          0.02572874248
                        ]
                      },
                      {
                        "test": [
                          0.8598872747,
                          0.04505885824
                        ],
                        "passed_time": 8.888889341,
                        "iteration": 129,
                        "remaining_time": 59.48718252,
                        "learn": [
                          0.02560952778
                        ]
                      },
                      {
                        "test": [
                          0.8612632637,
                          0.04495547987
                        ],
                        "passed_time": 8.953899227,
                        "iteration": 130,
                        "remaining_time": 59.39647655,
                        "learn": [
                          0.02551130199
                        ]
                      },
                      {
                        "test": [
                          0.8612103411,
                          0.04496234156
                        ],
                        "passed_time": 9.019524036,
                        "iteration": 131,
                        "remaining_time": 59.31020351,
                        "learn": [
                          0.02540422451
                        ]
                      },
                      {
                        "test": [
                          0.8612103411,
                          0.04496673602
                        ],
                        "passed_time": 9.102761514,
                        "iteration": 132,
                        "remaining_time": 59.33905438,
                        "learn": [
                          0.02528797188
                        ]
                      },
                      {
                        "test": [
                          0.8612103411,
                          0.04496953275
                        ],
                        "passed_time": 9.17040182,
                        "iteration": 133,
                        "remaining_time": 59.26543265,
                        "learn": [
                          0.02517737736
                        ]
                      },
                      {
                        "test": [
                          0.8611574184,
                          0.04497648149
                        ],
                        "passed_time": 9.236279764,
                        "iteration": 134,
                        "remaining_time": 59.18060738,
                        "learn": [
                          0.02505776371
                        ]
                      },
                      {
                        "test": [
                          0.8611574184,
                          0.04498221347
                        ],
                        "passed_time": 9.302393594,
                        "iteration": 135,
                        "remaining_time": 59.0975593,
                        "learn": [
                          0.02494702455
                        ]
                      },
                      {
                        "test": [
                          0.8611574184,
                          0.04498714517
                        ],
                        "passed_time": 9.36832824,
                        "iteration": 136,
                        "remaining_time": 59.01362972,
                        "learn": [
                          0.02483595367
                        ]
                      },
                      {
                        "test": [
                          0.8618983356,
                          0.04488911163
                        ],
                        "passed_time": 9.435217111,
                        "iteration": 137,
                        "remaining_time": 58.93592138,
                        "learn": [
                          0.02472873176
                        ]
                      },
                      {
                        "test": [
                          0.8618983356,
                          0.04489642195
                        ],
                        "passed_time": 9.500479736,
                        "iteration": 138,
                        "remaining_time": 58.84829534,
                        "learn": [
                          0.02462505722
                        ]
                      },
                      {
                        "test": [
                          0.8616734143,
                          0.0449097806
                        ],
                        "passed_time": 9.571318562,
                        "iteration": 139,
                        "remaining_time": 58.79524259,
                        "learn": [
                          0.02451628457
                        ]
                      },
                      {
                        "test": [
                          0.8615807997,
                          0.04491756674
                        ],
                        "passed_time": 9.637663394,
                        "iteration": 140,
                        "remaining_time": 58.71455926,
                        "learn": [
                          0.02442270499
                        ]
                      },
                      {
                        "test": [
                          0.8615014157,
                          0.04487560949
                        ],
                        "passed_time": 9.703215169,
                        "iteration": 141,
                        "remaining_time": 58.62928602,
                        "learn": [
                          0.02430860838
                        ]
                      },
                      {
                        "test": [
                          0.8615014157,
                          0.04488292868
                        ],
                        "passed_time": 9.768288244,
                        "iteration": 142,
                        "remaining_time": 58.54141976,
                        "learn": [
                          0.02420546854
                        ]
                      },
                      {
                        "test": [
                          0.8614749544,
                          0.04489008037
                        ],
                        "passed_time": 9.840648559,
                        "iteration": 143,
                        "remaining_time": 58.49718866,
                        "learn": [
                          0.02410163181
                        ]
                      },
                      {
                        "test": [
                          0.8617924903,
                          0.04479754266
                        ],
                        "passed_time": 9.905399734,
                        "iteration": 144,
                        "remaining_time": 58.40770188,
                        "learn": [
                          0.02400825235
                        ]
                      },
                      {
                        "test": [
                          0.8617924903,
                          0.04480081517
                        ],
                        "passed_time": 9.970715528,
                        "iteration": 145,
                        "remaining_time": 58.32185658,
                        "learn": [
                          0.02389873213
                        ]
                      },
                      {
                        "test": [
                          0.8617924903,
                          0.04480393807
                        ],
                        "passed_time": 10.03549062,
                        "iteration": 146,
                        "remaining_time": 58.23315308,
                        "learn": [
                          0.02379190544
                        ]
                      },
                      {
                        "test": [
                          0.8617924903,
                          0.0448144918
                        ],
                        "passed_time": 10.12282552,
                        "iteration": 147,
                        "remaining_time": 58.27464422,
                        "learn": [
                          0.023692547
                        ]
                      },
                      {
                        "test": [
                          0.8618718743,
                          0.04476288957
                        ],
                        "passed_time": 10.18767811,
                        "iteration": 148,
                        "remaining_time": 58.18600049,
                        "learn": [
                          0.0236004455
                        ]
                      },
                      {
                        "test": [
                          0.8619777196,
                          0.0446767546
                        ],
                        "passed_time": 10.2528139,
                        "iteration": 149,
                        "remaining_time": 58.09927877,
                        "learn": [
                          0.0235002803
                        ]
                      },
                      {
                        "test": [
                          0.8619777196,
                          0.04468098035
                        ],
                        "passed_time": 10.32134327,
                        "iteration": 150,
                        "remaining_time": 58.03192344,
                        "learn": [
                          0.02339081473
                        ]
                      },
                      {
                        "test": [
                          0.8619512582,
                          0.04468780993
                        ],
                        "passed_time": 10.38521379,
                        "iteration": 151,
                        "remaining_time": 57.93856112,
                        "learn": [
                          0.02329464039
                        ]
                      },
                      {
                        "test": [
                          0.8607604985,
                          0.04451044681
                        ],
                        "passed_time": 10.45159421,
                        "iteration": 152,
                        "remaining_time": 57.85947905,
                        "learn": [
                          0.02303830468
                        ]
                      },
                      {
                        "test": [
                          0.8607604985,
                          0.04451728102
                        ],
                        "passed_time": 10.5236552,
                        "iteration": 153,
                        "remaining_time": 57.81176817,
                        "learn": [
                          0.02293261572
                        ]
                      },
                      {
                        "test": [
                          0.8608663438,
                          0.04447053169
                        ],
                        "passed_time": 10.59419724,
                        "iteration": 154,
                        "remaining_time": 57.75546237,
                        "learn": [
                          0.0228383241
                        ]
                      },
                      {
                        "test": [
                          0.8609192665,
                          0.04442521917
                        ],
                        "passed_time": 10.65926416,
                        "iteration": 155,
                        "remaining_time": 57.66935222,
                        "learn": [
                          0.0227459853
                        ]
                      },
                      {
                        "test": [
                          0.8609192665,
                          0.04443602614
                        ],
                        "passed_time": 10.72354617,
                        "iteration": 156,
                        "remaining_time": 57.57929568,
                        "learn": [
                          0.02264462413
                        ]
                      },
                      {
                        "test": [
                          0.8609192665,
                          0.04443884875
                        ],
                        "passed_time": 10.78783079,
                        "iteration": 157,
                        "remaining_time": 57.48957926,
                        "learn": [
                          0.02254834084
                        ]
                      },
                      {
                        "test": [
                          0.8609192665,
                          0.04439649117
                        ],
                        "passed_time": 10.86718287,
                        "iteration": 158,
                        "remaining_time": 57.47987921,
                        "learn": [
                          0.02245674019
                        ]
                      },
                      {
                        "test": [
                          0.8608928052,
                          0.04440107674
                        ],
                        "passed_time": 10.93317947,
                        "iteration": 159,
                        "remaining_time": 57.39919224,
                        "learn": [
                          0.02236227112
                        ]
                      },
                      {
                        "test": [
                          0.8608134212,
                          0.04441444441
                        ],
                        "passed_time": 10.99816783,
                        "iteration": 160,
                        "remaining_time": 57.31343357,
                        "learn": [
                          0.0222643053
                        ]
                      },
                      {
                        "test": [
                          0.8606281919,
                          0.04441970286
                        ],
                        "passed_time": 11.07137545,
                        "iteration": 161,
                        "remaining_time": 57.27044834,
                        "learn": [
                          0.02217048578
                        ]
                      },
                      {
                        "test": [
                          0.8606017306,
                          0.04442877276
                        ],
                        "passed_time": 11.15107169,
                        "iteration": 162,
                        "remaining_time": 57.26041105,
                        "learn": [
                          0.02207205119
                        ]
                      },
                      {
                        "test": [
                          0.8606017306,
                          0.04443991729
                        ],
                        "passed_time": 11.22239408,
                        "iteration": 163,
                        "remaining_time": 57.20683812,
                        "learn": [
                          0.02196935836
                        ]
                      },
                      {
                        "test": [
                          0.8606281919,
                          0.04440283673
                        ],
                        "passed_time": 11.28757402,
                        "iteration": 164,
                        "remaining_time": 57.12196547,
                        "learn": [
                          0.02188315983
                        ]
                      },
                      {
                        "test": [
                          0.8605752692,
                          0.04441137853
                        ],
                        "passed_time": 11.35295305,
                        "iteration": 165,
                        "remaining_time": 57.03833041,
                        "learn": [
                          0.0217912803
                        ]
                      },
                      {
                        "test": [
                          0.8605752692,
                          0.04437120242
                        ],
                        "passed_time": 11.41928344,
                        "iteration": 166,
                        "remaining_time": 56.95965933,
                        "learn": [
                          0.02170176742
                        ]
                      },
                      {
                        "test": [
                          0.8605752692,
                          0.04437668157
                        ],
                        "passed_time": 11.48510863,
                        "iteration": 167,
                        "remaining_time": 56.87863322,
                        "learn": [
                          0.02160808371
                        ]
                      },
                      {
                        "test": [
                          0.8606811146,
                          0.04429474284
                        ],
                        "passed_time": 11.54998848,
                        "iteration": 168,
                        "remaining_time": 56.79313861,
                        "learn": [
                          0.02151259555
                        ]
                      },
                      {
                        "test": [
                          0.8606811146,
                          0.04426173342
                        ],
                        "passed_time": 11.62137836,
                        "iteration": 169,
                        "remaining_time": 56.73967081,
                        "learn": [
                          0.02142723558
                        ]
                      },
                      {
                        "test": [
                          0.8606546532,
                          0.04426712275
                        ],
                        "passed_time": 11.68787102,
                        "iteration": 170,
                        "remaining_time": 56.66225189,
                        "learn": [
                          0.02133978771
                        ]
                      },
                      {
                        "test": [
                          0.8606546532,
                          0.04427474517
                        ],
                        "passed_time": 11.75364586,
                        "iteration": 171,
                        "remaining_time": 56.58150449,
                        "learn": [
                          0.02124167771
                        ]
                      },
                      {
                        "test": [
                          0.8606811146,
                          0.04423793794
                        ],
                        "passed_time": 11.82180376,
                        "iteration": 172,
                        "remaining_time": 56.51232201,
                        "learn": [
                          0.02115672044
                        ]
                      },
                      {
                        "test": [
                          0.8606811146,
                          0.04424791392
                        ],
                        "passed_time": 11.89548825,
                        "iteration": 173,
                        "remaining_time": 56.46938676,
                        "learn": [
                          0.02106779142
                        ]
                      },
                      {
                        "test": [
                          0.8607340372,
                          0.04412198191
                        ],
                        "passed_time": 11.96035072,
                        "iteration": 174,
                        "remaining_time": 56.38451054,
                        "learn": [
                          0.0209100588
                        ]
                      },
                      {
                        "test": [
                          0.8607340372,
                          0.04412595459
                        ],
                        "passed_time": 12.02582535,
                        "iteration": 175,
                        "remaining_time": 56.30272778,
                        "learn": [
                          0.02082501039
                        ]
                      },
                      {
                        "test": [
                          0.8606546532,
                          0.04413908543
                        ],
                        "passed_time": 12.10913977,
                        "iteration": 176,
                        "remaining_time": 56.30407928,
                        "learn": [
                          0.02073152839
                        ]
                      },
                      {
                        "test": [
                          0.8606546532,
                          0.04415153189
                        ],
                        "passed_time": 12.17761532,
                        "iteration": 177,
                        "remaining_time": 56.2359539,
                        "learn": [
                          0.02064439331
                        ]
                      },
                      {
                        "test": [
                          0.8606546532,
                          0.04415571045
                        ],
                        "passed_time": 12.24306161,
                        "iteration": 178,
                        "remaining_time": 56.15393062,
                        "learn": [
                          0.02055717205
                        ]
                      },
                      {
                        "test": [
                          0.8606546532,
                          0.04411682834
                        ],
                        "passed_time": 12.30803535,
                        "iteration": 179,
                        "remaining_time": 56.06993882,
                        "learn": [
                          0.02043880475
                        ]
                      },
                      {
                        "test": [
                          0.8606281919,
                          0.04412690161
                        ],
                        "passed_time": 12.37587766,
                        "iteration": 180,
                        "remaining_time": 55.99913705,
                        "learn": [
                          0.02035376177
                        ]
                      },
                      {
                        "test": [
                          0.8605752692,
                          0.04414167319
                        ],
                        "passed_time": 12.44257741,
                        "iteration": 181,
                        "remaining_time": 55.92323255,
                        "learn": [
                          0.02027055444
                        ]
                      },
                      {
                        "test": [
                          0.8605752692,
                          0.04414641882
                        ],
                        "passed_time": 12.50891344,
                        "iteration": 182,
                        "remaining_time": 55.84580483,
                        "learn": [
                          0.02018801192
                        ]
                      },
                      {
                        "test": [
                          0.8606811146,
                          0.04407133095
                        ],
                        "passed_time": 12.57635243,
                        "iteration": 183,
                        "remaining_time": 55.77338905,
                        "learn": [
                          0.02010672747
                        ]
                      },
                      {
                        "test": [
                          0.8606811146,
                          0.04408264752
                        ],
                        "passed_time": 12.64784796,
                        "iteration": 184,
                        "remaining_time": 55.71889776,
                        "learn": [
                          0.02002748153
                        ]
                      },
                      {
                        "test": [
                          0.8606811146,
                          0.04408830919
                        ],
                        "passed_time": 12.71444586,
                        "iteration": 185,
                        "remaining_time": 55.64278994,
                        "learn": [
                          0.01993795374
                        ]
                      },
                      {
                        "test": [
                          0.8606811146,
                          0.04409504097
                        ],
                        "passed_time": 12.77986201,
                        "iteration": 186,
                        "remaining_time": 55.56164608,
                        "learn": [
                          0.01985862536
                        ]
                      },
                      {
                        "test": [
                          0.8606281919,
                          0.04410210935
                        ],
                        "passed_time": 12.84889612,
                        "iteration": 187,
                        "remaining_time": 55.49629602,
                        "learn": [
                          0.01978130897
                        ]
                      },
                      {
                        "test": [
                          0.8606017306,
                          0.04411695714
                        ],
                        "passed_time": 12.91986434,
                        "iteration": 188,
                        "remaining_time": 55.43920623,
                        "learn": [
                          0.01969829548
                        ]
                      },
                      {
                        "test": [
                          0.8606017306,
                          0.04412909652
                        ],
                        "passed_time": 12.98510652,
                        "iteration": 189,
                        "remaining_time": 55.35755939,
                        "learn": [
                          0.01961858832
                        ]
                      },
                      {
                        "test": [
                          0.8606017306,
                          0.0441334714
                        ],
                        "passed_time": 13.05047194,
                        "iteration": 190,
                        "remaining_time": 55.27660627,
                        "learn": [
                          0.01954224231
                        ]
                      },
                      {
                        "test": [
                          0.8606017306,
                          0.04415099939
                        ],
                        "passed_time": 13.13559034,
                        "iteration": 191,
                        "remaining_time": 55.27894267,
                        "learn": [
                          0.01944248888
                        ]
                      },
                      {
                        "test": [
                          0.8606017306,
                          0.0441578225
                        ],
                        "passed_time": 13.20795302,
                        "iteration": 192,
                        "remaining_time": 55.22703672,
                        "learn": [
                          0.01936471537
                        ]
                      },
                      {
                        "test": [
                          0.8606017306,
                          0.0441623523
                        ],
                        "passed_time": 13.27393772,
                        "iteration": 193,
                        "remaining_time": 55.14842167,
                        "learn": [
                          0.01929169254
                        ]
                      },
                      {
                        "test": [
                          0.8606017306,
                          0.0441725265
                        ],
                        "passed_time": 13.33947656,
                        "iteration": 194,
                        "remaining_time": 55.06809555,
                        "learn": [
                          0.01921557578
                        ]
                      },
                      {
                        "test": [
                          0.8606017306,
                          0.044161791
                        ],
                        "passed_time": 13.40592914,
                        "iteration": 195,
                        "remaining_time": 54.9916685,
                        "learn": [
                          0.019108098
                        ]
                      },
                      {
                        "test": [
                          0.8606017306,
                          0.04417151905
                        ],
                        "passed_time": 13.47105639,
                        "iteration": 196,
                        "remaining_time": 54.90994051,
                        "learn": [
                          0.01903623217
                        ]
                      },
                      {
                        "test": [
                          0.8606017306,
                          0.04417886063
                        ],
                        "passed_time": 13.53720868,
                        "iteration": 197,
                        "remaining_time": 54.83253215,
                        "learn": [
                          0.01896117115
                        ]
                      },
                      {
                        "test": [
                          0.8605752692,
                          0.0441878267
                        ],
                        "passed_time": 13.61310234,
                        "iteration": 198,
                        "remaining_time": 54.7944471,
                        "learn": [
                          0.01889162342
                        ]
                      },
                      {
                        "test": [
                          0.8605752692,
                          0.04419315302
                        ],
                        "passed_time": 13.6894611,
                        "iteration": 199,
                        "remaining_time": 54.75784439,
                        "learn": [
                          0.01881779211
                        ]
                      },
                      {
                        "test": [
                          0.8605223466,
                          0.04420409666
                        ],
                        "passed_time": 13.75404053,
                        "iteration": 200,
                        "remaining_time": 54.67402179,
                        "learn": [
                          0.01874460271
                        ]
                      },
                      {
                        "test": [
                          0.8605223466,
                          0.04421824322
                        ],
                        "passed_time": 13.8186377,
                        "iteration": 201,
                        "remaining_time": 54.59045981,
                        "learn": [
                          0.01866196247
                        ]
                      },
                      {
                        "test": [
                          0.8604958853,
                          0.04422369397
                        ],
                        "passed_time": 13.89186406,
                        "iteration": 202,
                        "remaining_time": 54.54096381,
                        "learn": [
                          0.0185920802
                        ]
                      },
                      {
                        "test": [
                          0.8604429626,
                          0.04422771163
                        ],
                        "passed_time": 13.95646028,
                        "iteration": 203,
                        "remaining_time": 54.45756072,
                        "learn": [
                          0.01842908872
                        ]
                      },
                      {
                        "test": [
                          0.8604429626,
                          0.04423677639
                        ],
                        "passed_time": 14.0207669,
                        "iteration": 204,
                        "remaining_time": 54.373218,
                        "learn": [
                          0.0183415571
                        ]
                      },
                      {
                        "test": [
                          0.8604429626,
                          0.04424443336
                        ],
                        "passed_time": 14.08589727,
                        "iteration": 205,
                        "remaining_time": 54.29224481,
                        "learn": [
                          0.01827220991
                        ]
                      },
                      {
                        "test": [
                          0.8604429626,
                          0.0442497214
                        ],
                        "passed_time": 14.17765665,
                        "iteration": 206,
                        "remaining_time": 54.31343829,
                        "learn": [
                          0.01820315496
                        ]
                      },
                      {
                        "test": [
                          0.8606017306,
                          0.0441726032
                        ],
                        "passed_time": 14.24156394,
                        "iteration": 207,
                        "remaining_time": 54.22749345,
                        "learn": [
                          0.01813423982
                        ]
                      },
                      {
                        "test": [
                          0.8605488079,
                          0.04419232417
                        ],
                        "passed_time": 14.3064826,
                        "iteration": 208,
                        "remaining_time": 54.14558726,
                        "learn": [
                          0.01806662537
                        ]
                      },
                      {
                        "test": [
                          0.8606281919,
                          0.0441588
                        ],
                        "passed_time": 14.37085392,
                        "iteration": 209,
                        "remaining_time": 54.06178379,
                        "learn": [
                          0.01797924349
                        ]
                      },
                      {
                        "test": [
                          0.8606017306,
                          0.04417900185
                        ],
                        "passed_time": 14.43625152,
                        "iteration": 210,
                        "remaining_time": 53.98200214,
                        "learn": [
                          0.01791032072
                        ]
                      },
                      {
                        "test": [
                          0.8605752692,
                          0.04409973741
                        ],
                        "passed_time": 14.50394437,
                        "iteration": 211,
                        "remaining_time": 53.91088756,
                        "learn": [
                          0.0177810745
                        ]
                      },
                      {
                        "test": [
                          0.8605752692,
                          0.04411002068
                        ],
                        "passed_time": 14.57046732,
                        "iteration": 212,
                        "remaining_time": 53.83548253,
                        "learn": [
                          0.01771576959
                        ]
                      },
                      {
                        "test": [
                          0.8605752692,
                          0.0441159738
                        ],
                        "passed_time": 14.64063769,
                        "iteration": 213,
                        "remaining_time": 53.77355712,
                        "learn": [
                          0.01764814318
                        ]
                      },
                      {
                        "test": [
                          0.8605752692,
                          0.04412200984
                        ],
                        "passed_time": 14.70535242,
                        "iteration": 214,
                        "remaining_time": 53.69163559,
                        "learn": [
                          0.01758311063
                        ]
                      },
                      {
                        "test": [
                          0.8605488079,
                          0.04412863724
                        ],
                        "passed_time": 14.76936817,
                        "iteration": 215,
                        "remaining_time": 53.60733632,
                        "learn": [
                          0.01752091476
                        ]
                      },
                      {
                        "test": [
                          0.8605488079,
                          0.04414408011
                        ],
                        "passed_time": 14.83455929,
                        "iteration": 216,
                        "remaining_time": 53.5274651,
                        "learn": [
                          0.01745408646
                        ]
                      },
                      {
                        "test": [
                          0.8605752692,
                          0.04410954668
                        ],
                        "passed_time": 14.90812751,
                        "iteration": 217,
                        "remaining_time": 53.4777785,
                        "learn": [
                          0.01739094041
                        ]
                      },
                      {
                        "test": [
                          0.8607340372,
                          0.04408261029
                        ],
                        "passed_time": 14.97232269,
                        "iteration": 218,
                        "remaining_time": 53.39444757,
                        "learn": [
                          0.01732965799
                        ]
                      },
                      {
                        "test": [
                          0.8607340372,
                          0.04409141725
                        ],
                        "passed_time": 15.03696315,
                        "iteration": 219,
                        "remaining_time": 53.31286935,
                        "learn": [
                          0.01726473985
                        ]
                      },
                      {
                        "test": [
                          0.8607340372,
                          0.04397364919
                        ],
                        "passed_time": 15.10183342,
                        "iteration": 220,
                        "remaining_time": 53.23225444,
                        "learn": [
                          0.01709014058
                        ]
                      },
                      {
                        "test": [
                          0.8607340372,
                          0.04398408252
                        ],
                        "passed_time": 15.19518132,
                        "iteration": 221,
                        "remaining_time": 53.25158139,
                        "learn": [
                          0.01702890422
                        ]
                      },
                      {
                        "test": [
                          0.8607340372,
                          0.04395963998
                        ],
                        "passed_time": 15.25995517,
                        "iteration": 222,
                        "remaining_time": 53.17033708,
                        "learn": [
                          0.01696836675
                        ]
                      },
                      {
                        "test": [
                          0.8607340372,
                          0.04396740581
                        ],
                        "passed_time": 15.32598298,
                        "iteration": 223,
                        "remaining_time": 53.09358389,
                        "learn": [
                          0.01690494239
                        ]
                      },
                      {
                        "test": [
                          0.8607340372,
                          0.0439795416
                        ],
                        "passed_time": 15.39362392,
                        "iteration": 224,
                        "remaining_time": 53.02248241,
                        "learn": [
                          0.01682136491
                        ]
                      },
                      {
                        "test": [
                          0.8607604985,
                          0.043955808
                        ],
                        "passed_time": 15.45938938,
                        "iteration": 225,
                        "remaining_time": 52.94498841,
                        "learn": [
                          0.0167596496
                        ]
                      },
                      {
                        "test": [
                          0.8607340372,
                          0.04396511312
                        ],
                        "passed_time": 15.52562777,
                        "iteration": 226,
                        "remaining_time": 52.86920822,
                        "learn": [
                          0.01670038784
                        ]
                      },
                      {
                        "test": [
                          0.8607340372,
                          0.04397133667
                        ],
                        "passed_time": 15.59436107,
                        "iteration": 227,
                        "remaining_time": 52.80195942,
                        "learn": [
                          0.01664267605
                        ]
                      },
                      {
                        "test": [
                          0.8607340372,
                          0.0439880366
                        ],
                        "passed_time": 15.66422137,
                        "iteration": 228,
                        "remaining_time": 52.73849203,
                        "learn": [
                          0.01658244041
                        ]
                      },
                      {
                        "test": [
                          0.8607075759,
                          0.04399665799
                        ],
                        "passed_time": 15.7301288,
                        "iteration": 229,
                        "remaining_time": 52.66173556,
                        "learn": [
                          0.01652586593
                        ]
                      },
                      {
                        "test": [
                          0.8607075759,
                          0.04396490644
                        ],
                        "passed_time": 15.79554972,
                        "iteration": 230,
                        "remaining_time": 52.5834534,
                        "learn": [
                          0.01646939657
                        ]
                      },
                      {
                        "test": [
                          0.8607604985,
                          0.04393970076
                        ],
                        "passed_time": 15.86032028,
                        "iteration": 231,
                        "remaining_time": 52.50312921,
                        "learn": [
                          0.01638374917
                        ]
                      },
                      {
                        "test": [
                          0.8607604985,
                          0.04394973634
                        ],
                        "passed_time": 15.93390622,
                        "iteration": 232,
                        "remaining_time": 52.45195737,
                        "learn": [
                          0.01632425345
                        ]
                      },
                      {
                        "test": [
                          0.8607340372,
                          0.04395954999
                        ],
                        "passed_time": 15.99957511,
                        "iteration": 233,
                        "remaining_time": 52.37467748,
                        "learn": [
                          0.0162688068
                        ]
                      },
                      {
                        "test": [
                          0.8606546532,
                          0.04392957498
                        ],
                        "passed_time": 16.06480332,
                        "iteration": 234,
                        "remaining_time": 52.29606186,
                        "learn": [
                          0.01615767483
                        ]
                      },
                      {
                        "test": [
                          0.8606546532,
                          0.04394749331
                        ],
                        "passed_time": 16.13068271,
                        "iteration": 235,
                        "remaining_time": 52.21966774,
                        "learn": [
                          0.01609939662
                        ]
                      },
                      {
                        "test": [
                          0.8606546532,
                          0.04395482102
                        ],
                        "passed_time": 16.22838934,
                        "iteration": 236,
                        "remaining_time": 52.24582729,
                        "learn": [
                          0.01604529412
                        ]
                      },
                      {
                        "test": [
                          0.8606281919,
                          0.04396304662
                        ],
                        "passed_time": 16.29587884,
                        "iteration": 237,
                        "remaining_time": 52.17420031,
                        "learn": [
                          0.01598811686
                        ]
                      },
                      {
                        "test": [
                          0.8606017306,
                          0.04397305664
                        ],
                        "passed_time": 16.36187294,
                        "iteration": 238,
                        "remaining_time": 52.09784648,
                        "learn": [
                          0.0159340435
                        ]
                      },
                      {
                        "test": [
                          0.8606281919,
                          0.04394287144
                        ],
                        "passed_time": 16.42700264,
                        "iteration": 239,
                        "remaining_time": 52.01884169,
                        "learn": [
                          0.01587804447
                        ]
                      },
                      {
                        "test": [
                          0.8606017306,
                          0.04395212139
                        ],
                        "passed_time": 16.49384426,
                        "iteration": 240,
                        "remaining_time": 51.94534354,
                        "learn": [
                          0.01582528964
                        ]
                      },
                      {
                        "test": [
                          0.8606017306,
                          0.04397336634
                        ],
                        "passed_time": 16.56054977,
                        "iteration": 241,
                        "remaining_time": 51.87147407,
                        "learn": [
                          0.01577321298
                        ]
                      },
                      {
                        "test": [
                          0.8606017306,
                          0.04398376799
                        ],
                        "passed_time": 16.63212961,
                        "iteration": 242,
                        "remaining_time": 51.8128482,
                        "learn": [
                          0.01571825159
                        ]
                      },
                      {
                        "test": [
                          0.8606017306,
                          0.04399088896
                        ],
                        "passed_time": 16.6972149,
                        "iteration": 243,
                        "remaining_time": 51.7339937,
                        "learn": [
                          0.01566687641
                        ]
                      },
                      {
                        "test": [
                          0.8606281919,
                          0.04395871699
                        ],
                        "passed_time": 16.76255813,
                        "iteration": 244,
                        "remaining_time": 51.65604647,
                        "learn": [
                          0.0156067522
                        ]
                      },
                      {
                        "test": [
                          0.8606546532,
                          0.04396442774
                        ],
                        "passed_time": 16.82733565,
                        "iteration": 245,
                        "remaining_time": 51.5764678,
                        "learn": [
                          0.01554745403
                        ]
                      },
                      {
                        "test": [
                          0.8606546532,
                          0.04397921269
                        ],
                        "passed_time": 16.8932457,
                        "iteration": 246,
                        "remaining_time": 51.50046159,
                        "learn": [
                          0.01545711267
                        ]
                      },
                      {
                        "test": [
                          0.8606546532,
                          0.04398484231
                        ],
                        "passed_time": 16.96646817,
                        "iteration": 247,
                        "remaining_time": 51.44670994,
                        "learn": [
                          0.01539831234
                        ]
                      },
                      {
                        "test": [
                          0.8598343521,
                          0.04393686482
                        ],
                        "passed_time": 17.03127894,
                        "iteration": 248,
                        "remaining_time": 51.36743166,
                        "learn": [
                          0.01527034363
                        ]
                      },
                      {
                        "test": [
                          0.8598343521,
                          0.04395530134
                        ],
                        "passed_time": 17.09795724,
                        "iteration": 249,
                        "remaining_time": 51.29387171,
                        "learn": [
                          0.01522011507
                        ]
                      },
                      {
                        "test": [
                          0.8598343521,
                          0.04396525509
                        ],
                        "passed_time": 17.18005428,
                        "iteration": 250,
                        "remaining_time": 51.26637711,
                        "learn": [
                          0.01516241577
                        ]
                      },
                      {
                        "test": [
                          0.8598343521,
                          0.04397071755
                        ],
                        "passed_time": 17.26660226,
                        "iteration": 251,
                        "remaining_time": 51.25166068,
                        "learn": [
                          0.01510534986
                        ]
                      },
                      {
                        "test": [
                          0.8598078908,
                          0.04398126805
                        ],
                        "passed_time": 17.33558037,
                        "iteration": 252,
                        "remaining_time": 51.18450016,
                        "learn": [
                          0.01504907583
                        ]
                      },
                      {
                        "test": [
                          0.8598078908,
                          0.04398667725
                        ],
                        "passed_time": 17.4011739,
                        "iteration": 253,
                        "remaining_time": 51.10738477,
                        "learn": [
                          0.01499384833
                        ]
                      },
                      {
                        "test": [
                          0.8597549681,
                          0.0439711242
                        ],
                        "passed_time": 17.46649047,
                        "iteration": 254,
                        "remaining_time": 51.0295506,
                        "learn": [
                          0.01481721289
                        ]
                      },
                      {
                        "test": [
                          0.8597549681,
                          0.04399164594
                        ],
                        "passed_time": 17.53233887,
                        "iteration": 255,
                        "remaining_time": 50.95335984,
                        "learn": [
                          0.01476820098
                        ]
                      },
                      {
                        "test": [
                          0.8597549681,
                          0.04399850541
                        ],
                        "passed_time": 17.60042511,
                        "iteration": 256,
                        "remaining_time": 50.8837193,
                        "learn": [
                          0.01471317484
                        ]
                      },
                      {
                        "test": [
                          0.8597549681,
                          0.04400725454
                        ],
                        "passed_time": 17.66898811,
                        "iteration": 257,
                        "remaining_time": 50.81546192,
                        "learn": [
                          0.01465903818
                        ]
                      },
                      {
                        "test": [
                          0.8597549681,
                          0.04395255621
                        ],
                        "passed_time": 17.74350039,
                        "iteration": 258,
                        "remaining_time": 50.76422313,
                        "learn": [
                          0.01459237524
                        ]
                      },
                      {
                        "test": [
                          0.8597285068,
                          0.04393808686
                        ],
                        "passed_time": 17.80976368,
                        "iteration": 259,
                        "remaining_time": 50.6893274,
                        "learn": [
                          0.01449810763
                        ]
                      },
                      {
                        "test": [
                          0.8598343521,
                          0.04391216546
                        ],
                        "passed_time": 17.8756247,
                        "iteration": 260,
                        "remaining_time": 50.61335884,
                        "learn": [
                          0.01444796817
                        ]
                      },
                      {
                        "test": [
                          0.8597814294,
                          0.04393164063
                        ],
                        "passed_time": 17.94633389,
                        "iteration": 261,
                        "remaining_time": 50.55112371,
                        "learn": [
                          0.01440060042
                        ]
                      },
                      {
                        "test": [
                          0.8597814294,
                          0.04393706021
                        ],
                        "passed_time": 18.01817117,
                        "iteration": 262,
                        "remaining_time": 50.49198536,
                        "learn": [
                          0.01434824373
                        ]
                      },
                      {
                        "test": [
                          0.8598343521,
                          0.04390806682
                        ],
                        "passed_time": 18.08605571,
                        "iteration": 263,
                        "remaining_time": 50.42173108,
                        "learn": [
                          0.01426445843
                        ]
                      },
                      {
                        "test": [
                          0.8598343521,
                          0.04391873794
                        ],
                        "passed_time": 18.15110022,
                        "iteration": 264,
                        "remaining_time": 50.3436176,
                        "learn": [
                          0.01421767591
                        ]
                      },
                      {
                        "test": [
                          0.8598608134,
                          0.04386497465
                        ],
                        "passed_time": 18.24760464,
                        "iteration": 265,
                        "remaining_time": 50.35241279,
                        "learn": [
                          0.01416619332
                        ]
                      },
                      {
                        "test": [
                          0.8598608134,
                          0.04387374216
                        ],
                        "passed_time": 18.31308753,
                        "iteration": 266,
                        "remaining_time": 50.27525527,
                        "learn": [
                          0.01411543044
                        ]
                      },
                      {
                        "test": [
                          0.8598343521,
                          0.04382574261
                        ],
                        "passed_time": 18.37928993,
                        "iteration": 267,
                        "remaining_time": 50.2001501,
                        "learn": [
                          0.01406503498
                        ]
                      },
                      {
                        "test": [
                          0.8598343521,
                          0.0437577665
                        ],
                        "passed_time": 18.4445529,
                        "iteration": 268,
                        "remaining_time": 50.12255825,
                        "learn": [
                          0.01398978753
                        ]
                      },
                      {
                        "test": [
                          0.8598343521,
                          0.04376708655
                        ],
                        "passed_time": 18.5099562,
                        "iteration": 269,
                        "remaining_time": 50.04543714,
                        "learn": [
                          0.01394159788
                        ]
                      },
                      {
                        "test": [
                          0.8598608134,
                          0.04375411568
                        ],
                        "passed_time": 18.57894394,
                        "iteration": 270,
                        "remaining_time": 49.97804477,
                        "learn": [
                          0.01389630442
                        ]
                      },
                      {
                        "test": [
                          0.8598608134,
                          0.0437632899
                        ],
                        "passed_time": 18.64399214,
                        "iteration": 271,
                        "remaining_time": 49.90009662,
                        "learn": [
                          0.01384807125
                        ]
                      },
                      {
                        "test": [
                          0.8598608134,
                          0.04377552532
                        ],
                        "passed_time": 18.71337266,
                        "iteration": 272,
                        "remaining_time": 49.83377993,
                        "learn": [
                          0.01380350753
                        ]
                      },
                      {
                        "test": [
                          0.8598608134,
                          0.04372787617
                        ],
                        "passed_time": 18.7783076,
                        "iteration": 273,
                        "remaining_time": 49.75566173,
                        "learn": [
                          0.01375550128
                        ]
                      },
                      {
                        "test": [
                          0.8595168162,
                          0.0436888822
                        ],
                        "passed_time": 18.84353297,
                        "iteration": 274,
                        "remaining_time": 49.6784051,
                        "learn": [
                          0.01365157976
                        ]
                      },
                      {
                        "test": [
                          0.8594903548,
                          0.0437027137
                        ],
                        "passed_time": 18.90770318,
                        "iteration": 275,
                        "remaining_time": 49.59846776,
                        "learn": [
                          0.01359649162
                        ]
                      },
                      {
                        "test": [
                          0.8594903548,
                          0.04372420131
                        ],
                        "passed_time": 18.98328135,
                        "iteration": 276,
                        "remaining_time": 49.54842028,
                        "learn": [
                          0.01355299432
                        ]
                      },
                      {
                        "test": [
                          0.8594638935,
                          0.04373550681
                        ],
                        "passed_time": 19.04837503,
                        "iteration": 277,
                        "remaining_time": 49.47095961,
                        "learn": [
                          0.01351000885
                        ]
                      },
                      {
                        "test": [
                          0.8594638935,
                          0.04374457127
                        ],
                        "passed_time": 19.11292277,
                        "iteration": 278,
                        "remaining_time": 49.39217675,
                        "learn": [
                          0.01346345727
                        ]
                      },
                      {
                        "test": [
                          0.8594638935,
                          0.04370442722
                        ],
                        "passed_time": 19.17855133,
                        "iteration": 279,
                        "remaining_time": 49.31627486,
                        "learn": [
                          0.01339844783
                        ]
                      },
                      {
                        "test": [
                          0.8595697388,
                          0.04367731659
                        ],
                        "passed_time": 19.27232766,
                        "iteration": 280,
                        "remaining_time": 49.31246829,
                        "learn": [
                          0.01335588292
                        ]
                      },
                      {
                        "test": [
                          0.8595168162,
                          0.04368461179
                        ],
                        "passed_time": 19.34924162,
                        "iteration": 281,
                        "remaining_time": 49.26509037,
                        "learn": [
                          0.013310925
                        ]
                      },
                      {
                        "test": [
                          0.8595168162,
                          0.04370468606
                        ],
                        "passed_time": 19.4145936,
                        "iteration": 282,
                        "remaining_time": 49.18821063,
                        "learn": [
                          0.01326888336
                        ]
                      },
                      {
                        "test": [
                          0.8595697388,
                          0.0436659423
                        ],
                        "passed_time": 19.4796182,
                        "iteration": 283,
                        "remaining_time": 49.11058673,
                        "learn": [
                          0.01321999614
                        ]
                      },
                      {
                        "test": [
                          0.8595697388,
                          0.04367522502
                        ],
                        "passed_time": 19.54432286,
                        "iteration": 284,
                        "remaining_time": 49.03224858,
                        "learn": [
                          0.01317845746
                        ]
                      },
                      {
                        "test": [
                          0.8595432775,
                          0.04367946865
                        ],
                        "passed_time": 19.61494749,
                        "iteration": 285,
                        "remaining_time": 48.968785,
                        "learn": [
                          0.01304800505
                        ]
                      },
                      {
                        "test": [
                          0.8595432775,
                          0.04369136195
                        ],
                        "passed_time": 19.67958288,
                        "iteration": 286,
                        "remaining_time": 48.8903923,
                        "learn": [
                          0.01300642873
                        ]
                      },
                      {
                        "test": [
                          0.8596755841,
                          0.04362958511
                        ],
                        "passed_time": 19.74786163,
                        "iteration": 287,
                        "remaining_time": 48.82110236,
                        "learn": [
                          0.01296268964
                        ]
                      },
                      {
                        "test": [
                          0.8597020455,
                          0.04352531802
                        ],
                        "passed_time": 19.81304962,
                        "iteration": 288,
                        "remaining_time": 48.7442155,
                        "learn": [
                          0.01289112116
                        ]
                      },
                      {
                        "test": [
                          0.8596755841,
                          0.04350643586
                        ],
                        "passed_time": 19.87815836,
                        "iteration": 289,
                        "remaining_time": 48.6672153,
                        "learn": [
                          0.01284730622
                        ]
                      },
                      {
                        "test": [
                          0.8596755841,
                          0.04352926777
                        ],
                        "passed_time": 19.94284572,
                        "iteration": 290,
                        "remaining_time": 48.58927015,
                        "learn": [
                          0.01280722574
                        ]
                      },
                      {
                        "test": [
                          0.8596755841,
                          0.04354294539
                        ],
                        "passed_time": 20.01771795,
                        "iteration": 291,
                        "remaining_time": 48.53611064,
                        "learn": [
                          0.01276736233
                        ]
                      },
                      {
                        "test": [
                          0.8596755841,
                          0.04354925135
                        ],
                        "passed_time": 20.08266235,
                        "iteration": 292,
                        "remaining_time": 48.45884738,
                        "learn": [
                          0.01272502149
                        ]
                      },
                      {
                        "test": [
                          0.8597020455,
                          0.04353930792
                        ],
                        "passed_time": 20.14788945,
                        "iteration": 293,
                        "remaining_time": 48.38234677,
                        "learn": [
                          0.0126609485
                        ]
                      },
                      {
                        "test": [
                          0.8597020455,
                          0.04354758716
                        ],
                        "passed_time": 20.21547921,
                        "iteration": 294,
                        "remaining_time": 48.31156895,
                        "learn": [
                          0.01262177142
                        ]
                      },
                      {
                        "test": [
                          0.8597020455,
                          0.04346090224
                        ],
                        "passed_time": 20.31718562,
                        "iteration": 295,
                        "remaining_time": 48.32195499,
                        "learn": [
                          0.01256038163
                        ]
                      },
                      {
                        "test": [
                          0.8597020455,
                          0.04346937918
                        ],
                        "passed_time": 20.3838964,
                        "iteration": 296,
                        "remaining_time": 48.24875141,
                        "learn": [
                          0.01252125261
                        ]
                      },
                      {
                        "test": [
                          0.8597020455,
                          0.04349256709
                        ],
                        "passed_time": 20.4506999,
                        "iteration": 297,
                        "remaining_time": 48.17580984,
                        "learn": [
                          0.01248286648
                        ]
                      },
                      {
                        "test": [
                          0.8596755841,
                          0.04350533135
                        ],
                        "passed_time": 20.51624493,
                        "iteration": 298,
                        "remaining_time": 48.09995884,
                        "learn": [
                          0.01244131296
                        ]
                      },
                      {
                        "test": [
                          0.8596491228,
                          0.0435118427
                        ],
                        "passed_time": 20.58587249,
                        "iteration": 299,
                        "remaining_time": 48.03370248,
                        "learn": [
                          0.0123784027
                        ]
                      },
                      {
                        "test": [
                          0.8596491228,
                          0.04350494927
                        ],
                        "passed_time": 20.65490023,
                        "iteration": 300,
                        "remaining_time": 47.96603077,
                        "learn": [
                          0.01231222254
                        ]
                      },
                      {
                        "test": [
                          0.8596491228,
                          0.04351372871
                        ],
                        "passed_time": 20.72187774,
                        "iteration": 301,
                        "remaining_time": 47.89361147,
                        "learn": [
                          0.01227407417
                        ]
                      },
                      {
                        "test": [
                          0.8595962002,
                          0.04352289348
                        ],
                        "passed_time": 20.79045283,
                        "iteration": 302,
                        "remaining_time": 47.82490304,
                        "learn": [
                          0.01223635017
                        ]
                      },
                      {
                        "test": [
                          0.8595962002,
                          0.04353714305
                        ],
                        "passed_time": 20.85829053,
                        "iteration": 303,
                        "remaining_time": 47.75450727,
                        "learn": [
                          0.0121959344
                        ]
                      },
                      {
                        "test": [
                          0.8595962002,
                          0.04355875623
                        ],
                        "passed_time": 20.92721163,
                        "iteration": 304,
                        "remaining_time": 47.68659699,
                        "learn": [
                          0.01215893805
                        ]
                      },
                      {
                        "test": [
                          0.8596226615,
                          0.04357633847
                        ],
                        "passed_time": 20.994275,
                        "iteration": 305,
                        "remaining_time": 47.61446682,
                        "learn": [
                          0.01204813448
                        ]
                      },
                      {
                        "test": [
                          0.8596226615,
                          0.04359075191
                        ],
                        "passed_time": 21.06718802,
                        "iteration": 306,
                        "remaining_time": 47.55557425,
                        "learn": [
                          0.01201106556
                        ]
                      },
                      {
                        "test": [
                          0.8596226615,
                          0.04359964636
                        ],
                        "passed_time": 21.13376673,
                        "iteration": 307,
                        "remaining_time": 47.48235901,
                        "learn": [
                          0.01197465037
                        ]
                      },
                      {
                        "test": [
                          0.8596226615,
                          0.04360888153
                        ],
                        "passed_time": 21.19987317,
                        "iteration": 308,
                        "remaining_time": 47.40813063,
                        "learn": [
                          0.01193550023
                        ]
                      },
                      {
                        "test": [
                          0.8596226615,
                          0.04358587621
                        ],
                        "passed_time": 21.2837462,
                        "iteration": 309,
                        "remaining_time": 47.37349961,
                        "learn": [
                          0.01187250368
                        ]
                      },
                      {
                        "test": [
                          0.8596226615,
                          0.04359714746
                        ],
                        "passed_time": 21.36759471,
                        "iteration": 310,
                        "remaining_time": 47.3384976,
                        "learn": [
                          0.01183715776
                        ]
                      },
                      {
                        "test": [
                          0.8596226615,
                          0.04360283508
                        ],
                        "passed_time": 21.43514578,
                        "iteration": 311,
                        "remaining_time": 47.26724454,
                        "learn": [
                          0.0117865621
                        ]
                      },
                      {
                        "test": [
                          0.8596226615,
                          0.0436160003
                        ],
                        "passed_time": 21.50033751,
                        "iteration": 312,
                        "remaining_time": 47.19083664,
                        "learn": [
                          0.01175081241
                        ]
                      },
                      {
                        "test": [
                          0.8596226615,
                          0.04362504867
                        ],
                        "passed_time": 21.56846644,
                        "iteration": 313,
                        "remaining_time": 47.12091714,
                        "learn": [
                          0.0117121741
                        ]
                      },
                      {
                        "test": [
                          0.8596226615,
                          0.04361595146
                        ],
                        "passed_time": 21.63313221,
                        "iteration": 314,
                        "remaining_time": 47.04347798,
                        "learn": [
                          0.01167751103
                        ]
                      },
                      {
                        "test": [
                          0.8596226615,
                          0.04362502861
                        ],
                        "passed_time": 21.70096025,
                        "iteration": 315,
                        "remaining_time": 46.97296459,
                        "learn": [
                          0.01164286829
                        ]
                      },
                      {
                        "test": [
                          0.8596226615,
                          0.04363411016
                        ],
                        "passed_time": 21.76612029,
                        "iteration": 316,
                        "remaining_time": 46.89671975,
                        "learn": [
                          0.01160840798
                        ]
                      },
                      {
                        "test": [
                          0.8595962002,
                          0.04361780616
                        ],
                        "passed_time": 21.83423341,
                        "iteration": 317,
                        "remaining_time": 46.82687794,
                        "learn": [
                          0.01154563207
                        ]
                      },
                      {
                        "test": [
                          0.8595962002,
                          0.04363117824
                        ],
                        "passed_time": 21.898966,
                        "iteration": 318,
                        "remaining_time": 46.74983024,
                        "learn": [
                          0.01151129834
                        ]
                      },
                      {
                        "test": [
                          0.8595962002,
                          0.04364514881
                        ],
                        "passed_time": 21.96472618,
                        "iteration": 319,
                        "remaining_time": 46.67504313,
                        "learn": [
                          0.01147439489
                        ]
                      },
                      {
                        "test": [
                          0.8596491228,
                          0.04356861537
                        ],
                        "passed_time": 22.03324652,
                        "iteration": 320,
                        "remaining_time": 46.60615074,
                        "learn": [
                          0.01142425468
                        ]
                      },
                      {
                        "test": [
                          0.8596755841,
                          0.04356054581
                        ],
                        "passed_time": 22.10813147,
                        "iteration": 321,
                        "remaining_time": 46.55066191,
                        "learn": [
                          0.01138775626
                        ]
                      },
                      {
                        "test": [
                          0.8596755841,
                          0.04357040975
                        ],
                        "passed_time": 22.17461541,
                        "iteration": 322,
                        "remaining_time": 46.47744468,
                        "learn": [
                          0.01135388794
                        ]
                      },
                      {
                        "test": [
                          0.8596755841,
                          0.043579755
                        ],
                        "passed_time": 22.2410675,
                        "iteration": 323,
                        "remaining_time": 46.40420256,
                        "learn": [
                          0.01132098719
                        ]
                      },
                      {
                        "test": [
                          0.8596755841,
                          0.04359333522
                        ],
                        "passed_time": 22.35282349,
                        "iteration": 324,
                        "remaining_time": 46.42509494,
                        "learn": [
                          0.01128806492
                        ]
                      },
                      {
                        "test": [
                          0.8596755841,
                          0.04360185572
                        ],
                        "passed_time": 22.42326163,
                        "iteration": 325,
                        "remaining_time": 46.3597495,
                        "learn": [
                          0.01118719904
                        ]
                      },
                      {
                        "test": [
                          0.8596755841,
                          0.04361586858
                        ],
                        "passed_time": 22.48783175,
                        "iteration": 326,
                        "remaining_time": 46.28229594,
                        "learn": [
                          0.01115465803
                        ]
                      },
                      {
                        "test": [
                          0.8597020455,
                          0.04360000998
                        ],
                        "passed_time": 22.55414074,
                        "iteration": 327,
                        "remaining_time": 46.20848347,
                        "learn": [
                          0.01109540576
                        ]
                      },
                      {
                        "test": [
                          0.8597285068,
                          0.0435940515
                        ],
                        "passed_time": 22.62196789,
                        "iteration": 328,
                        "remaining_time": 46.13781294,
                        "learn": [
                          0.01106291165
                        ]
                      },
                      {
                        "test": [
                          0.8597285068,
                          0.04360391004
                        ],
                        "passed_time": 22.68755766,
                        "iteration": 329,
                        "remaining_time": 46.06261708,
                        "learn": [
                          0.01103090408
                        ]
                      },
                      {
                        "test": [
                          0.8597285068,
                          0.04359048781
                        ],
                        "passed_time": 22.75336992,
                        "iteration": 330,
                        "remaining_time": 45.98792893,
                        "learn": [
                          0.01097379766
                        ]
                      },
                      {
                        "test": [
                          0.8596755841,
                          0.04360194292
                        ],
                        "passed_time": 22.81931372,
                        "iteration": 331,
                        "remaining_time": 45.91355892,
                        "learn": [
                          0.01094210554
                        ]
                      },
                      {
                        "test": [
                          0.8596755841,
                          0.04361674309
                        ],
                        "passed_time": 22.88641379,
                        "iteration": 332,
                        "remaining_time": 45.84155556,
                        "learn": [
                          0.01091039099
                        ]
                      },
                      {
                        "test": [
                          0.8596755841,
                          0.04363996267
                        ],
                        "passed_time": 22.95140736,
                        "iteration": 333,
                        "remaining_time": 45.76538115,
                        "learn": [
                          0.01087587147
                        ]
                      },
                      {
                        "test": [
                          0.8596755841,
                          0.04362120665
                        ],
                        "passed_time": 23.01708254,
                        "iteration": 334,
                        "remaining_time": 45.69062653,
                        "learn": [
                          0.01084494719
                        ]
                      },
                      {
                        "test": [
                          0.8596755841,
                          0.04363104334
                        ],
                        "passed_time": 23.09319733,
                        "iteration": 335,
                        "remaining_time": 45.63655664,
                        "learn": [
                          0.01081405952
                        ]
                      },
                      {
                        "test": [
                          0.8597285068,
                          0.04357638743
                        ],
                        "passed_time": 23.1588979,
                        "iteration": 336,
                        "remaining_time": 45.56186738,
                        "learn": [
                          0.01076633613
                        ]
                      },
                      {
                        "test": [
                          0.8597285068,
                          0.0435876788
                        ],
                        "passed_time": 23.22549409,
                        "iteration": 337,
                        "remaining_time": 45.48898548,
                        "learn": [
                          0.01073609979
                        ]
                      },
                      {
                        "test": [
                          0.8597020455,
                          0.04359811682
                        ],
                        "passed_time": 23.29210751,
                        "iteration": 338,
                        "remaining_time": 45.41617423,
                        "learn": [
                          0.01070569357
                        ]
                      },
                      {
                        "test": [
                          0.8597020455,
                          0.04362139604
                        ],
                        "passed_time": 23.39641446,
                        "iteration": 339,
                        "remaining_time": 45.41656925,
                        "learn": [
                          0.01067516072
                        ]
                      },
                      {
                        "test": [
                          0.8596226615,
                          0.04360260517
                        ],
                        "passed_time": 23.46176848,
                        "iteration": 340,
                        "remaining_time": 45.34107164,
                        "learn": [
                          0.0105865207
                        ]
                      },
                      {
                        "test": [
                          0.8596226615,
                          0.04361274641
                        ],
                        "passed_time": 23.52796597,
                        "iteration": 341,
                        "remaining_time": 45.26725616,
                        "learn": [
                          0.0105562707
                        ]
                      },
                      {
                        "test": [
                          0.8596226615,
                          0.04362484783
                        ],
                        "passed_time": 23.59558693,
                        "iteration": 342,
                        "remaining_time": 45.1962117,
                        "learn": [
                          0.01052671657
                        ]
                      },
                      {
                        "test": [
                          0.8596491228,
                          0.04361131494
                        ],
                        "passed_time": 23.66099984,
                        "iteration": 343,
                        "remaining_time": 45.12097643,
                        "learn": [
                          0.0104764033
                        ]
                      },
                      {
                        "test": [
                          0.8596491228,
                          0.04362733121
                        ],
                        "passed_time": 23.72779793,
                        "iteration": 344,
                        "remaining_time": 45.04842795,
                        "learn": [
                          0.01044696636
                        ]
                      },
                      {
                        "test": [
                          0.8596491228,
                          0.04363997159
                        ],
                        "passed_time": 23.7933337,
                        "iteration": 345,
                        "remaining_time": 44.97352671,
                        "learn": [
                          0.01041761428
                        ]
                      },
                      {
                        "test": [
                          0.8596226615,
                          0.04366401681
                        ],
                        "passed_time": 23.86231724,
                        "iteration": 346,
                        "remaining_time": 44.9051676,
                        "learn": [
                          0.01038545316
                        ]
                      },
                      {
                        "test": [
                          0.8596226615,
                          0.04367701889
                        ],
                        "passed_time": 23.92867176,
                        "iteration": 347,
                        "remaining_time": 44.83187928,
                        "learn": [
                          0.01035654452
                        ]
                      },
                      {
                        "test": [
                          0.8596226615,
                          0.04368869002
                        ],
                        "passed_time": 23.9942502,
                        "iteration": 348,
                        "remaining_time": 44.75718305,
                        "learn": [
                          0.01032808818
                        ]
                      },
                      {
                        "test": [
                          0.8596226615,
                          0.04370320303
                        ],
                        "passed_time": 24.06042539,
                        "iteration": 349,
                        "remaining_time": 44.68364716,
                        "learn": [
                          0.01029967359
                        ]
                      },
                      {
                        "test": [
                          0.8596226615,
                          0.04371331003
                        ],
                        "passed_time": 24.13603453,
                        "iteration": 350,
                        "remaining_time": 44.62759661,
                        "learn": [
                          0.01027155237
                        ]
                      },
                      {
                        "test": [
                          0.8596226615,
                          0.04373382474
                        ],
                        "passed_time": 24.20189011,
                        "iteration": 351,
                        "remaining_time": 44.55347951,
                        "learn": [
                          0.01020403218
                        ]
                      },
                      {
                        "test": [
                          0.8597020455,
                          0.04370109719
                        ],
                        "passed_time": 24.26808852,
                        "iteration": 352,
                        "remaining_time": 44.48003759,
                        "learn": [
                          0.01017626187
                        ]
                      },
                      {
                        "test": [
                          0.8596755841,
                          0.0437118276
                        ],
                        "passed_time": 24.3503398,
                        "iteration": 353,
                        "remaining_time": 44.43593081,
                        "learn": [
                          0.01014828627
                        ]
                      },
                      {
                        "test": [
                          0.8596755841,
                          0.04369801138
                        ],
                        "passed_time": 24.43550177,
                        "iteration": 354,
                        "remaining_time": 44.39689758,
                        "learn": [
                          0.01009814799
                        ]
                      },
                      {
                        "test": [
                          0.8596755841,
                          0.04371129508
                        ],
                        "passed_time": 24.5014871,
                        "iteration": 355,
                        "remaining_time": 44.32291488,
                        "learn": [
                          0.01007034979
                        ]
                      },
                      {
                        "test": [
                          0.8596755841,
                          0.04372610165
                        ],
                        "passed_time": 24.57041744,
                        "iteration": 356,
                        "remaining_time": 44.25428127,
                        "learn": [
                          0.01004282837
                        ]
                      },
                      {
                        "test": [
                          0.8596755841,
                          0.04373643084
                        ],
                        "passed_time": 24.63591936,
                        "iteration": 357,
                        "remaining_time": 44.17949785,
                        "learn": [
                          0.01001566432
                        ]
                      },
                      {
                        "test": [
                          0.8596755841,
                          0.04375514828
                        ],
                        "passed_time": 24.70110146,
                        "iteration": 358,
                        "remaining_time": 44.10419508,
                        "learn": [
                          0.009968329104
                        ]
                      },
                      {
                        "test": [
                          0.8597814294,
                          0.04371568822
                        ],
                        "passed_time": 24.76784194,
                        "iteration": 359,
                        "remaining_time": 44.031719,
                        "learn": [
                          0.009876679569
                        ]
                      },
                      {
                        "test": [
                          0.8597814294,
                          0.04371321121
                        ],
                        "passed_time": 24.83269266,
                        "iteration": 360,
                        "remaining_time": 43.95592967,
                        "learn": [
                          0.009849894293
                        ]
                      },
                      {
                        "test": [
                          0.8597814294,
                          0.04373110241
                        ],
                        "passed_time": 24.90252116,
                        "iteration": 361,
                        "remaining_time": 43.88897376,
                        "learn": [
                          0.009822760613
                        ]
                      },
                      {
                        "test": [
                          0.8597814294,
                          0.04374373345
                        ],
                        "passed_time": 24.96797612,
                        "iteration": 362,
                        "remaining_time": 43.81432725,
                        "learn": [
                          0.009796109024
                        ]
                      },
                      {
                        "test": [
                          0.8597814294,
                          0.04375899044
                        ],
                        "passed_time": 25.03341346,
                        "iteration": 363,
                        "remaining_time": 43.73970044,
                        "learn": [
                          0.00976635128
                        ]
                      },
                      {
                        "test": [
                          0.8598343521,
                          0.04368933665
                        ],
                        "passed_time": 25.10642199,
                        "iteration": 364,
                        "remaining_time": 43.67829579,
                        "learn": [
                          0.00974002843
                        ]
                      },
                      {
                        "test": [
                          0.8597814294,
                          0.04372111716
                        ],
                        "passed_time": 25.17317229,
                        "iteration": 365,
                        "remaining_time": 43.60598697,
                        "learn": [
                          0.009714180702
                        ]
                      },
                      {
                        "test": [
                          0.8597814294,
                          0.04369801979
                        ],
                        "passed_time": 25.23842034,
                        "iteration": 366,
                        "remaining_time": 43.53111737,
                        "learn": [
                          0.009686980619
                        ]
                      },
                      {
                        "test": [
                          0.8597549681,
                          0.04371047842
                        ],
                        "passed_time": 25.30363122,
                        "iteration": 367,
                        "remaining_time": 43.45623623,
                        "learn": [
                          0.009661155062
                        ]
                      },
                      {
                        "test": [
                          0.8597549681,
                          0.04372281029
                        ],
                        "passed_time": 25.38900896,
                        "iteration": 368,
                        "remaining_time": 43.41589337,
                        "learn": [
                          0.009635463193
                        ]
                      },
                      {
                        "test": [
                          0.8597549681,
                          0.0437389741
                        ],
                        "passed_time": 25.47179628,
                        "iteration": 369,
                        "remaining_time": 43.37089636,
                        "learn": [
                          0.009609902367
                        ]
                      },
                      {
                        "test": [
                          0.8598078908,
                          0.04366921322
                        ],
                        "passed_time": 25.5413467,
                        "iteration": 370,
                        "remaining_time": 43.30325357,
                        "learn": [
                          0.009579015327
                        ]
                      },
                      {
                        "test": [
                          0.8598343521,
                          0.04365165535
                        ],
                        "passed_time": 25.61166467,
                        "iteration": 371,
                        "remaining_time": 43.23689628,
                        "learn": [
                          0.009541488667
                        ]
                      },
                      {
                        "test": [
                          0.8598343521,
                          0.04367587283
                        ],
                        "passed_time": 25.67689213,
                        "iteration": 372,
                        "remaining_time": 43.16196077,
                        "learn": [
                          0.009516188855
                        ]
                      },
                      {
                        "test": [
                          0.8598343521,
                          0.04369071939
                        ],
                        "passed_time": 25.74221036,
                        "iteration": 373,
                        "remaining_time": 43.08722911,
                        "learn": [
                          0.009491124744
                        ]
                      },
                      {
                        "test": [
                          0.8598343521,
                          0.04370126742
                        ],
                        "passed_time": 25.80820151,
                        "iteration": 374,
                        "remaining_time": 43.01366918,
                        "learn": [
                          0.009466232302
                        ]
                      },
                      {
                        "test": [
                          0.8598078908,
                          0.04367580776
                        ],
                        "passed_time": 25.87323728,
                        "iteration": 375,
                        "remaining_time": 42.93856399,
                        "learn": [
                          0.009417143782
                        ]
                      },
                      {
                        "test": [
                          0.8598078908,
                          0.04369133657
                        ],
                        "passed_time": 25.94113984,
                        "iteration": 376,
                        "remaining_time": 42.86824965,
                        "learn": [
                          0.009392530695
                        ]
                      },
                      {
                        "test": [
                          0.8598475828,
                          0.04362313108
                        ],
                        "passed_time": 26.00697756,
                        "iteration": 377,
                        "remaining_time": 42.79455037,
                        "learn": [
                          0.009367956195
                        ]
                      },
                      {
                        "test": [
                          0.8598475828,
                          0.04364759938
                        ],
                        "passed_time": 26.07290015,
                        "iteration": 378,
                        "remaining_time": 42.72103164,
                        "learn": [
                          0.009343705447
                        ]
                      },
                      {
                        "test": [
                          0.8598475828,
                          0.0436563244
                        ],
                        "passed_time": 26.149778,
                        "iteration": 379,
                        "remaining_time": 42.66542726,
                        "learn": [
                          0.009318996873
                        ]
                      },
                      {
                        "test": [
                          0.8598475828,
                          0.04364425409
                        ],
                        "passed_time": 26.21747361,
                        "iteration": 380,
                        "remaining_time": 42.59479309,
                        "learn": [
                          0.009279402103
                        ]
                      },
                      {
                        "test": [
                          0.8598211214,
                          0.0436570406
                        ],
                        "passed_time": 26.28282131,
                        "iteration": 381,
                        "remaining_time": 42.52037584,
                        "learn": [
                          0.009255394822
                        ]
                      },
                      {
                        "test": [
                          0.8598211214,
                          0.04366802521
                        ],
                        "passed_time": 26.3532452,
                        "iteration": 382,
                        "remaining_time": 42.45418353,
                        "learn": [
                          0.009231564692
                        ]
                      },
                      {
                        "test": [
                          0.8597681988,
                          0.04368472893
                        ],
                        "passed_time": 26.43826275,
                        "iteration": 383,
                        "remaining_time": 42.41137982,
                        "learn": [
                          0.009208029782
                        ]
                      },
                      {
                        "test": [
                          0.8597681988,
                          0.04369940816
                        ],
                        "passed_time": 26.53661122,
                        "iteration": 384,
                        "remaining_time": 42.38965169,
                        "learn": [
                          0.009184361185
                        ]
                      },
                      {
                        "test": [
                          0.8597417375,
                          0.04370492738
                        ],
                        "passed_time": 26.60579222,
                        "iteration": 385,
                        "remaining_time": 42.32113063,
                        "learn": [
                          0.009139671657
                        ]
                      },
                      {
                        "test": [
                          0.8597417375,
                          0.04373250788
                        ],
                        "passed_time": 26.67242864,
                        "iteration": 386,
                        "remaining_time": 42.24857561,
                        "learn": [
                          0.00911653646
                        ]
                      },
                      {
                        "test": [
                          0.8597417375,
                          0.04374353952
                        ],
                        "passed_time": 26.73826957,
                        "iteration": 387,
                        "remaining_time": 42.17479633,
                        "learn": [
                          0.009093299855
                        ]
                      },
                      {
                        "test": [
                          0.8597681988,
                          0.04370336157
                        ],
                        "passed_time": 26.8040368,
                        "iteration": 388,
                        "remaining_time": 42.10094213,
                        "learn": [
                          0.009055489597
                        ]
                      },
                      {
                        "test": [
                          0.8597681988,
                          0.04371453173
                        ],
                        "passed_time": 26.87097605,
                        "iteration": 389,
                        "remaining_time": 42.02896255,
                        "learn": [
                          0.009032094021
                        ]
                      },
                      {
                        "test": [
                          0.8597681988,
                          0.04372566508
                        ],
                        "passed_time": 26.93597367,
                        "iteration": 390,
                        "remaining_time": 41.95398457,
                        "learn": [
                          0.0090090019
                        ]
                      },
                      {
                        "test": [
                          0.8597681988,
                          0.04374063488
                        ],
                        "passed_time": 27.00430186,
                        "iteration": 391,
                        "remaining_time": 41.88422329,
                        "learn": [
                          0.008986334803
                        ]
                      },
                      {
                        "test": [
                          0.8597946601,
                          0.04368770376
                        ],
                        "passed_time": 27.06915008,
                        "iteration": 392,
                        "remaining_time": 41.8090944,
                        "learn": [
                          0.008949164116
                        ]
                      },
                      {
                        "test": [
                          0.8597946601,
                          0.04369503806
                        ],
                        "passed_time": 27.13873993,
                        "iteration": 393,
                        "remaining_time": 41.74131065,
                        "learn": [
                          0.008896787444
                        ]
                      },
                      {
                        "test": [
                          0.8597946601,
                          0.04372027379
                        ],
                        "passed_time": 27.20942797,
                        "iteration": 394,
                        "remaining_time": 41.6751998,
                        "learn": [
                          0.008873979719
                        ]
                      },
                      {
                        "test": [
                          0.8597946601,
                          0.04373754816
                        ],
                        "passed_time": 27.27484443,
                        "iteration": 395,
                        "remaining_time": 41.60102535,
                        "learn": [
                          0.008851225838
                        ]
                      },
                      {
                        "test": [
                          0.8597946601,
                          0.04375483155
                        ],
                        "passed_time": 27.3408497,
                        "iteration": 396,
                        "remaining_time": 41.52778934,
                        "learn": [
                          0.008828700002
                        ]
                      },
                      {
                        "test": [
                          0.8599269667,
                          0.04371497079
                        ],
                        "passed_time": 27.40547482,
                        "iteration": 397,
                        "remaining_time": 41.45250211,
                        "learn": [
                          0.00880640034
                        ]
                      },
                      {
                        "test": [
                          0.8599269667,
                          0.04373985206
                        ],
                        "passed_time": 27.5054208,
                        "iteration": 398,
                        "remaining_time": 41.43047093,
                        "learn": [
                          0.008784469351
                        ]
                      },
                      {
                        "test": [
                          0.8599005054,
                          0.04371725387
                        ],
                        "passed_time": 27.58793242,
                        "iteration": 399,
                        "remaining_time": 41.38189863,
                        "learn": [
                          0.008751692344
                        ]
                      },
                      {
                        "test": [
                          0.8599005054,
                          0.04373123551
                        ],
                        "passed_time": 27.65506852,
                        "iteration": 400,
                        "remaining_time": 41.31018963,
                        "learn": [
                          0.00872966592
                        ]
                      },
                      {
                        "test": [
                          0.8599005054,
                          0.04371964259
                        ],
                        "passed_time": 27.72150504,
                        "iteration": 401,
                        "remaining_time": 41.23746272,
                        "learn": [
                          0.008708094792
                        ]
                      },
                      {
                        "test": [
                          0.8599005054,
                          0.043731177
                        ],
                        "passed_time": 27.78611796,
                        "iteration": 402,
                        "remaining_time": 41.16206557,
                        "learn": [
                          0.008686378519
                        ]
                      },
                      {
                        "test": [
                          0.8599005054,
                          0.04374324628
                        ],
                        "passed_time": 27.85336419,
                        "iteration": 403,
                        "remaining_time": 41.09060658,
                        "learn": [
                          0.008664872058
                        ]
                      },
                      {
                        "test": [
                          0.8599005054,
                          0.04375455669
                        ],
                        "passed_time": 27.91950718,
                        "iteration": 404,
                        "remaining_time": 41.01754758,
                        "learn": [
                          0.008643363615
                        ]
                      },
                      {
                        "test": [
                          0.8599269667,
                          0.04376310454
                        ],
                        "passed_time": 27.99329038,
                        "iteration": 405,
                        "remaining_time": 40.95570071,
                        "learn": [
                          0.008621306016
                        ]
                      },
                      {
                        "test": [
                          0.8599269667,
                          0.0437741018
                        ],
                        "passed_time": 28.05924924,
                        "iteration": 406,
                        "remaining_time": 40.88239508,
                        "learn": [
                          0.008600296767
                        ]
                      },
                      {
                        "test": [
                          0.8598872747,
                          0.04375996784
                        ],
                        "passed_time": 28.12461007,
                        "iteration": 407,
                        "remaining_time": 40.80825774,
                        "learn": [
                          0.008579304098
                        ]
                      },
                      {
                        "test": [
                          0.8598872747,
                          0.04372775159
                        ],
                        "passed_time": 28.19997152,
                        "iteration": 408,
                        "remaining_time": 40.74861411,
                        "learn": [
                          0.008545222215
                        ]
                      },
                      {
                        "test": [
                          0.8598608134,
                          0.04373589617
                        ],
                        "passed_time": 28.26464524,
                        "iteration": 409,
                        "remaining_time": 40.67351388,
                        "learn": [
                          0.008503006848
                        ]
                      },
                      {
                        "test": [
                          0.8598608134,
                          0.04375193486
                        ],
                        "passed_time": 28.33416638,
                        "iteration": 410,
                        "remaining_time": 40.60541118,
                        "learn": [
                          0.008481830971
                        ]
                      },
                      {
                        "test": [
                          0.8598608134,
                          0.04376337037
                        ],
                        "passed_time": 28.4021687,
                        "iteration": 411,
                        "remaining_time": 40.53513397,
                        "learn": [
                          0.008460808364
                        ]
                      },
                      {
                        "test": [
                          0.8598608134,
                          0.04378840494
                        ],
                        "passed_time": 28.46736677,
                        "iteration": 412,
                        "remaining_time": 40.46088206,
                        "learn": [
                          0.008440164233
                        ]
                      },
                      {
                        "test": [
                          0.8598343521,
                          0.04380421704
                        ],
                        "passed_time": 28.58767322,
                        "iteration": 413,
                        "remaining_time": 40.46467755,
                        "learn": [
                          0.008419614848
                        ]
                      },
                      {
                        "test": [
                          0.8598343521,
                          0.04379184051
                        ],
                        "passed_time": 28.65217009,
                        "iteration": 414,
                        "remaining_time": 40.38920362,
                        "learn": [
                          0.008399330939
                        ]
                      },
                      {
                        "test": [
                          0.8598343521,
                          0.04380762949
                        ],
                        "passed_time": 28.71704297,
                        "iteration": 415,
                        "remaining_time": 40.31431033,
                        "learn": [
                          0.008379284576
                        ]
                      },
                      {
                        "test": [
                          0.8598343521,
                          0.04381879233
                        ],
                        "passed_time": 28.78204644,
                        "iteration": 416,
                        "remaining_time": 40.23964766,
                        "learn": [
                          0.008362201731
                        ]
                      },
                      {
                        "test": [
                          0.8598078908,
                          0.04381085968
                        ],
                        "passed_time": 28.84691131,
                        "iteration": 417,
                        "remaining_time": 40.16483824,
                        "learn": [
                          0.008330397718
                        ]
                      },
                      {
                        "test": [
                          0.8598608134,
                          0.04377435421
                        ],
                        "passed_time": 28.91405756,
                        "iteration": 418,
                        "remaining_time": 40.09323972,
                        "learn": [
                          0.0083105401
                        ]
                      },
                      {
                        "test": [
                          0.8598608134,
                          0.0438020875
                        ],
                        "passed_time": 28.9791605,
                        "iteration": 419,
                        "remaining_time": 40.01884069,
                        "learn": [
                          0.008290529211
                        ]
                      },
                      {
                        "test": [
                          0.8598608134,
                          0.04381025088
                        ],
                        "passed_time": 29.04781878,
                        "iteration": 420,
                        "remaining_time": 39.94937547,
                        "learn": [
                          0.008245692862
                        ]
                      },
                      {
                        "test": [
                          0.8598608134,
                          0.0438234831
                        ],
                        "passed_time": 29.11342076,
                        "iteration": 421,
                        "remaining_time": 39.87572796,
                        "learn": [
                          0.008225823869
                        ]
                      },
                      {
                        "test": [
                          0.8598608134,
                          0.04383531833
                        ],
                        "passed_time": 29.18282283,
                        "iteration": 422,
                        "remaining_time": 39.80730207,
                        "learn": [
                          0.008206173419
                        ]
                      },
                      {
                        "test": [
                          0.8598608134,
                          0.0438494628
                        ],
                        "passed_time": 29.26120793,
                        "iteration": 423,
                        "remaining_time": 39.75107493,
                        "learn": [
                          0.008188977982
                        ]
                      },
                      {
                        "test": [
                          0.8598608134,
                          0.04383693909
                        ],
                        "passed_time": 29.32741147,
                        "iteration": 424,
                        "remaining_time": 39.67826258,
                        "learn": [
                          0.008169420841
                        ]
                      },
                      {
                        "test": [
                          0.8598608134,
                          0.04386188594
                        ],
                        "passed_time": 29.39315359,
                        "iteration": 425,
                        "remaining_time": 39.60485953,
                        "learn": [
                          0.008150290517
                        ]
                      },
                      {
                        "test": [
                          0.8598608134,
                          0.0438566292
                        ],
                        "passed_time": 29.45857668,
                        "iteration": 426,
                        "remaining_time": 39.53106425,
                        "learn": [
                          0.008120688991
                        ]
                      },
                      {
                        "test": [
                          0.8598608134,
                          0.04386799779
                        ],
                        "passed_time": 29.54666748,
                        "iteration": 427,
                        "remaining_time": 39.48760233,
                        "learn": [
                          0.008101407188
                        ]
                      },
                      {
                        "test": [
                          0.8598608134,
                          0.04388072142
                        ],
                        "passed_time": 29.63989492,
                        "iteration": 428,
                        "remaining_time": 39.45076923,
                        "learn": [
                          0.008082337232
                        ]
                      },
                      {
                        "test": [
                          0.8598608134,
                          0.04389447342
                        ],
                        "passed_time": 29.70542478,
                        "iteration": 429,
                        "remaining_time": 39.37695843,
                        "learn": [
                          0.008062838344
                        ]
                      },
                      {
                        "test": [
                          0.8598608134,
                          0.043883943
                        ],
                        "passed_time": 29.77106141,
                        "iteration": 430,
                        "remaining_time": 39.30332701,
                        "learn": [
                          0.008041357773
                        ]
                      },
                      {
                        "test": [
                          0.8598608134,
                          0.04389579685
                        ],
                        "passed_time": 29.83739252,
                        "iteration": 431,
                        "remaining_time": 39.23064572,
                        "learn": [
                          0.00802250361
                        ]
                      },
                      {
                        "test": [
                          0.8598343521,
                          0.04390546215
                        ],
                        "passed_time": 29.90335953,
                        "iteration": 432,
                        "remaining_time": 39.15751698,
                        "learn": [
                          0.007980423556
                        ]
                      },
                      {
                        "test": [
                          0.8598343521,
                          0.04390760319
                        ],
                        "passed_time": 29.97095231,
                        "iteration": 433,
                        "remaining_time": 39.08654149,
                        "learn": [
                          0.007961559837
                        ]
                      },
                      {
                        "test": [
                          0.8598343521,
                          0.04392085094
                        ],
                        "passed_time": 30.03954235,
                        "iteration": 434,
                        "remaining_time": 39.01687684,
                        "learn": [
                          0.007945788526
                        ]
                      },
                      {
                        "test": [
                          0.8598343521,
                          0.0439323542
                        ],
                        "passed_time": 30.1061751,
                        "iteration": 435,
                        "remaining_time": 38.94468522,
                        "learn": [
                          0.007927229556
                        ]
                      },
                      {
                        "test": [
                          0.8598343521,
                          0.04394415231
                        ],
                        "passed_time": 30.17986249,
                        "iteration": 436,
                        "remaining_time": 38.88160774,
                        "learn": [
                          0.007908598343
                        ]
                      },
                      {
                        "test": [
                          0.8598343521,
                          0.0439549567
                        ],
                        "passed_time": 30.25433802,
                        "iteration": 437,
                        "remaining_time": 38.81949307,
                        "learn": [
                          0.007888039594
                        ]
                      },
                      {
                        "test": [
                          0.8598343521,
                          0.04394958177
                        ],
                        "passed_time": 30.32164419,
                        "iteration": 438,
                        "remaining_time": 38.74816035,
                        "learn": [
                          0.007864275262
                        ]
                      },
                      {
                        "test": [
                          0.8598343521,
                          0.04396105209
                        ],
                        "passed_time": 30.388423,
                        "iteration": 439,
                        "remaining_time": 38.67617473,
                        "learn": [
                          0.007845764435
                        ]
                      },
                      {
                        "test": [
                          0.8598343521,
                          0.04399113944
                        ],
                        "passed_time": 30.45646939,
                        "iteration": 440,
                        "remaining_time": 38.60581948,
                        "learn": [
                          0.007827603277
                        ]
                      },
                      {
                        "test": [
                          0.8598343521,
                          0.04400250159
                        ],
                        "passed_time": 30.52135035,
                        "iteration": 441,
                        "remaining_time": 38.5314785,
                        "learn": [
                          0.007809508905
                        ]
                      },
                      {
                        "test": [
                          0.8598078908,
                          0.04401832341
                        ],
                        "passed_time": 30.63690613,
                        "iteration": 442,
                        "remaining_time": 38.52089552,
                        "learn": [
                          0.00779466793
                        ]
                      },
                      {
                        "test": [
                          0.8598078908,
                          0.04402951134
                        ],
                        "passed_time": 30.70408651,
                        "iteration": 443,
                        "remaining_time": 38.44926149,
                        "learn": [
                          0.007758227623
                        ]
                      },
                      {
                        "test": [
                          0.8598078908,
                          0.04404103095
                        ],
                        "passed_time": 30.76957368,
                        "iteration": 444,
                        "remaining_time": 38.37553571,
                        "learn": [
                          0.007740300818
                        ]
                      },
                      {
                        "test": [
                          0.8598078908,
                          0.04404191936
                        ],
                        "passed_time": 30.83536471,
                        "iteration": 445,
                        "remaining_time": 38.30222432,
                        "learn": [
                          0.007711755904
                        ]
                      },
                      {
                        "test": [
                          0.8598078908,
                          0.04403192459
                        ],
                        "passed_time": 30.90099167,
                        "iteration": 446,
                        "remaining_time": 38.22874361,
                        "learn": [
                          0.007693801254
                        ]
                      },
                      {
                        "test": [
                          0.8598078908,
                          0.04406316314
                        ],
                        "passed_time": 30.96597738,
                        "iteration": 447,
                        "remaining_time": 38.15450784,
                        "learn": [
                          0.007676360586
                        ]
                      },
                      {
                        "test": [
                          0.8598078908,
                          0.04407466274
                        ],
                        "passed_time": 31.03190762,
                        "iteration": 448,
                        "remaining_time": 38.08147238,
                        "learn": [
                          0.007658659293
                        ]
                      },
                      {
                        "test": [
                          0.8598078908,
                          0.04409071889
                        ],
                        "passed_time": 31.09687703,
                        "iteration": 449,
                        "remaining_time": 38.00729415,
                        "learn": [
                          0.007641034071
                        ]
                      },
                      {
                        "test": [
                          0.8598608134,
                          0.04405698838
                        ],
                        "passed_time": 31.16595729,
                        "iteration": 450,
                        "remaining_time": 37.93816087,
                        "learn": [
                          0.007626625776
                        ]
                      },
                      {
                        "test": [
                          0.8598608134,
                          0.04406649582
                        ],
                        "passed_time": 31.24156278,
                        "iteration": 451,
                        "remaining_time": 37.87693895,
                        "learn": [
                          0.00760929869
                        ]
                      },
                      {
                        "test": [
                          0.8598608134,
                          0.04405473696
                        ],
                        "passed_time": 31.30794052,
                        "iteration": 452,
                        "remaining_time": 37.80451096,
                        "learn": [
                          0.007591327707
                        ]
                      },
                      {
                        "test": [
                          0.8598608134,
                          0.04408306586
                        ],
                        "passed_time": 31.37558159,
                        "iteration": 453,
                        "remaining_time": 37.73362896,
                        "learn": [
                          0.007577556068
                        ]
                      },
                      {
                        "test": [
                          0.8598608134,
                          0.04408145879
                        ],
                        "passed_time": 31.44131209,
                        "iteration": 454,
                        "remaining_time": 37.66047272,
                        "learn": [
                          0.007548631187
                        ]
                      },
                      {
                        "test": [
                          0.8598608134,
                          0.04409404302
                        ],
                        "passed_time": 31.50699773,
                        "iteration": 455,
                        "remaining_time": 37.58729554,
                        "learn": [
                          0.007531794016
                        ]
                      },
                      {
                        "test": [
                          0.8598343521,
                          0.0440798229
                        ],
                        "passed_time": 31.57596882,
                        "iteration": 456,
                        "remaining_time": 37.51805486,
                        "learn": [
                          0.007496307343
                        ]
                      },
                      {
                        "test": [
                          0.8598343521,
                          0.04409617294
                        ],
                        "passed_time": 31.69636562,
                        "iteration": 457,
                        "remaining_time": 37.50967285,
                        "learn": [
                          0.007479090947
                        ]
                      },
                      {
                        "test": [
                          0.8599137361,
                          0.04406322078
                        ],
                        "passed_time": 31.76136113,
                        "iteration": 458,
                        "remaining_time": 37.43550408,
                        "learn": [
                          0.007462150495
                        ]
                      },
                      {
                        "test": [
                          0.8599137361,
                          0.04408845312
                        ],
                        "passed_time": 31.82665486,
                        "iteration": 459,
                        "remaining_time": 37.36172527,
                        "learn": [
                          0.007445413411
                        ]
                      },
                      {
                        "test": [
                          0.8599137361,
                          0.04410762799
                        ],
                        "passed_time": 31.89160798,
                        "iteration": 460,
                        "remaining_time": 37.28758503,
                        "learn": [
                          0.007428652862
                        ]
                      },
                      {
                        "test": [
                          0.8599137361,
                          0.04412185743
                        ],
                        "passed_time": 31.95621381,
                        "iteration": 461,
                        "remaining_time": 37.21308015,
                        "learn": [
                          0.007415132951
                        ]
                      },
                      {
                        "test": [
                          0.8599137361,
                          0.04413818604
                        ],
                        "passed_time": 32.02126517,
                        "iteration": 462,
                        "remaining_time": 37.13913477,
                        "learn": [
                          0.007398801336
                        ]
                      },
                      {
                        "test": [
                          0.8598872747,
                          0.04413607289
                        ],
                        "passed_time": 32.08711068,
                        "iteration": 463,
                        "remaining_time": 37.0661451,
                        "learn": [
                          0.007375467702
                        ]
                      },
                      {
                        "test": [
                          0.8598872747,
                          0.04410448955
                        ],
                        "passed_time": 32.15223653,
                        "iteration": 464,
                        "remaining_time": 36.99235816,
                        "learn": [
                          0.007358940927
                        ]
                      },
                      {
                        "test": [
                          0.8598872747,
                          0.04411516461
                        ],
                        "passed_time": 32.22498782,
                        "iteration": 465,
                        "remaining_time": 36.92734656,
                        "learn": [
                          0.007340432082
                        ]
                      },
                      {
                        "test": [
                          0.8599666587,
                          0.04411601084
                        ],
                        "passed_time": 32.30063327,
                        "iteration": 466,
                        "remaining_time": 36.865605,
                        "learn": [
                          0.007294010105
                        ]
                      },
                      {
                        "test": [
                          0.8599666587,
                          0.04414120369
                        ],
                        "passed_time": 32.36647438,
                        "iteration": 467,
                        "remaining_time": 36.79265891,
                        "learn": [
                          0.007280482293
                        ]
                      },
                      {
                        "test": [
                          0.8599666587,
                          0.04413620702
                        ],
                        "passed_time": 32.43289775,
                        "iteration": 468,
                        "remaining_time": 36.72040236,
                        "learn": [
                          0.007251821565
                        ]
                      },
                      {
                        "test": [
                          0.8599401974,
                          0.04414803179
                        ],
                        "passed_time": 32.49859265,
                        "iteration": 469,
                        "remaining_time": 36.64734916,
                        "learn": [
                          0.007238463575
                        ]
                      },
                      {
                        "test": [
                          0.8599137361,
                          0.04415987159
                        ],
                        "passed_time": 32.56781351,
                        "iteration": 470,
                        "remaining_time": 36.57828736,
                        "learn": [
                          0.007222415723
                        ]
                      },
                      {
                        "test": [
                          0.8599137361,
                          0.04417145942
                        ],
                        "passed_time": 32.65660763,
                        "iteration": 471,
                        "remaining_time": 36.5311204,
                        "learn": [
                          0.007206306976
                        ]
                      },
                      {
                        "test": [
                          0.8599137361,
                          0.04419631613
                        ],
                        "passed_time": 32.75283624,
                        "iteration": 472,
                        "remaining_time": 36.49206068,
                        "learn": [
                          0.007190248628
                        ]
                      },
                      {
                        "test": [
                          0.8599137361,
                          0.04420935608
                        ],
                        "passed_time": 32.81815293,
                        "iteration": 473,
                        "remaining_time": 36.41845663,
                        "learn": [
                          0.007177632475
                        ]
                      },
                      {
                        "test": [
                          0.8599137361,
                          0.04422530157
                        ],
                        "passed_time": 32.8842384,
                        "iteration": 474,
                        "remaining_time": 36.34573718,
                        "learn": [
                          0.007161819637
                        ]
                      },
                      {
                        "test": [
                          0.8598872747,
                          0.04422135953
                        ],
                        "passed_time": 32.9493385,
                        "iteration": 475,
                        "remaining_time": 36.27196087,
                        "learn": [
                          0.007142992052
                        ]
                      },
                      {
                        "test": [
                          0.8598872747,
                          0.04423517138
                        ],
                        "passed_time": 33.01452551,
                        "iteration": 476,
                        "remaining_time": 36.19831623,
                        "learn": [
                          0.007127038169
                        ]
                      },
                      {
                        "test": [
                          0.8598872747,
                          0.04424690755
                        ],
                        "passed_time": 33.08065957,
                        "iteration": 477,
                        "remaining_time": 36.1257412,
                        "learn": [
                          0.007111761872
                        ]
                      },
                      {
                        "test": [
                          0.8598608134,
                          0.04426070237
                        ],
                        "passed_time": 33.14819644,
                        "iteration": 478,
                        "remaining_time": 36.05471888,
                        "learn": [
                          0.007080064116
                        ]
                      },
                      {
                        "test": [
                          0.8598608134,
                          0.04428557475
                        ],
                        "passed_time": 33.21785408,
                        "iteration": 479,
                        "remaining_time": 35.98600858,
                        "learn": [
                          0.007064583429
                        ]
                      },
                      {
                        "test": [
                          0.8598608134,
                          0.04429703977
                        ],
                        "passed_time": 33.29183445,
                        "iteration": 480,
                        "remaining_time": 35.92195858,
                        "learn": [
                          0.007049070851
                        ]
                      },
                      {
                        "test": [
                          0.8598608134,
                          0.04429400198
                        ],
                        "passed_time": 33.35794746,
                        "iteration": 481,
                        "remaining_time": 35.84941242,
                        "learn": [
                          0.007036711276
                        ]
                      },
                      {
                        "test": [
                          0.8598608134,
                          0.04428318266
                        ],
                        "passed_time": 33.4224029,
                        "iteration": 482,
                        "remaining_time": 35.77511863,
                        "learn": [
                          0.007014935982
                        ]
                      },
                      {
                        "test": [
                          0.8598608134,
                          0.0442971918
                        ],
                        "passed_time": 33.48829707,
                        "iteration": 483,
                        "remaining_time": 35.70239936,
                        "learn": [
                          0.006999686317
                        ]
                      },
                      {
                        "test": [
                          0.8598608134,
                          0.0443088231
                        ],
                        "passed_time": 33.55576442,
                        "iteration": 484,
                        "remaining_time": 35.63137871,
                        "learn": [
                          0.006984414699
                        ]
                      },
                      {
                        "test": [
                          0.8598608134,
                          0.04432014976
                        ],
                        "passed_time": 33.62164748,
                        "iteration": 485,
                        "remaining_time": 35.55869713,
                        "learn": [
                          0.006969180182
                        ]
                      },
                      {
                        "test": [
                          0.8598608134,
                          0.04434791734
                        ],
                        "passed_time": 33.70782641,
                        "iteration": 486,
                        "remaining_time": 35.50742289,
                        "learn": [
                          0.006957426884
                        ]
                      },
                      {
                        "test": [
                          0.8598608134,
                          0.04434333377
                        ],
                        "passed_time": 33.80557287,
                        "iteration": 487,
                        "remaining_time": 35.46814202,
                        "learn": [
                          0.006942352933
                        ]
                      },
                      {
                        "test": [
                          0.8598608134,
                          0.04435764796
                        ],
                        "passed_time": 33.87034342,
                        "iteration": 488,
                        "remaining_time": 35.39416255,
                        "learn": [
                          0.006909087752
                        ]
                      },
                      {
                        "test": [
                          0.8598608134,
                          0.04437165886
                        ],
                        "passed_time": 33.93532784,
                        "iteration": 489,
                        "remaining_time": 35.32044326,
                        "learn": [
                          0.006897129981
                        ]
                      },
                      {
                        "test": [
                          0.8598608134,
                          0.04438520982
                        ],
                        "passed_time": 34.00043503,
                        "iteration": 490,
                        "remaining_time": 35.24688682,
                        "learn": [
                          0.006876212257
                        ]
                      },
                      {
                        "test": [
                          0.8598608134,
                          0.04439836934
                        ],
                        "passed_time": 34.06520492,
                        "iteration": 491,
                        "remaining_time": 35.17301646,
                        "learn": [
                          0.006861304878
                        ]
                      },
                      {
                        "test": [
                          0.8598608134,
                          0.0444098385
                        ],
                        "passed_time": 34.13059635,
                        "iteration": 492,
                        "remaining_time": 35.09982221,
                        "learn": [
                          0.00684640929
                        ]
                      },
                      {
                        "test": [
                          0.8598608134,
                          0.04442121521
                        ],
                        "passed_time": 34.19498215,
                        "iteration": 493,
                        "remaining_time": 35.02562949,
                        "learn": [
                          0.006831785512
                        ]
                      },
                      {
                        "test": [
                          0.8598608134,
                          0.04443083506
                        ],
                        "passed_time": 34.2612653,
                        "iteration": 494,
                        "remaining_time": 34.95341207,
                        "learn": [
                          0.006820605712
                        ]
                      },
                      {
                        "test": [
                          0.8598608134,
                          0.04444613478
                        ],
                        "passed_time": 34.34008097,
                        "iteration": 495,
                        "remaining_time": 34.89395325,
                        "learn": [
                          0.006805885593
                        ]
                      },
                      {
                        "test": [
                          0.8598608134,
                          0.04445571409
                        ],
                        "passed_time": 34.40526361,
                        "iteration": 496,
                        "remaining_time": 34.82061891,
                        "learn": [
                          0.006794265015
                        ]
                      },
                      {
                        "test": [
                          0.8598608134,
                          0.04446960012
                        ],
                        "passed_time": 34.47065199,
                        "iteration": 497,
                        "remaining_time": 34.74752469,
                        "learn": [
                          0.006779740635
                        ]
                      },
                      {
                        "test": [
                          0.8598608134,
                          0.04445070984
                        ],
                        "passed_time": 34.53771689,
                        "iteration": 498,
                        "remaining_time": 34.67614462,
                        "learn": [
                          0.0067567662
                        ]
                      },
                      {
                        "test": [
                          0.8598608134,
                          0.0444620138
                        ],
                        "passed_time": 34.60346804,
                        "iteration": 499,
                        "remaining_time": 34.60346804,
                        "learn": [
                          0.006742477495
                        ]
                      },
                      {
                        "test": [
                          0.8598343521,
                          0.04447687423
                        ],
                        "passed_time": 34.66868094,
                        "iteration": 500,
                        "remaining_time": 34.53028302,
                        "learn": [
                          0.00671044026
                        ]
                      },
                      {
                        "test": [
                          0.8598343521,
                          0.04449408665
                        ],
                        "passed_time": 34.75629239,
                        "iteration": 501,
                        "remaining_time": 34.47934982,
                        "learn": [
                          0.006699321055
                        ]
                      },
                      {
                        "test": [
                          0.8598343521,
                          0.0444993579
                        ],
                        "passed_time": 34.85187047,
                        "iteration": 502,
                        "remaining_time": 34.43614239,
                        "learn": [
                          0.006685183113
                        ]
                      },
                      {
                        "test": [
                          0.8598343521,
                          0.04451321899
                        ],
                        "passed_time": 34.91700147,
                        "iteration": 503,
                        "remaining_time": 34.36276336,
                        "learn": [
                          0.006670812303
                        ]
                      },
                      {
                        "test": [
                          0.8598608134,
                          0.04448677193
                        ],
                        "passed_time": 34.98329683,
                        "iteration": 504,
                        "remaining_time": 34.29055828,
                        "learn": [
                          0.006660021258
                        ]
                      },
                      {
                        "test": [
                          0.8598608134,
                          0.04449941571
                        ],
                        "passed_time": 35.04804536,
                        "iteration": 505,
                        "remaining_time": 34.21686642,
                        "learn": [
                          0.006646044821
                        ]
                      },
                      {
                        "test": [
                          0.8598608134,
                          0.044510543
                        ],
                        "passed_time": 35.1133968,
                        "iteration": 506,
                        "remaining_time": 34.1437961,
                        "learn": [
                          0.006635328136
                        ]
                      },
                      {
                        "test": [
                          0.8598608134,
                          0.04451161066
                        ],
                        "passed_time": 35.17868158,
                        "iteration": 507,
                        "remaining_time": 34.07069161,
                        "learn": [
                          0.006616069716
                        ]
                      },
                      {
                        "test": [
                          0.8598608134,
                          0.04453587591
                        ],
                        "passed_time": 35.24783876,
                        "iteration": 508,
                        "remaining_time": 34.0013533,
                        "learn": [
                          0.006602378997
                        ]
                      },
                      {
                        "test": [
                          0.8598608134,
                          0.04454953697
                        ],
                        "passed_time": 35.32764892,
                        "iteration": 509,
                        "remaining_time": 33.94225093,
                        "learn": [
                          0.006588494739
                        ]
                      },
                      {
                        "test": [
                          0.8598608134,
                          0.04454351441
                        ],
                        "passed_time": 35.39276882,
                        "iteration": 510,
                        "remaining_time": 33.86900969,
                        "learn": [
                          0.006577983022
                        ]
                      },
                      {
                        "test": [
                          0.8598608134,
                          0.04453931402
                        ],
                        "passed_time": 35.4581063,
                        "iteration": 511,
                        "remaining_time": 33.79600757,
                        "learn": [
                          0.006563648374
                        ]
                      },
                      {
                        "test": [
                          0.8598608134,
                          0.04455068172
                        ],
                        "passed_time": 35.52332252,
                        "iteration": 512,
                        "remaining_time": 33.72292021,
                        "learn": [
                          0.006543002212
                        ]
                      },
                      {
                        "test": [
                          0.8598608134,
                          0.04454306017
                        ],
                        "passed_time": 35.5913916,
                        "iteration": 513,
                        "remaining_time": 33.65256093,
                        "learn": [
                          0.006529395409
                        ]
                      },
                      {
                        "test": [
                          0.8598608134,
                          0.04457171555
                        ],
                        "passed_time": 35.65697776,
                        "iteration": 514,
                        "remaining_time": 33.57987226,
                        "learn": [
                          0.006518859016
                        ]
                      },
                      {
                        "test": [
                          0.8598608134,
                          0.04458272197
                        ],
                        "passed_time": 35.72211862,
                        "iteration": 515,
                        "remaining_time": 33.50679344,
                        "learn": [
                          0.006505258909
                        ]
                      },
                      {
                        "test": [
                          0.8598608134,
                          0.04458422958
                        ],
                        "passed_time": 35.82812645,
                        "iteration": 516,
                        "remaining_time": 33.47192471,
                        "learn": [
                          0.006486685559
                        ]
                      },
                      {
                        "test": [
                          0.8598608134,
                          0.04459803386
                        ],
                        "passed_time": 35.9164312,
                        "iteration": 517,
                        "remaining_time": 33.42030857,
                        "learn": [
                          0.006473143097
                        ]
                      },
                      {
                        "test": [
                          0.8598608134,
                          0.04460903505
                        ],
                        "passed_time": 35.98940269,
                        "iteration": 518,
                        "remaining_time": 33.35434045,
                        "learn": [
                          0.006462834721
                        ]
                      },
                      {
                        "test": [
                          0.8598608134,
                          0.04462075817
                        ],
                        "passed_time": 36.05439502,
                        "iteration": 519,
                        "remaining_time": 33.28098002,
                        "learn": [
                          0.006447989559
                        ]
                      },
                      {
                        "test": [
                          0.8598608134,
                          0.04463400146
                        ],
                        "passed_time": 36.12082377,
                        "iteration": 520,
                        "remaining_time": 33.20897233,
                        "learn": [
                          0.006429493191
                        ]
                      },
                      {
                        "test": [
                          0.8598608134,
                          0.04464518389
                        ],
                        "passed_time": 36.18811875,
                        "iteration": 521,
                        "remaining_time": 33.13777924,
                        "learn": [
                          0.006419173414
                        ]
                      },
                      {
                        "test": [
                          0.8598608134,
                          0.0446562793
                        ],
                        "passed_time": 36.25454645,
                        "iteration": 522,
                        "remaining_time": 33.06581005,
                        "learn": [
                          0.006406001192
                        ]
                      },
                      {
                        "test": [
                          0.8598608134,
                          0.04467246781
                        ],
                        "passed_time": 36.3267554,
                        "iteration": 523,
                        "remaining_time": 32.99911368,
                        "learn": [
                          0.006379677217
                        ]
                      },
                      {
                        "test": [
                          0.8598608134,
                          0.04468066335
                        ],
                        "passed_time": 36.40382172,
                        "iteration": 524,
                        "remaining_time": 32.93679108,
                        "learn": [
                          0.006366567047
                        ]
                      },
                      {
                        "test": [
                          0.8598608134,
                          0.04469469216
                        ],
                        "passed_time": 36.47026071,
                        "iteration": 525,
                        "remaining_time": 32.86483569,
                        "learn": [
                          0.006353272295
                        ]
                      },
                      {
                        "test": [
                          0.8598608134,
                          0.04469143665
                        ],
                        "passed_time": 36.53808818,
                        "iteration": 526,
                        "remaining_time": 32.79414746,
                        "learn": [
                          0.006343615362
                        ]
                      },
                      {
                        "test": [
                          0.8598608134,
                          0.04470257569
                        ],
                        "passed_time": 36.6039364,
                        "iteration": 527,
                        "remaining_time": 32.72170072,
                        "learn": [
                          0.006330486604
                        ]
                      },
                      {
                        "test": [
                          0.8598608134,
                          0.04471365118
                        ],
                        "passed_time": 36.66946324,
                        "iteration": 528,
                        "remaining_time": 32.64899279,
                        "learn": [
                          0.006320736335
                        ]
                      },
                      {
                        "test": [
                          0.8598608134,
                          0.04472766713
                        ],
                        "passed_time": 36.73515679,
                        "iteration": 529,
                        "remaining_time": 32.5764598,
                        "learn": [
                          0.006303578327
                        ]
                      },
                      {
                        "test": [
                          0.8598608134,
                          0.04473881736
                        ],
                        "passed_time": 36.82725551,
                        "iteration": 530,
                        "remaining_time": 32.52727464,
                        "learn": [
                          0.006290645281
                        ]
                      },
                      {
                        "test": [
                          0.8598608134,
                          0.04474988497
                        ],
                        "passed_time": 36.92648901,
                        "iteration": 531,
                        "remaining_time": 32.48420461,
                        "learn": [
                          0.006281149934
                        ]
                      },
                      {
                        "test": [
                          0.8598608134,
                          0.04474610229
                        ],
                        "passed_time": 36.99194284,
                        "iteration": 532,
                        "remaining_time": 32.41132702,
                        "learn": [
                          0.006268334106
                        ]
                      },
                      {
                        "test": [
                          0.8598343521,
                          0.04476273016
                        ],
                        "passed_time": 37.05789743,
                        "iteration": 533,
                        "remaining_time": 32.33891424,
                        "learn": [
                          0.006243284925
                        ]
                      },
                      {
                        "test": [
                          0.8598343521,
                          0.04477839277
                        ],
                        "passed_time": 37.12330029,
                        "iteration": 534,
                        "remaining_time": 32.26604605,
                        "learn": [
                          0.006230420293
                        ]
                      },
                      {
                        "test": [
                          0.8598343521,
                          0.04478957359
                        ],
                        "passed_time": 37.18849259,
                        "iteration": 535,
                        "remaining_time": 32.19302343,
                        "learn": [
                          0.006221152331
                        ]
                      },
                      {
                        "test": [
                          0.8598343521,
                          0.04481331444
                        ],
                        "passed_time": 37.25339323,
                        "iteration": 536,
                        "remaining_time": 32.11977852,
                        "learn": [
                          0.006208392275
                        ]
                      },
                      {
                        "test": [
                          0.8598343521,
                          0.04482437966
                        ],
                        "passed_time": 37.3190533,
                        "iteration": 537,
                        "remaining_time": 32.04721678,
                        "learn": [
                          0.006195995797
                        ]
                      },
                      {
                        "test": [
                          0.8598343521,
                          0.04482893067
                        ],
                        "passed_time": 37.40095962,
                        "iteration": 538,
                        "remaining_time": 31.98857585,
                        "learn": [
                          0.006177443989
                        ]
                      },
                      {
                        "test": [
                          0.8598343521,
                          0.04482606101
                        ],
                        "passed_time": 37.46539872,
                        "iteration": 539,
                        "remaining_time": 31.91496928,
                        "learn": [
                          0.006165012283
                        ]
                      },
                      {
                        "test": [
                          0.8598343521,
                          0.04483811119
                        ],
                        "passed_time": 37.5331299,
                        "iteration": 540,
                        "remaining_time": 31.84418969,
                        "learn": [
                          0.006155638316
                        ]
                      },
                      {
                        "test": [
                          0.8598343521,
                          0.04484906567
                        ],
                        "passed_time": 37.59912541,
                        "iteration": 541,
                        "remaining_time": 31.77195468,
                        "learn": [
                          0.006143231315
                        ]
                      },
                      {
                        "test": [
                          0.8598343521,
                          0.04486115775
                        ],
                        "passed_time": 37.67455584,
                        "iteration": 542,
                        "remaining_time": 31.70768327,
                        "learn": [
                          0.006132561867
                        ]
                      },
                      {
                        "test": [
                          0.8598343521,
                          0.0448722996
                        ],
                        "passed_time": 37.74326408,
                        "iteration": 543,
                        "remaining_time": 31.63773607,
                        "learn": [
                          0.006120401119
                        ]
                      },
                      {
                        "test": [
                          0.8598343521,
                          0.04486907864
                        ],
                        "passed_time": 37.80749425,
                        "iteration": 544,
                        "remaining_time": 31.56405483,
                        "learn": [
                          0.006099037518
                        ]
                      },
                      {
                        "test": [
                          0.8598343521,
                          0.04488158672
                        ],
                        "passed_time": 37.92007013,
                        "iteration": 545,
                        "remaining_time": 31.53060776,
                        "learn": [
                          0.006086877621
                        ]
                      },
                      {
                        "test": [
                          0.8598343521,
                          0.04488687152
                        ],
                        "passed_time": 37.9973668,
                        "iteration": 546,
                        "remaining_time": 31.46765477,
                        "learn": [
                          0.006077804548
                        ]
                      },
                      {
                        "test": [
                          0.8598343521,
                          0.04489898936
                        ],
                        "passed_time": 38.06218929,
                        "iteration": 547,
                        "remaining_time": 31.39436051,
                        "learn": [
                          0.006065588218
                        ]
                      },
                      {
                        "test": [
                          0.8598343521,
                          0.04490989503
                        ],
                        "passed_time": 38.12673217,
                        "iteration": 548,
                        "remaining_time": 31.32086741,
                        "learn": [
                          0.0060566558
                        ]
                      },
                      {
                        "test": [
                          0.8598078908,
                          0.04490329059
                        ],
                        "passed_time": 38.19156623,
                        "iteration": 549,
                        "remaining_time": 31.2476451,
                        "learn": [
                          0.006044606098
                        ]
                      },
                      {
                        "test": [
                          0.8598078908,
                          0.04490125845
                        ],
                        "passed_time": 38.25884862,
                        "iteration": 550,
                        "remaining_time": 31.17644833,
                        "learn": [
                          0.006035427925
                        ]
                      },
                      {
                        "test": [
                          0.8598078908,
                          0.04490988092
                        ],
                        "passed_time": 38.32494327,
                        "iteration": 551,
                        "remaining_time": 31.10430178,
                        "learn": [
                          0.006022965922
                        ]
                      },
                      {
                        "test": [
                          0.8598078908,
                          0.04489608841
                        ],
                        "passed_time": 38.40014688,
                        "iteration": 552,
                        "remaining_time": 31.03954007,
                        "learn": [
                          0.006004417005
                        ]
                      },
                      {
                        "test": [
                          0.8598078908,
                          0.04490641118
                        ],
                        "passed_time": 38.4695421,
                        "iteration": 553,
                        "remaining_time": 30.97006457,
                        "learn": [
                          0.005995708116
                        ]
                      },
                      {
                        "test": [
                          0.8597814294,
                          0.04491341875
                        ],
                        "passed_time": 38.53781717,
                        "iteration": 554,
                        "remaining_time": 30.89969124,
                        "learn": [
                          0.005964765532
                        ]
                      },
                      {
                        "test": [
                          0.8597814294,
                          0.04492888311
                        ],
                        "passed_time": 38.60337635,
                        "iteration": 555,
                        "remaining_time": 30.82715666,
                        "learn": [
                          0.00595270126
                        ]
                      },
                      {
                        "test": [
                          0.8598608134,
                          0.04490354588
                        ],
                        "passed_time": 38.6677243,
                        "iteration": 556,
                        "remaining_time": 30.75368378,
                        "learn": [
                          0.005944133055
                        ]
                      },
                      {
                        "test": [
                          0.8598608134,
                          0.04491458044
                        ],
                        "passed_time": 38.73216093,
                        "iteration": 557,
                        "remaining_time": 30.68031386,
                        "learn": [
                          0.005932287905
                        ]
                      },
                      {
                        "test": [
                          0.8598608134,
                          0.04492444672
                        ],
                        "passed_time": 38.79653557,
                        "iteration": 558,
                        "remaining_time": 30.60692699,
                        "learn": [
                          0.00592379767
                        ]
                      },
                      {
                        "test": [
                          0.8598608134,
                          0.04493318725
                        ],
                        "passed_time": 38.86110756,
                        "iteration": 559,
                        "remaining_time": 30.53372737,
                        "learn": [
                          0.005911593485
                        ]
                      },
                      {
                        "test": [
                          0.8598608134,
                          0.04494900472
                        ],
                        "passed_time": 38.98061504,
                        "iteration": 560,
                        "remaining_time": 30.50354724,
                        "learn": [
                          0.005903084825
                        ]
                      },
                      {
                        "test": [
                          0.8598608134,
                          0.04494282062
                        ],
                        "passed_time": 39.05201492,
                        "iteration": 561,
                        "remaining_time": 30.43555611,
                        "learn": [
                          0.005886999238
                        ]
                      },
                      {
                        "test": [
                          0.8598343521,
                          0.04495410277
                        ],
                        "passed_time": 39.11708225,
                        "iteration": 562,
                        "remaining_time": 30.36263756,
                        "learn": [
                          0.00587557581
                        ]
                      },
                      {
                        "test": [
                          0.8598343521,
                          0.04496549853
                        ],
                        "passed_time": 39.18409465,
                        "iteration": 563,
                        "remaining_time": 30.29125047,
                        "learn": [
                          0.005866965407
                        ]
                      },
                      {
                        "test": [
                          0.8598343521,
                          0.04497788826
                        ],
                        "passed_time": 39.24951648,
                        "iteration": 564,
                        "remaining_time": 30.21865428,
                        "learn": [
                          0.005855737719
                        ]
                      },
                      {
                        "test": [
                          0.8598343521,
                          0.04498571888
                        ],
                        "passed_time": 39.31481811,
                        "iteration": 565,
                        "remaining_time": 30.14599127,
                        "learn": [
                          0.005825908152
                        ]
                      },
                      {
                        "test": [
                          0.8598343521,
                          0.04499229758
                        ],
                        "passed_time": 39.38568741,
                        "iteration": 566,
                        "remaining_time": 30.07760608,
                        "learn": [
                          0.005817620814
                        ]
                      },
                      {
                        "test": [
                          0.8598343521,
                          0.04500766178
                        ],
                        "passed_time": 39.4549492,
                        "iteration": 567,
                        "remaining_time": 30.00798953,
                        "learn": [
                          0.005806139769
                        ]
                      },
                      {
                        "test": [
                          0.8598608134,
                          0.04498316918
                        ],
                        "passed_time": 39.524928,
                        "iteration": 568,
                        "remaining_time": 29.93891735,
                        "learn": [
                          0.005798128013
                        ]
                      },
                      {
                        "test": [
                          0.8598608134,
                          0.04499615883
                        ],
                        "passed_time": 39.59109239,
                        "iteration": 569,
                        "remaining_time": 29.86696444,
                        "learn": [
                          0.005783329373
                        ]
                      },
                      {
                        "test": [
                          0.8598608134,
                          0.04500726208
                        ],
                        "passed_time": 39.65661402,
                        "iteration": 570,
                        "remaining_time": 29.79454889,
                        "learn": [
                          0.005775442436
                        ]
                      },
                      {
                        "test": [
                          0.8598608134,
                          0.04501662859
                        ],
                        "passed_time": 39.72142421,
                        "iteration": 571,
                        "remaining_time": 29.72162511,
                        "learn": [
                          0.00576404622
                        ]
                      },
                      {
                        "test": [
                          0.8598608134,
                          0.04502981384
                        ],
                        "passed_time": 39.78678828,
                        "iteration": 572,
                        "remaining_time": 29.6491424,
                        "learn": [
                          0.005756086381
                        ]
                      },
                      {
                        "test": [
                          0.8598608134,
                          0.04504706632
                        ],
                        "passed_time": 39.85228882,
                        "iteration": 573,
                        "remaining_time": 29.57678578,
                        "learn": [
                          0.00574510453
                        ]
                      },
                      {
                        "test": [
                          0.8598608134,
                          0.04505786868
                        ],
                        "passed_time": 39.94405893,
                        "iteration": 574,
                        "remaining_time": 29.52386965,
                        "learn": [
                          0.005737191567
                        ]
                      },
                      {
                        "test": [
                          0.8598608134,
                          0.04506860689
                        ],
                        "passed_time": 40.04304028,
                        "iteration": 575,
                        "remaining_time": 29.47612687,
                        "learn": [
                          0.005726326273
                        ]
                      },
                      {
                        "test": [
                          0.8598608134,
                          0.04508670146
                        ],
                        "passed_time": 40.10858481,
                        "iteration": 576,
                        "remaining_time": 29.40369389,
                        "learn": [
                          0.005704735921
                        ]
                      },
                      {
                        "test": [
                          0.8598608134,
                          0.04509765834
                        ],
                        "passed_time": 40.17376779,
                        "iteration": 577,
                        "remaining_time": 29.33102077,
                        "learn": [
                          0.005693850301
                        ]
                      },
                      {
                        "test": [
                          0.8598608134,
                          0.04510938385
                        ],
                        "passed_time": 40.23937724,
                        "iteration": 578,
                        "remaining_time": 29.25868363,
                        "learn": [
                          0.005686134372
                        ]
                      },
                      {
                        "test": [
                          0.8598608134,
                          0.04512024233
                        ],
                        "passed_time": 40.30406065,
                        "iteration": 579,
                        "remaining_time": 29.18569909,
                        "learn": [
                          0.005675198319
                        ]
                      },
                      {
                        "test": [
                          0.8598608134,
                          0.045113795
                        ],
                        "passed_time": 40.36982223,
                        "iteration": 580,
                        "remaining_time": 29.11352068,
                        "learn": [
                          0.005667750787
                        ]
                      },
                      {
                        "test": [
                          0.8598608134,
                          0.04512349154
                        ],
                        "passed_time": 40.44570217,
                        "iteration": 581,
                        "remaining_time": 29.04863145,
                        "learn": [
                          0.00565950848
                        ]
                      },
                      {
                        "test": [
                          0.8598872747,
                          0.04512042345
                        ],
                        "passed_time": 40.51098076,
                        "iteration": 582,
                        "remaining_time": 28.97612174,
                        "learn": [
                          0.005648526684
                        ]
                      },
                      {
                        "test": [
                          0.8598872747,
                          0.04513405994
                        ],
                        "passed_time": 40.58348871,
                        "iteration": 583,
                        "remaining_time": 28.90878648,
                        "learn": [
                          0.0056408703
                        ]
                      },
                      {
                        "test": [
                          0.8598872747,
                          0.04515455853
                        ],
                        "passed_time": 40.64823816,
                        "iteration": 584,
                        "remaining_time": 28.83592963,
                        "learn": [
                          0.005629687669
                        ]
                      },
                      {
                        "test": [
                          0.8598872747,
                          0.04517032639
                        ],
                        "passed_time": 40.71268053,
                        "iteration": 585,
                        "remaining_time": 28.76288351,
                        "learn": [
                          0.005622476663
                        ]
                      },
                      {
                        "test": [
                          0.8598872747,
                          0.04518320063
                        ],
                        "passed_time": 40.7773345,
                        "iteration": 586,
                        "remaining_time": 28.69001559,
                        "learn": [
                          0.005611521968
                        ]
                      },
                      {
                        "test": [
                          0.8598872747,
                          0.04520350267
                        ],
                        "passed_time": 40.84242561,
                        "iteration": 587,
                        "remaining_time": 28.61748189,
                        "learn": [
                          0.005595303189
                        ]
                      },
                      {
                        "test": [
                          0.8598872747,
                          0.04521420494
                        ],
                        "passed_time": 40.90733554,
                        "iteration": 588,
                        "remaining_time": 28.54484704,
                        "learn": [
                          0.005587981082
                        ]
                      },
                      {
                        "test": [
                          0.8598872747,
                          0.0452279747
                        ],
                        "passed_time": 40.99973068,
                        "iteration": 589,
                        "remaining_time": 28.49133827,
                        "learn": [
                          0.005570957565
                        ]
                      },
                      {
                        "test": [
                          0.8597946601,
                          0.04523880902
                        ],
                        "passed_time": 41.1063038,
                        "iteration": 590,
                        "remaining_time": 28.44750974,
                        "learn": [
                          0.005563768068
                        ]
                      },
                      {
                        "test": [
                          0.8597681988,
                          0.04524775408
                        ],
                        "passed_time": 41.17161061,
                        "iteration": 591,
                        "remaining_time": 28.37502893,
                        "learn": [
                          0.005553054089
                        ]
                      },
                      {
                        "test": [
                          0.8597681988,
                          0.04526476662
                        ],
                        "passed_time": 41.23906332,
                        "iteration": 592,
                        "remaining_time": 28.30404515,
                        "learn": [
                          0.005545679016
                        ]
                      },
                      {
                        "test": [
                          0.8597681988,
                          0.04527318282
                        ],
                        "passed_time": 41.3039881,
                        "iteration": 593,
                        "remaining_time": 28.2313454,
                        "learn": [
                          0.005535330952
                        ]
                      },
                      {
                        "test": [
                          0.8597681988,
                          0.04528443806
                        ],
                        "passed_time": 41.36974112,
                        "iteration": 594,
                        "remaining_time": 28.15923555,
                        "learn": [
                          0.005527911898
                        ]
                      },
                      {
                        "test": [
                          0.8597946601,
                          0.04527916734
                        ],
                        "passed_time": 41.4425395,
                        "iteration": 595,
                        "remaining_time": 28.09192275,
                        "learn": [
                          0.005513617546
                        ]
                      },
                      {
                        "test": [
                          0.8597946601,
                          0.04528992713
                        ],
                        "passed_time": 41.51113177,
                        "iteration": 596,
                        "remaining_time": 28.02175227,
                        "learn": [
                          0.005506130324
                        ]
                      },
                      {
                        "test": [
                          0.8597946601,
                          0.04527980048
                        ],
                        "passed_time": 41.58048629,
                        "iteration": 597,
                        "remaining_time": 27.95209948,
                        "learn": [
                          0.005496209102
                        ]
                      },
                      {
                        "test": [
                          0.8597946601,
                          0.04529125108
                        ],
                        "passed_time": 41.64925622,
                        "iteration": 598,
                        "remaining_time": 27.88205634,
                        "learn": [
                          0.005489094743
                        ]
                      },
                      {
                        "test": [
                          0.8597946601,
                          0.04529342772
                        ],
                        "passed_time": 41.71494224,
                        "iteration": 599,
                        "remaining_time": 27.80996149,
                        "learn": [
                          0.005478385579
                        ]
                      },
                      {
                        "test": [
                          0.8597946601,
                          0.04530813196
                        ],
                        "passed_time": 41.78063433,
                        "iteration": 600,
                        "remaining_time": 27.73789201,
                        "learn": [
                          0.005465477401
                        ]
                      },
                      {
                        "test": [
                          0.8597946601,
                          0.04531895246
                        ],
                        "passed_time": 41.84763248,
                        "iteration": 601,
                        "remaining_time": 27.66670719,
                        "learn": [
                          0.005455162773
                        ]
                      },
                      {
                        "test": [
                          0.8597946601,
                          0.04532980815
                        ],
                        "passed_time": 41.91308746,
                        "iteration": 602,
                        "remaining_time": 27.59452027,
                        "learn": [
                          0.005448193476
                        ]
                      },
                      {
                        "test": [
                          0.8597946601,
                          0.04534044359
                        ],
                        "passed_time": 41.97797331,
                        "iteration": 603,
                        "remaining_time": 27.5219825,
                        "learn": [
                          0.005438035395
                        ]
                      },
                      {
                        "test": [
                          0.8597681988,
                          0.04534889571
                        ],
                        "passed_time": 42.10171466,
                        "iteration": 604,
                        "remaining_time": 27.48789635,
                        "learn": [
                          0.00543132265
                        ]
                      },
                      {
                        "test": [
                          0.8597946601,
                          0.04534393341
                        ],
                        "passed_time": 42.1766865,
                        "iteration": 605,
                        "remaining_time": 27.42180607,
                        "learn": [
                          0.005416880313
                        ]
                      },
                      {
                        "test": [
                          0.8597946601,
                          0.0453588267
                        ],
                        "passed_time": 42.24399218,
                        "iteration": 606,
                        "remaining_time": 27.35072311,
                        "learn": [
                          0.005410310123
                        ]
                      },
                      {
                        "test": [
                          0.8597946601,
                          0.04537217767
                        ],
                        "passed_time": 42.30861672,
                        "iteration": 607,
                        "remaining_time": 27.27792394,
                        "learn": [
                          0.005400355329
                        ]
                      },
                      {
                        "test": [
                          0.8597946601,
                          0.04537132573
                        ],
                        "passed_time": 42.37514754,
                        "iteration": 608,
                        "remaining_time": 27.20637551,
                        "learn": [
                          0.005392986318
                        ]
                      },
                      {
                        "test": [
                          0.8597946601,
                          0.04538598509
                        ],
                        "passed_time": 42.44100438,
                        "iteration": 609,
                        "remaining_time": 27.13441264,
                        "learn": [
                          0.005377528517
                        ]
                      },
                      {
                        "test": [
                          0.8597946601,
                          0.04539675702
                        ],
                        "passed_time": 42.52305297,
                        "iteration": 610,
                        "remaining_time": 27.0727784,
                        "learn": [
                          0.005370725903
                        ]
                      },
                      {
                        "test": [
                          0.8597946601,
                          0.04542062108
                        ],
                        "passed_time": 42.60020281,
                        "iteration": 611,
                        "remaining_time": 27.00797172,
                        "learn": [
                          0.005360724838
                        ]
                      },
                      {
                        "test": [
                          0.8597946601,
                          0.04541743333
                        ],
                        "passed_time": 42.66680707,
                        "iteration": 612,
                        "remaining_time": 26.93646711,
                        "learn": [
                          0.00535381952
                        ]
                      },
                      {
                        "test": [
                          0.8597946601,
                          0.04543238599
                        ],
                        "passed_time": 42.7338512,
                        "iteration": 613,
                        "remaining_time": 26.86525499,
                        "learn": [
                          0.00534419608
                        ]
                      },
                      {
                        "test": [
                          0.8597946601,
                          0.04542770384
                        ],
                        "passed_time": 42.79961084,
                        "iteration": 614,
                        "remaining_time": 26.79325231,
                        "learn": [
                          0.005333514596
                        ]
                      },
                      {
                        "test": [
                          0.8598211214,
                          0.04542491323
                        ],
                        "passed_time": 42.86455295,
                        "iteration": 615,
                        "remaining_time": 26.72076028,
                        "learn": [
                          0.005323855655
                        ]
                      },
                      {
                        "test": [
                          0.8598211214,
                          0.04542386961
                        ],
                        "passed_time": 42.92989895,
                        "iteration": 616,
                        "remaining_time": 26.64854343,
                        "learn": [
                          0.005316972175
                        ]
                      },
                      {
                        "test": [
                          0.8598211214,
                          0.04543439883
                        ],
                        "passed_time": 42.99688279,
                        "iteration": 617,
                        "remaining_time": 26.57736121,
                        "learn": [
                          0.0053070387
                        ]
                      },
                      {
                        "test": [
                          0.8598211214,
                          0.04545561717
                        ],
                        "passed_time": 43.08859329,
                        "iteration": 618,
                        "remaining_time": 26.52141202,
                        "learn": [
                          0.005300272093
                        ]
                      },
                      {
                        "test": [
                          0.8598211214,
                          0.0454744918
                        ],
                        "passed_time": 43.20984163,
                        "iteration": 619,
                        "remaining_time": 26.48345132,
                        "learn": [
                          0.005282171955
                        ]
                      },
                      {
                        "test": [
                          0.8598211214,
                          0.04548527245
                        ],
                        "passed_time": 43.27455296,
                        "iteration": 620,
                        "remaining_time": 26.41071751,
                        "learn": [
                          0.005275720567
                        ]
                      },
                      {
                        "test": [
                          0.8598211214,
                          0.04550243015
                        ],
                        "passed_time": 43.34593252,
                        "iteration": 621,
                        "remaining_time": 26.34206189,
                        "learn": [
                          0.005265783192
                        ]
                      },
                      {
                        "test": [
                          0.8598211214,
                          0.04551306174
                        ],
                        "passed_time": 43.41161303,
                        "iteration": 622,
                        "remaining_time": 26.26994882,
                        "learn": [
                          0.005259453645
                        ]
                      },
                      {
                        "test": [
                          0.8598211214,
                          0.04552361952
                        ],
                        "passed_time": 43.48078834,
                        "iteration": 623,
                        "remaining_time": 26.1999622,
                        "learn": [
                          0.00524961804
                        ]
                      },
                      {
                        "test": [
                          0.8598211214,
                          0.04553310205
                        ],
                        "passed_time": 43.55355749,
                        "iteration": 624,
                        "remaining_time": 26.13213449,
                        "learn": [
                          0.005242913196
                        ]
                      },
                      {
                        "test": [
                          0.8597946601,
                          0.04553305332
                        ],
                        "passed_time": 43.62033101,
                        "iteration": 625,
                        "remaining_time": 26.06070894,
                        "learn": [
                          0.005236438135
                        ]
                      },
                      {
                        "test": [
                          0.8597946601,
                          0.04555529433
                        ],
                        "passed_time": 43.69163893,
                        "iteration": 626,
                        "remaining_time": 25.99199573,
                        "learn": [
                          0.005226628113
                        ]
                      },
                      {
                        "test": [
                          0.8597946601,
                          0.04556774677
                        ],
                        "passed_time": 43.75603012,
                        "iteration": 627,
                        "remaining_time": 25.91917707,
                        "learn": [
                          0.005220043364
                        ]
                      },
                      {
                        "test": [
                          0.8597946601,
                          0.04558097469
                        ],
                        "passed_time": 43.82115214,
                        "iteration": 628,
                        "remaining_time": 25.84681628,
                        "learn": [
                          0.005210679054
                        ]
                      },
                      {
                        "test": [
                          0.8597946601,
                          0.04559200759
                        ],
                        "passed_time": 43.88511711,
                        "iteration": 629,
                        "remaining_time": 25.77379894,
                        "learn": [
                          0.005204211412
                        ]
                      },
                      {
                        "test": [
                          0.8597946601,
                          0.04559463604
                        ],
                        "passed_time": 43.94973815,
                        "iteration": 630,
                        "remaining_time": 25.70119394,
                        "learn": [
                          0.005196171857
                        ]
                      },
                      {
                        "test": [
                          0.8597946601,
                          0.04560508766
                        ],
                        "passed_time": 44.01504055,
                        "iteration": 631,
                        "remaining_time": 25.62901095,
                        "learn": [
                          0.005186867419
                        ]
                      },
                      {
                        "test": [
                          0.8595035855,
                          0.04559900349
                        ],
                        "passed_time": 44.07928588,
                        "iteration": 632,
                        "remaining_time": 25.55623684,
                        "learn": [
                          0.005170550431
                        ]
                      },
                      {
                        "test": [
                          0.8595035855,
                          0.04562111967
                        ],
                        "passed_time": 44.39283798,
                        "iteration": 633,
                        "remaining_time": 25.6274112,
                        "learn": [
                          0.005161125598
                        ]
                      },
                      {
                        "test": [
                          0.8595035855,
                          0.04563167531
                        ],
                        "passed_time": 44.47394338,
                        "iteration": 634,
                        "remaining_time": 25.56376273,
                        "learn": [
                          0.005150048364
                        ]
                      },
                      {
                        "test": [
                          0.8844566167,
                          0.04561476698
                        ],
                        "passed_time": 44.54992339,
                        "iteration": 635,
                        "remaining_time": 25.49712597,
                        "learn": [
                          0.00513086638
                        ]
                      },
                      {
                        "test": [
                          0.8844566167,
                          0.04562536726
                        ],
                        "passed_time": 44.61522137,
                        "iteration": 636,
                        "remaining_time": 25.42437262,
                        "learn": [
                          0.005124756038
                        ]
                      },
                      {
                        "test": [
                          0.8844566167,
                          0.04563570943
                        ],
                        "passed_time": 44.67958271,
                        "iteration": 637,
                        "remaining_time": 25.35111119,
                        "learn": [
                          0.005115186858
                        ]
                      },
                      {
                        "test": [
                          0.8844566167,
                          0.04565754226
                        ],
                        "passed_time": 44.74425475,
                        "iteration": 638,
                        "remaining_time": 25.27805315,
                        "learn": [
                          0.005109179687
                        ]
                      },
                      {
                        "test": [
                          0.8844566167,
                          0.04567189191
                        ],
                        "passed_time": 44.80899664,
                        "iteration": 639,
                        "remaining_time": 25.20506061,
                        "learn": [
                          0.005100125466
                        ]
                      },
                      {
                        "test": [
                          0.8844566167,
                          0.0456665363
                        ],
                        "passed_time": 44.87337477,
                        "iteration": 640,
                        "remaining_time": 25.13189008,
                        "learn": [
                          0.005093634775
                        ]
                      },
                      {
                        "test": [
                          0.8844566167,
                          0.04568613934
                        ],
                        "passed_time": 44.94197959,
                        "iteration": 641,
                        "remaining_time": 25.06110389,
                        "learn": [
                          0.005079581662
                        ]
                      },
                      {
                        "test": [
                          0.8844566167,
                          0.04570494269
                        ],
                        "passed_time": 45.00616644,
                        "iteration": 642,
                        "remaining_time": 24.98787157,
                        "learn": [
                          0.005061951507
                        ]
                      },
                      {
                        "test": [
                          0.8844566167,
                          0.04570053435
                        ],
                        "passed_time": 45.07093289,
                        "iteration": 643,
                        "remaining_time": 24.91498775,
                        "learn": [
                          0.005055864964
                        ]
                      },
                      {
                        "test": [
                          0.8844566167,
                          0.04571351161
                        ],
                        "passed_time": 45.13480035,
                        "iteration": 644,
                        "remaining_time": 24.8416343,
                        "learn": [
                          0.005049892454
                        ]
                      },
                      {
                        "test": [
                          0.8844566167,
                          0.04572370092
                        ],
                        "passed_time": 45.19935654,
                        "iteration": 645,
                        "remaining_time": 24.76868764,
                        "learn": [
                          0.005040779628
                        ]
                      },
                      {
                        "test": [
                          0.8844566167,
                          0.0457493737
                        ],
                        "passed_time": 45.26580654,
                        "iteration": 646,
                        "remaining_time": 24.69680017,
                        "learn": [
                          0.00503498607
                        ]
                      },
                      {
                        "test": [
                          0.884483078,
                          0.04574410456
                        ],
                        "passed_time": 45.33064187,
                        "iteration": 647,
                        "remaining_time": 24.62405237,
                        "learn": [
                          0.005026168998
                        ]
                      },
                      {
                        "test": [
                          0.884483078,
                          0.04573958983
                        ],
                        "passed_time": 45.45129062,
                        "iteration": 648,
                        "remaining_time": 24.58151465,
                        "learn": [
                          0.005020044158
                        ]
                      },
                      {
                        "test": [
                          0.8844566167,
                          0.04574874419
                        ],
                        "passed_time": 45.53709109,
                        "iteration": 649,
                        "remaining_time": 24.51997212,
                        "learn": [
                          0.005013834472
                        ]
                      },
                      {
                        "test": [
                          0.8844566167,
                          0.04575677055
                        ],
                        "passed_time": 45.60622701,
                        "iteration": 650,
                        "remaining_time": 24.44942124,
                        "learn": [
                          0.005001413207
                        ]
                      },
                      {
                        "test": [
                          0.8844566167,
                          0.04576756376
                        ],
                        "passed_time": 45.67035698,
                        "iteration": 651,
                        "remaining_time": 24.3762028,
                        "learn": [
                          0.004995662065
                        ]
                      },
                      {
                        "test": [
                          0.8844566167,
                          0.0457819821
                        ],
                        "passed_time": 45.73530298,
                        "iteration": 652,
                        "remaining_time": 24.30344584,
                        "learn": [
                          0.004986739576
                        ]
                      },
                      {
                        "test": [
                          0.8844566167,
                          0.0458033872
                        ],
                        "passed_time": 45.80111718,
                        "iteration": 653,
                        "remaining_time": 24.23117208,
                        "learn": [
                          0.004980990061
                        ]
                      },
                      {
                        "test": [
                          0.8844566167,
                          0.04581332594
                        ],
                        "passed_time": 45.86711543,
                        "iteration": 654,
                        "remaining_time": 24.159015,
                        "learn": [
                          0.004975059966
                        ]
                      },
                      {
                        "test": [
                          0.8843772327,
                          0.04582373579
                        ],
                        "passed_time": 45.93181492,
                        "iteration": 655,
                        "remaining_time": 24.08619563,
                        "learn": [
                          0.004966314501
                        ]
                      },
                      {
                        "test": [
                          0.8843772327,
                          0.04583293307
                        ],
                        "passed_time": 46.00195325,
                        "iteration": 656,
                        "remaining_time": 24.01624044,
                        "learn": [
                          0.004959749489
                        ]
                      },
                      {
                        "test": [
                          0.8843772327,
                          0.04584352208
                        ],
                        "passed_time": 46.06695799,
                        "iteration": 657,
                        "remaining_time": 23.94361646,
                        "learn": [
                          0.004951021155
                        ]
                      },
                      {
                        "test": [
                          0.8843772327,
                          0.04585118228
                        ],
                        "passed_time": 46.13158634,
                        "iteration": 658,
                        "remaining_time": 23.87082085,
                        "learn": [
                          0.004945176976
                        ]
                      },
                      {
                        "test": [
                          0.8839538514,
                          0.04587165919
                        ],
                        "passed_time": 46.19789522,
                        "iteration": 659,
                        "remaining_time": 23.79891572,
                        "learn": [
                          0.004901849116
                        ]
                      },
                      {
                        "test": [
                          0.8839538514,
                          0.04589513944
                        ],
                        "passed_time": 46.26305109,
                        "iteration": 660,
                        "remaining_time": 23.72643619,
                        "learn": [
                          0.004893822901
                        ]
                      },
                      {
                        "test": [
                          0.8839538514,
                          0.04590547461
                        ],
                        "passed_time": 46.3278513,
                        "iteration": 661,
                        "remaining_time": 23.65379719,
                        "learn": [
                          0.004887836155
                        ]
                      },
                      {
                        "test": [
                          0.8839538514,
                          0.0459058848
                        ],
                        "passed_time": 46.39316958,
                        "iteration": 662,
                        "remaining_time": 23.58144517,
                        "learn": [
                          0.004877369415
                        ]
                      },
                      {
                        "test": [
                          0.8839538514,
                          0.04591584409
                        ],
                        "passed_time": 46.54335081,
                        "iteration": 663,
                        "remaining_time": 23.55205704,
                        "learn": [
                          0.004871585432
                        ]
                      },
                      {
                        "test": [
                          0.8839803128,
                          0.04591933929
                        ],
                        "passed_time": 46.62599356,
                        "iteration": 664,
                        "remaining_time": 23.48828247,
                        "learn": [
                          0.004822945131
                        ]
                      },
                      {
                        "test": [
                          0.8839803128,
                          0.04593031936
                        ],
                        "passed_time": 46.69103597,
                        "iteration": 665,
                        "remaining_time": 23.41562465,
                        "learn": [
                          0.004816937564
                        ]
                      },
                      {
                        "test": [
                          0.8839803128,
                          0.04595532369
                        ],
                        "passed_time": 46.75581147,
                        "iteration": 666,
                        "remaining_time": 23.3428564,
                        "learn": [
                          0.00480845818
                        ]
                      },
                      {
                        "test": [
                          0.8839803128,
                          0.04595027683
                        ],
                        "passed_time": 46.82015658,
                        "iteration": 667,
                        "remaining_time": 23.26989818,
                        "learn": [
                          0.004802844182
                        ]
                      },
                      {
                        "test": [
                          0.8839803128,
                          0.0459598221
                        ],
                        "passed_time": 46.88519648,
                        "iteration": 668,
                        "remaining_time": 23.19730947,
                        "learn": [
                          0.004796832786
                        ]
                      },
                      {
                        "test": [
                          0.8839538514,
                          0.04597055058
                        ],
                        "passed_time": 46.94998292,
                        "iteration": 669,
                        "remaining_time": 23.12461845,
                        "learn": [
                          0.004788586571
                        ]
                      },
                      {
                        "test": [
                          0.8839538514,
                          0.04598017055
                        ],
                        "passed_time": 47.01433344,
                        "iteration": 670,
                        "remaining_time": 23.05173726,
                        "learn": [
                          0.004783155642
                        ]
                      },
                      {
                        "test": [
                          0.8839538514,
                          0.04600071711
                        ],
                        "passed_time": 47.08432778,
                        "iteration": 671,
                        "remaining_time": 22.98163618,
                        "learn": [
                          0.004777231031
                        ]
                      },
                      {
                        "test": [
                          0.8839538514,
                          0.0459979301
                        ],
                        "passed_time": 47.14884657,
                        "iteration": 672,
                        "remaining_time": 22.90887493,
                        "learn": [
                          0.004769216951
                        ]
                      },
                      {
                        "test": [
                          0.8839538514,
                          0.04600726934
                        ],
                        "passed_time": 47.21363842,
                        "iteration": 673,
                        "remaining_time": 22.83627022,
                        "learn": [
                          0.004763685013
                        ]
                      },
                      {
                        "test": [
                          0.8827895531,
                          0.04599157716
                        ],
                        "passed_time": 47.27908939,
                        "iteration": 674,
                        "remaining_time": 22.764006,
                        "learn": [
                          0.004718432283
                        ]
                      },
                      {
                        "test": [
                          0.8827895531,
                          0.04600278717
                        ],
                        "passed_time": 47.34465746,
                        "iteration": 675,
                        "remaining_time": 22.69181807,
                        "learn": [
                          0.004712696976
                        ]
                      },
                      {
                        "test": [
                          0.8827895531,
                          0.04602658198
                        ],
                        "passed_time": 47.4092314,
                        "iteration": 676,
                        "remaining_time": 22.6191754,
                        "learn": [
                          0.004704314033
                        ]
                      },
                      {
                        "test": [
                          0.8827895531,
                          0.04603542395
                        ],
                        "passed_time": 47.50720659,
                        "iteration": 677,
                        "remaining_time": 22.56241965,
                        "learn": [
                          0.004699044058
                        ]
                      },
                      {
                        "test": [
                          0.8827895531,
                          0.04604418686
                        ],
                        "passed_time": 47.61732927,
                        "iteration": 678,
                        "remaining_time": 22.51128527,
                        "learn": [
                          0.004693204231
                        ]
                      },
                      {
                        "test": [
                          0.8827895531,
                          0.04605828948
                        ],
                        "passed_time": 47.68216225,
                        "iteration": 679,
                        "remaining_time": 22.43866459,
                        "learn": [
                          0.004687934672
                        ]
                      },
                      {
                        "test": [
                          0.8827895531,
                          0.0460819204
                        ],
                        "passed_time": 47.74654125,
                        "iteration": 680,
                        "remaining_time": 22.36585412,
                        "learn": [
                          0.004679714718
                        ]
                      },
                      {
                        "test": [
                          0.8825778625,
                          0.04608761524
                        ],
                        "passed_time": 47.81138909,
                        "iteration": 681,
                        "remaining_time": 22.293287,
                        "learn": [
                          0.004636764911
                        ]
                      },
                      {
                        "test": [
                          0.8825778625,
                          0.04609616584
                        ],
                        "passed_time": 47.87543627,
                        "iteration": 682,
                        "remaining_time": 22.22037086,
                        "learn": [
                          0.004631632768
                        ]
                      },
                      {
                        "test": [
                          0.8825778625,
                          0.04610496452
                        ],
                        "passed_time": 47.94095658,
                        "iteration": 683,
                        "remaining_time": 22.14816123,
                        "learn": [
                          0.00462319437
                        ]
                      },
                      {
                        "test": [
                          0.8825778625,
                          0.04610718658
                        ],
                        "passed_time": 48.00564947,
                        "iteration": 684,
                        "remaining_time": 22.07559063,
                        "learn": [
                          0.004616026466
                        ]
                      },
                      {
                        "test": [
                          0.8825778625,
                          0.04611583771
                        ],
                        "passed_time": 48.07042772,
                        "iteration": 685,
                        "remaining_time": 22.00308207,
                        "learn": [
                          0.004610926892
                        ]
                      },
                      {
                        "test": [
                          0.8825778625,
                          0.046125084
                        ],
                        "passed_time": 48.15186592,
                        "iteration": 686,
                        "remaining_time": 21.93818636,
                        "learn": [
                          0.004602833756
                        ]
                      },
                      {
                        "test": [
                          0.8825778625,
                          0.04614860561
                        ],
                        "passed_time": 48.22440673,
                        "iteration": 687,
                        "remaining_time": 21.8692077,
                        "learn": [
                          0.004597430121
                        ]
                      },
                      {
                        "test": [
                          0.8826043238,
                          0.04612856037
                        ],
                        "passed_time": 48.2930057,
                        "iteration": 688,
                        "remaining_time": 21.79843944,
                        "learn": [
                          0.004592072991
                        ]
                      },
                      {
                        "test": [
                          0.8826043238,
                          0.04613886746
                        ],
                        "passed_time": 48.35823565,
                        "iteration": 689,
                        "remaining_time": 21.72616384,
                        "learn": [
                          0.004584300948
                        ]
                      },
                      {
                        "test": [
                          0.8826043238,
                          0.04614651193
                        ],
                        "passed_time": 48.42394084,
                        "iteration": 690,
                        "remaining_time": 21.65412116,
                        "learn": [
                          0.004575963693
                        ]
                      },
                      {
                        "test": [
                          0.8826043238,
                          0.04615699323
                        ],
                        "passed_time": 48.48928978,
                        "iteration": 691,
                        "remaining_time": 21.58193823,
                        "learn": [
                          0.004570590726
                        ]
                      },
                      {
                        "test": [
                          0.8826043238,
                          0.04616646891
                        ],
                        "passed_time": 48.62767542,
                        "iteration": 692,
                        "remaining_time": 21.54213038,
                        "learn": [
                          0.004562707583
                        ]
                      },
                      {
                        "test": [
                          0.8826043238,
                          0.046185948
                        ],
                        "passed_time": 48.7023785,
                        "iteration": 693,
                        "remaining_time": 21.4739594,
                        "learn": [
                          0.004557603285
                        ]
                      },
                      {
                        "test": [
                          0.8826043238,
                          0.04619490939
                        ],
                        "passed_time": 48.76747178,
                        "iteration": 694,
                        "remaining_time": 21.40155236,
                        "learn": [
                          0.004552452401
                        ]
                      },
                      {
                        "test": [
                          0.8826043238,
                          0.04620357391
                        ],
                        "passed_time": 48.83268522,
                        "iteration": 695,
                        "remaining_time": 21.32921883,
                        "learn": [
                          0.004547532151
                        ]
                      },
                      {
                        "test": [
                          0.8826043238,
                          0.04621401126
                        ],
                        "passed_time": 48.89729249,
                        "iteration": 696,
                        "remaining_time": 21.25664222,
                        "learn": [
                          0.004539611868
                        ]
                      },
                      {
                        "test": [
                          0.8826043238,
                          0.0462232779
                        ],
                        "passed_time": 48.96171737,
                        "iteration": 697,
                        "remaining_time": 21.18400952,
                        "learn": [
                          0.004534539849
                        ]
                      },
                      {
                        "test": [
                          0.8826043238,
                          0.04624657074
                        ],
                        "passed_time": 49.02664873,
                        "iteration": 698,
                        "remaining_time": 21.11161841,
                        "learn": [
                          0.004529568234
                        ]
                      },
                      {
                        "test": [
                          0.8826043238,
                          0.04626458098
                        ],
                        "passed_time": 49.09193087,
                        "iteration": 699,
                        "remaining_time": 21.03939894,
                        "learn": [
                          0.004518011091
                        ]
                      },
                      {
                        "test": [
                          0.8826043238,
                          0.04625938564
                        ],
                        "passed_time": 49.16017974,
                        "iteration": 700,
                        "remaining_time": 20.96846468,
                        "learn": [
                          0.004512979325
                        ]
                      },
                      {
                        "test": [
                          0.8826043238,
                          0.0462875792
                        ],
                        "passed_time": 49.22471288,
                        "iteration": 701,
                        "remaining_time": 20.89596074,
                        "learn": [
                          0.004472786197
                        ]
                      },
                      {
                        "test": [
                          0.8822867879,
                          0.04627822682
                        ],
                        "passed_time": 49.29383823,
                        "iteration": 702,
                        "remaining_time": 20.82541957,
                        "learn": [
                          0.004431014341
                        ]
                      },
                      {
                        "test": [
                          0.8819427906,
                          0.0462496429
                        ],
                        "passed_time": 49.36308018,
                        "iteration": 703,
                        "remaining_time": 20.75493144,
                        "learn": [
                          0.0043918496
                        ]
                      },
                      {
                        "test": [
                          0.8819427906,
                          0.04625756362
                        ],
                        "passed_time": 49.42776279,
                        "iteration": 704,
                        "remaining_time": 20.68253904,
                        "learn": [
                          0.004383382995
                        ]
                      },
                      {
                        "test": [
                          0.8819427906,
                          0.04626615429
                        ],
                        "passed_time": 49.49224138,
                        "iteration": 705,
                        "remaining_time": 20.61008352,
                        "learn": [
                          0.004378325673
                        ]
                      },
                      {
                        "test": [
                          0.8819427906,
                          0.04628493423
                        ],
                        "passed_time": 49.58410832,
                        "iteration": 706,
                        "remaining_time": 20.54900104,
                        "learn": [
                          0.004373129786
                        ]
                      },
                      {
                        "test": [
                          0.8819427906,
                          0.04629286998
                        ],
                        "passed_time": 49.7111747,
                        "iteration": 707,
                        "remaining_time": 20.50234889,
                        "learn": [
                          0.004368006223
                        ]
                      },
                      {
                        "test": [
                          0.8819427906,
                          0.04630378209
                        ],
                        "passed_time": 49.77602363,
                        "iteration": 708,
                        "remaining_time": 20.42993353,
                        "learn": [
                          0.004359797698
                        ]
                      },
                      {
                        "test": [
                          0.8819427906,
                          0.0463146025
                        ],
                        "passed_time": 49.84108953,
                        "iteration": 709,
                        "remaining_time": 20.35762812,
                        "learn": [
                          0.004355084934
                        ]
                      },
                      {
                        "test": [
                          0.8819427906,
                          0.04633711034
                        ],
                        "passed_time": 49.90611691,
                        "iteration": 710,
                        "remaining_time": 20.28532741,
                        "learn": [
                          0.004350066542
                        ]
                      },
                      {
                        "test": [
                          0.8819427906,
                          0.04634520105
                        ],
                        "passed_time": 49.97135871,
                        "iteration": 711,
                        "remaining_time": 20.21313386,
                        "learn": [
                          0.004345105723
                        ]
                      },
                      {
                        "test": [
                          0.8819427906,
                          0.04635492782
                        ],
                        "passed_time": 50.036124,
                        "iteration": 712,
                        "remaining_time": 20.140768,
                        "learn": [
                          0.004337042605
                        ]
                      },
                      {
                        "test": [
                          0.8819163293,
                          0.04635277307
                        ],
                        "passed_time": 50.10354987,
                        "iteration": 713,
                        "remaining_time": 20.06948916,
                        "learn": [
                          0.004332267046
                        ]
                      },
                      {
                        "test": [
                          0.8819163293,
                          0.04637517264
                        ],
                        "passed_time": 50.17161897,
                        "iteration": 714,
                        "remaining_time": 19.99847749,
                        "learn": [
                          0.004327482084
                        ]
                      },
                      {
                        "test": [
                          0.8819163293,
                          0.04638350181
                        ],
                        "passed_time": 50.23775964,
                        "iteration": 715,
                        "remaining_time": 19.92670913,
                        "learn": [
                          0.004322695838
                        ]
                      },
                      {
                        "test": [
                          0.8814135641,
                          0.04637501224
                        ],
                        "passed_time": 50.30674762,
                        "iteration": 716,
                        "remaining_time": 19.8560803,
                        "learn": [
                          0.004284940422
                        ]
                      },
                      {
                        "test": [
                          0.8814135641,
                          0.04638258329
                        ],
                        "passed_time": 50.37128372,
                        "iteration": 717,
                        "remaining_time": 19.78370753,
                        "learn": [
                          0.004280088902
                        ]
                      },
                      {
                        "test": [
                          0.8814135641,
                          0.04639357764
                        ],
                        "passed_time": 50.43599946,
                        "iteration": 718,
                        "remaining_time": 19.71142677,
                        "learn": [
                          0.004275289082
                        ]
                      },
                      {
                        "test": [
                          0.8814135641,
                          0.04640503118
                        ],
                        "passed_time": 50.5023208,
                        "iteration": 719,
                        "remaining_time": 19.63979142,
                        "learn": [
                          0.004267424843
                        ]
                      },
                      {
                        "test": [
                          0.8814135641,
                          0.04642324246
                        ],
                        "passed_time": 50.56794954,
                        "iteration": 720,
                        "remaining_time": 19.5679028,
                        "learn": [
                          0.004262741507
                        ]
                      },
                      {
                        "test": [
                          0.8814135641,
                          0.04645191047
                        ],
                        "passed_time": 50.69083335,
                        "iteration": 721,
                        "remaining_time": 19.51807711,
                        "learn": [
                          0.004234714676
                        ]
                      },
                      {
                        "test": [
                          0.8814135641,
                          0.04646095467
                        ],
                        "passed_time": 50.77985898,
                        "iteration": 722,
                        "remaining_time": 19.45507737,
                        "learn": [
                          0.004229801738
                        ]
                      },
                      {
                        "test": [
                          0.8814135641,
                          0.04647056944
                        ],
                        "passed_time": 50.84385628,
                        "iteration": 723,
                        "remaining_time": 19.38246455,
                        "learn": [
                          0.004224847009
                        ]
                      },
                      {
                        "test": [
                          0.8814135641,
                          0.04647851615
                        ],
                        "passed_time": 50.90813919,
                        "iteration": 724,
                        "remaining_time": 19.30998383,
                        "learn": [
                          0.004217381272
                        ]
                      },
                      {
                        "test": [
                          0.8814135641,
                          0.0464837196
                        ],
                        "passed_time": 50.97254801,
                        "iteration": 725,
                        "remaining_time": 19.23757321,
                        "learn": [
                          0.004212908245
                        ]
                      },
                      {
                        "test": [
                          0.8814135641,
                          0.04651779094
                        ],
                        "passed_time": 51.03671873,
                        "iteration": 726,
                        "remaining_time": 19.16509521,
                        "learn": [
                          0.004180087075
                        ]
                      },
                      {
                        "test": [
                          0.8814135641,
                          0.04649843105
                        ],
                        "passed_time": 51.10149941,
                        "iteration": 727,
                        "remaining_time": 19.09286791,
                        "learn": [
                          0.004172487939
                        ]
                      },
                      {
                        "test": [
                          0.8814135641,
                          0.04650603963
                        ],
                        "passed_time": 51.16568014,
                        "iteration": 728,
                        "remaining_time": 19.02043802,
                        "learn": [
                          0.004168052313
                        ]
                      },
                      {
                        "test": [
                          0.8814135641,
                          0.04651598634
                        ],
                        "passed_time": 51.23176107,
                        "iteration": 729,
                        "remaining_time": 18.94873354,
                        "learn": [
                          0.004163672432
                        ]
                      },
                      {
                        "test": [
                          0.8814135641,
                          0.04651428214
                        ],
                        "passed_time": 51.29891571,
                        "iteration": 730,
                        "remaining_time": 18.87743957,
                        "learn": [
                          0.004159034995
                        ]
                      },
                      {
                        "test": [
                          0.8814135641,
                          0.04653241675
                        ],
                        "passed_time": 51.37432947,
                        "iteration": 731,
                        "remaining_time": 18.80918074,
                        "learn": [
                          0.004153919078
                        ]
                      },
                      {
                        "test": [
                          0.8814135641,
                          0.04655662728
                        ],
                        "passed_time": 51.44032043,
                        "iteration": 732,
                        "remaining_time": 18.73747006,
                        "learn": [
                          0.004130027268
                        ]
                      },
                      {
                        "test": [
                          0.8814135641,
                          0.04656566671
                        ],
                        "passed_time": 51.50779326,
                        "iteration": 733,
                        "remaining_time": 18.666312,
                        "learn": [
                          0.004122301178
                        ]
                      },
                      {
                        "test": [
                          0.8814135641,
                          0.04657641307
                        ],
                        "passed_time": 51.57395432,
                        "iteration": 734,
                        "remaining_time": 18.59469101,
                        "learn": [
                          0.004118083752
                        ]
                      },
                      {
                        "test": [
                          0.8814135641,
                          0.04658392291
                        ],
                        "passed_time": 51.64081181,
                        "iteration": 735,
                        "remaining_time": 18.52333467,
                        "learn": [
                          0.004113784266
                        ]
                      },
                      {
                        "test": [
                          0.8814135641,
                          0.04660542966
                        ],
                        "passed_time": 51.78797897,
                        "iteration": 736,
                        "remaining_time": 18.48064921,
                        "learn": [
                          0.004109206139
                        ]
                      },
                      {
                        "test": [
                          0.8812018735,
                          0.04660213616
                        ],
                        "passed_time": 51.85773516,
                        "iteration": 737,
                        "remaining_time": 18.41019866,
                        "learn": [
                          0.004078443627
                        ]
                      },
                      {
                        "test": [
                          0.8811754121,
                          0.04661132454
                        ],
                        "passed_time": 51.92316426,
                        "iteration": 738,
                        "remaining_time": 18.33822175,
                        "learn": [
                          0.004071063751
                        ]
                      },
                      {
                        "test": [
                          0.8811754121,
                          0.04661846751
                        ],
                        "passed_time": 51.98827393,
                        "iteration": 739,
                        "remaining_time": 18.2661503,
                        "learn": [
                          0.004066502673
                        ]
                      },
                      {
                        "test": [
                          0.8811754121,
                          0.04662798858
                        ],
                        "passed_time": 52.05315325,
                        "iteration": 740,
                        "remaining_time": 18.19401713,
                        "learn": [
                          0.00406222953
                        ]
                      },
                      {
                        "test": [
                          0.8811754121,
                          0.04664548039
                        ],
                        "passed_time": 52.11806814,
                        "iteration": 741,
                        "remaining_time": 18.12191588,
                        "learn": [
                          0.004057497707
                        ]
                      },
                      {
                        "test": [
                          0.8811489508,
                          0.04665478967
                        ],
                        "passed_time": 52.18396804,
                        "iteration": 742,
                        "remaining_time": 18.05017468,
                        "learn": [
                          0.004053445641
                        ]
                      },
                      {
                        "test": [
                          0.8809637215,
                          0.04669015862
                        ],
                        "passed_time": 52.24977029,
                        "iteration": 743,
                        "remaining_time": 17.97841558,
                        "learn": [
                          0.004029736296
                        ]
                      },
                      {
                        "test": [
                          0.8809637215,
                          0.04669710352
                        ],
                        "passed_time": 52.31470649,
                        "iteration": 744,
                        "remaining_time": 17.90637605,
                        "learn": [
                          0.004022522114
                        ]
                      },
                      {
                        "test": [
                          0.8809637215,
                          0.04670420128
                        ],
                        "passed_time": 52.38338404,
                        "iteration": 745,
                        "remaining_time": 17.83562942,
                        "learn": [
                          0.004018205551
                        ]
                      },
                      {
                        "test": [
                          0.8809637215,
                          0.04671193853
                        ],
                        "passed_time": 52.44893112,
                        "iteration": 746,
                        "remaining_time": 17.76382808,
                        "learn": [
                          0.00401382377
                        ]
                      },
                      {
                        "test": [
                          0.8809637215,
                          0.0467329374
                        ],
                        "passed_time": 52.51595101,
                        "iteration": 747,
                        "remaining_time": 17.69253965,
                        "learn": [
                          0.004009367213
                        ]
                      },
                      {
                        "test": [
                          0.8809637215,
                          0.04672744858
                        ],
                        "passed_time": 52.58225636,
                        "iteration": 748,
                        "remaining_time": 17.62102316,
                        "learn": [
                          0.004005152954
                        ]
                      },
                      {
                        "test": [
                          0.8809372602,
                          0.04674958263
                        ],
                        "passed_time": 52.64735809,
                        "iteration": 749,
                        "remaining_time": 17.54911936,
                        "learn": [
                          0.003982742064
                        ]
                      },
                      {
                        "test": [
                          0.8809372602,
                          0.04675650904
                        ],
                        "passed_time": 52.73642876,
                        "iteration": 750,
                        "remaining_time": 17.48518077,
                        "learn": [
                          0.003975591573
                        ]
                      },
                      {
                        "test": [
                          0.8809372602,
                          0.04676460983
                        ],
                        "passed_time": 52.86802357,
                        "iteration": 751,
                        "remaining_time": 17.43519926,
                        "learn": [
                          0.003971482179
                        ]
                      },
                      {
                        "test": [
                          0.8809372602,
                          0.04677165269
                        ],
                        "passed_time": 52.93206242,
                        "iteration": 752,
                        "remaining_time": 17.36284119,
                        "learn": [
                          0.003967175752
                        ]
                      },
                      {
                        "test": [
                          0.8809372602,
                          0.04679261917
                        ],
                        "passed_time": 52.99699826,
                        "iteration": 753,
                        "remaining_time": 17.29079784,
                        "learn": [
                          0.003962955476
                        ]
                      },
                      {
                        "test": [
                          0.8809637215,
                          0.04677457921
                        ],
                        "passed_time": 53.06418254,
                        "iteration": 754,
                        "remaining_time": 17.21950294,
                        "learn": [
                          0.003958574645
                        ]
                      },
                      {
                        "test": [
                          0.8807784922,
                          0.04679907634
                        ],
                        "passed_time": 53.12863196,
                        "iteration": 755,
                        "remaining_time": 17.14733624,
                        "learn": [
                          0.00393763352
                        ]
                      },
                      {
                        "test": [
                          0.8807784922,
                          0.0468059518
                        ],
                        "passed_time": 53.19294673,
                        "iteration": 756,
                        "remaining_time": 17.0751467,
                        "learn": [
                          0.003933196655
                        ]
                      },
                      {
                        "test": [
                          0.8807784922,
                          0.04681570166
                        ],
                        "passed_time": 53.25901177,
                        "iteration": 757,
                        "remaining_time": 17.00353674,
                        "learn": [
                          0.003926269386
                        ]
                      },
                      {
                        "test": [
                          0.8807784922,
                          0.04682268737
                        ],
                        "passed_time": 53.32464308,
                        "iteration": 758,
                        "remaining_time": 16.93180367,
                        "learn": [
                          0.003922274693
                        ]
                      },
                      {
                        "test": [
                          0.8807784922,
                          0.04683978626
                        ],
                        "passed_time": 53.39503842,
                        "iteration": 759,
                        "remaining_time": 16.86159108,
                        "learn": [
                          0.003918050643
                        ]
                      },
                      {
                        "test": [
                          0.8809901828,
                          0.0468090816
                        ],
                        "passed_time": 53.47067398,
                        "iteration": 760,
                        "remaining_time": 16.79302376,
                        "learn": [
                          0.003914065752
                        ]
                      },
                      {
                        "test": [
                          0.8807784922,
                          0.04684489591
                        ],
                        "passed_time": 53.53866796,
                        "iteration": 761,
                        "remaining_time": 16.72205115,
                        "learn": [
                          0.003883779456
                        ]
                      },
                      {
                        "test": [
                          0.8807784922,
                          0.04685222529
                        ],
                        "passed_time": 53.60589245,
                        "iteration": 762,
                        "remaining_time": 16.65084733,
                        "learn": [
                          0.003879813586
                        ]
                      },
                      {
                        "test": [
                          0.8807784922,
                          0.04685955917
                        ],
                        "passed_time": 53.67133721,
                        "iteration": 763,
                        "remaining_time": 16.57910416,
                        "learn": [
                          0.003875651009
                        ]
                      },
                      {
                        "test": [
                          0.8807784922,
                          0.04687057738
                        ],
                        "passed_time": 53.73717441,
                        "iteration": 764,
                        "remaining_time": 16.50749802,
                        "learn": [
                          0.00387172178
                        ]
                      },
                      {
                        "test": [
                          0.8807784922,
                          0.04687612827
                        ],
                        "passed_time": 53.87715486,
                        "iteration": 765,
                        "remaining_time": 16.45855645,
                        "learn": [
                          0.003867915497
                        ]
                      },
                      {
                        "test": [
                          0.8807784922,
                          0.04688374744
                        ],
                        "passed_time": 53.96300602,
                        "iteration": 766,
                        "remaining_time": 16.39293403,
                        "learn": [
                          0.003860856124
                        ]
                      },
                      {
                        "test": [
                          0.8807784922,
                          0.04689434385
                        ],
                        "passed_time": 54.02851344,
                        "iteration": 767,
                        "remaining_time": 16.32111343,
                        "learn": [
                          0.003856734106
                        ]
                      },
                      {
                        "test": [
                          0.8807784922,
                          0.04691985384
                        ],
                        "passed_time": 54.09366441,
                        "iteration": 768,
                        "remaining_time": 16.24920218,
                        "learn": [
                          0.003837353177
                        ]
                      },
                      {
                        "test": [
                          0.8807784922,
                          0.04692695075
                        ],
                        "passed_time": 54.15836797,
                        "iteration": 769,
                        "remaining_time": 16.17717485,
                        "learn": [
                          0.00383295497
                        ]
                      },
                      {
                        "test": [
                          0.8807784922,
                          0.04694767961
                        ],
                        "passed_time": 54.22347871,
                        "iteration": 770,
                        "remaining_time": 16.10528745,
                        "learn": [
                          0.003828966911
                        ]
                      },
                      {
                        "test": [
                          0.8807784922,
                          0.04695499692
                        ],
                        "passed_time": 54.28983575,
                        "iteration": 771,
                        "remaining_time": 16.03378569,
                        "learn": [
                          0.00382526201
                        ]
                      },
                      {
                        "test": [
                          0.8807784922,
                          0.04695267709
                        ],
                        "passed_time": 54.35630801,
                        "iteration": 772,
                        "remaining_time": 15.96233107,
                        "learn": [
                          0.003821397738
                        ]
                      },
                      {
                        "test": [
                          0.8807784922,
                          0.04696096628
                        ],
                        "passed_time": 54.42127187,
                        "iteration": 773,
                        "remaining_time": 15.89044889,
                        "learn": [
                          0.003814610725
                        ]
                      },
                      {
                        "test": [
                          0.8807520309,
                          0.04696173493
                        ],
                        "passed_time": 54.48720863,
                        "iteration": 774,
                        "remaining_time": 15.81886702,
                        "learn": [
                          0.003788797902
                        ]
                      },
                      {
                        "test": [
                          0.8807520309,
                          0.0469686967
                        ],
                        "passed_time": 54.55709485,
                        "iteration": 775,
                        "remaining_time": 15.74843975,
                        "learn": [
                          0.003784686291
                        ]
                      },
                      {
                        "test": [
                          0.8807520309,
                          0.04698561523
                        ],
                        "passed_time": 54.62197584,
                        "iteration": 776,
                        "remaining_time": 15.67657736,
                        "learn": [
                          0.00378068178
                        ]
                      },
                      {
                        "test": [
                          0.8807520309,
                          0.04699437998
                        ],
                        "passed_time": 54.68575212,
                        "iteration": 777,
                        "remaining_time": 15.6044177,
                        "learn": [
                          0.00377687043
                        ]
                      },
                      {
                        "test": [
                          0.8807520309,
                          0.04700248068
                        ],
                        "passed_time": 54.74971484,
                        "iteration": 778,
                        "remaining_time": 15.53233245,
                        "learn": [
                          0.003773151275
                        ]
                      },
                      {
                        "test": [
                          0.8807520309,
                          0.04701004333
                        ],
                        "passed_time": 54.8148485,
                        "iteration": 779,
                        "remaining_time": 15.46059829,
                        "learn": [
                          0.00376644131
                        ]
                      },
                      {
                        "test": [
                          0.8807520309,
                          0.04702688614
                        ],
                        "passed_time": 54.96937495,
                        "iteration": 780,
                        "remaining_time": 15.41394765,
                        "learn": [
                          0.003762384177
                        ]
                      },
                      {
                        "test": [
                          0.8807520309,
                          0.047034141
                        ],
                        "passed_time": 55.03700009,
                        "iteration": 781,
                        "remaining_time": 15.34279542,
                        "learn": [
                          0.003758750802
                        ]
                      },
                      {
                        "test": [
                          0.8807520309,
                          0.04704306358
                        ],
                        "passed_time": 55.10263631,
                        "iteration": 782,
                        "remaining_time": 15.271101,
                        "learn": [
                          0.003755099128
                        ]
                      },
                      {
                        "test": [
                          0.8806991083,
                          0.04704560596
                        ],
                        "passed_time": 55.17050345,
                        "iteration": 783,
                        "remaining_time": 15.20003666,
                        "learn": [
                          0.003730271996
                        ]
                      },
                      {
                        "test": [
                          0.8806991083,
                          0.04705256994
                        ],
                        "passed_time": 55.23706231,
                        "iteration": 784,
                        "remaining_time": 15.12862216,
                        "learn": [
                          0.00372643309
                        ]
                      },
                      {
                        "test": [
                          0.8806991083,
                          0.04706017722
                        ],
                        "passed_time": 55.30350401,
                        "iteration": 785,
                        "remaining_time": 15.05718811,
                        "learn": [
                          0.003722884942
                        ]
                      },
                      {
                        "test": [
                          0.8806991083,
                          0.04707697149
                        ],
                        "passed_time": 55.37107633,
                        "iteration": 786,
                        "remaining_time": 14.98607276,
                        "learn": [
                          0.003716180389
                        ]
                      },
                      {
                        "test": [
                          0.8806991083,
                          0.04707191279
                        ],
                        "passed_time": 55.4393131,
                        "iteration": 787,
                        "remaining_time": 14.91514515,
                        "learn": [
                          0.003711888187
                        ]
                      },
                      {
                        "test": [
                          0.8806991083,
                          0.04707892215
                        ],
                        "passed_time": 55.50788032,
                        "iteration": 788,
                        "remaining_time": 14.84431274,
                        "learn": [
                          0.003708464253
                        ]
                      },
                      {
                        "test": [
                          0.8806991083,
                          0.0470880566
                        ],
                        "passed_time": 55.57392962,
                        "iteration": 789,
                        "remaining_time": 14.77281673,
                        "learn": [
                          0.003704671317
                        ]
                      },
                      {
                        "test": [
                          0.8806991083,
                          0.04709511649
                        ],
                        "passed_time": 55.63940736,
                        "iteration": 790,
                        "remaining_time": 14.70118349,
                        "learn": [
                          0.003701165611
                        ]
                      },
                      {
                        "test": [
                          0.8806197243,
                          0.04713242758
                        ],
                        "passed_time": 55.70447118,
                        "iteration": 791,
                        "remaining_time": 14.62945708,
                        "learn": [
                          0.003674516092
                        ]
                      },
                      {
                        "test": [
                          0.8806197243,
                          0.04714956423
                        ],
                        "passed_time": 55.77077612,
                        "iteration": 792,
                        "remaining_time": 14.55807145,
                        "learn": [
                          0.003670800738
                        ]
                      },
                      {
                        "test": [
                          0.8806197243,
                          0.04715691813
                        ],
                        "passed_time": 55.83660845,
                        "iteration": 793,
                        "remaining_time": 14.486576,
                        "learn": [
                          0.003667009631
                        ]
                      },
                      {
                        "test": [
                          0.8806197243,
                          0.04715561544
                        ],
                        "passed_time": 55.93671963,
                        "iteration": 794,
                        "remaining_time": 14.42393399,
                        "learn": [
                          0.003663434
                        ]
                      },
                      {
                        "test": [
                          0.8806197243,
                          0.04716291369
                        ],
                        "passed_time": 56.0674503,
                        "iteration": 795,
                        "remaining_time": 14.36904505,
                        "learn": [
                          0.003659988789
                        ]
                      },
                      {
                        "test": [
                          0.8806197243,
                          0.04716774185
                        ],
                        "passed_time": 56.13285356,
                        "iteration": 796,
                        "remaining_time": 14.29732657,
                        "learn": [
                          0.003652197797
                        ]
                      },
                      {
                        "test": [
                          0.8806197243,
                          0.04718831222
                        ],
                        "passed_time": 56.19773363,
                        "iteration": 797,
                        "remaining_time": 14.22549147,
                        "learn": [
                          0.00364869687
                        ]
                      },
                      {
                        "test": [
                          0.8806197243,
                          0.04719602109
                        ],
                        "passed_time": 56.26401297,
                        "iteration": 798,
                        "remaining_time": 14.15402579,
                        "learn": [
                          0.003644803404
                        ]
                      },
                      {
                        "test": [
                          0.8806197243,
                          0.04720525946
                        ],
                        "passed_time": 56.33019115,
                        "iteration": 799,
                        "remaining_time": 14.08254779,
                        "learn": [
                          0.003641236614
                        ]
                      },
                      {
                        "test": [
                          0.8806197243,
                          0.0472148794
                        ],
                        "passed_time": 56.39626027,
                        "iteration": 800,
                        "remaining_time": 14.01105592,
                        "learn": [
                          0.003637979885
                        ]
                      },
                      {
                        "test": [
                          0.8806197243,
                          0.04724716917
                        ],
                        "passed_time": 56.46405472,
                        "iteration": 801,
                        "remaining_time": 13.94000353,
                        "learn": [
                          0.003620831958
                        ]
                      },
                      {
                        "test": [
                          0.8806197243,
                          0.04725486433
                        ],
                        "passed_time": 56.53249376,
                        "iteration": 802,
                        "remaining_time": 13.8691174,
                        "learn": [
                          0.003617264245
                        ]
                      },
                      {
                        "test": [
                          0.8806197243,
                          0.04727504203
                        ],
                        "passed_time": 56.6034055,
                        "iteration": 803,
                        "remaining_time": 13.79884015,
                        "learn": [
                          0.003610923243
                        ]
                      },
                      {
                        "test": [
                          0.8806197243,
                          0.04727220721
                        ],
                        "passed_time": 56.67098263,
                        "iteration": 804,
                        "remaining_time": 13.72775356,
                        "learn": [
                          0.003607346906
                        ]
                      },
                      {
                        "test": [
                          0.8806197243,
                          0.04726949329
                        ],
                        "passed_time": 56.73906698,
                        "iteration": 805,
                        "remaining_time": 13.65679776,
                        "learn": [
                          0.003603907714
                        ]
                      },
                      {
                        "test": [
                          0.8806197243,
                          0.04727775374
                        ],
                        "passed_time": 56.8077726,
                        "iteration": 806,
                        "remaining_time": 13.58599766,
                        "learn": [
                          0.003600485941
                        ]
                      },
                      {
                        "test": [
                          0.8806197243,
                          0.04728561155
                        ],
                        "passed_time": 56.87313837,
                        "iteration": 807,
                        "remaining_time": 13.51440912,
                        "learn": [
                          0.003596847842
                        ]
                      },
                      {
                        "test": [
                          0.8806197243,
                          0.04730577333
                        ],
                        "passed_time": 56.93999966,
                        "iteration": 808,
                        "remaining_time": 13.44318904,
                        "learn": [
                          0.003593430549
                        ]
                      },
                      {
                        "test": [
                          0.8805932629,
                          0.04730900962
                        ],
                        "passed_time": 57.09383576,
                        "iteration": 809,
                        "remaining_time": 13.39238123,
                        "learn": [
                          0.003571222523
                        ]
                      },
                      {
                        "test": [
                          0.8805932629,
                          0.04731788105
                        ],
                        "passed_time": 57.16660715,
                        "iteration": 810,
                        "remaining_time": 13.32242756,
                        "learn": [
                          0.003567537909
                        ]
                      },
                      {
                        "test": [
                          0.8805932629,
                          0.04732488647
                        ],
                        "passed_time": 57.23298691,
                        "iteration": 811,
                        "remaining_time": 13.25098712,
                        "learn": [
                          0.003560982481
                        ]
                      },
                      {
                        "test": [
                          0.8805932629,
                          0.04733451198
                        ],
                        "passed_time": 57.30035139,
                        "iteration": 812,
                        "remaining_time": 13.17978562,
                        "learn": [
                          0.003557725119
                        ]
                      },
                      {
                        "test": [
                          0.8805932629,
                          0.04735439014
                        ],
                        "passed_time": 57.36618634,
                        "iteration": 813,
                        "remaining_time": 13.10824405,
                        "learn": [
                          0.003554292261
                        ]
                      },
                      {
                        "test": [
                          0.8805932629,
                          0.04736150513
                        ],
                        "passed_time": 57.43131159,
                        "iteration": 814,
                        "remaining_time": 13.03655539,
                        "learn": [
                          0.003551050735
                        ]
                      },
                      {
                        "test": [
                          0.8805932629,
                          0.04736863227
                        ],
                        "passed_time": 57.49902615,
                        "iteration": 815,
                        "remaining_time": 12.96546668,
                        "learn": [
                          0.003547802558
                        ]
                      },
                      {
                        "test": [
                          0.8805932629,
                          0.04737786462
                        ],
                        "passed_time": 57.56598017,
                        "iteration": 816,
                        "remaining_time": 12.89421588,
                        "learn": [
                          0.003544370379
                        ]
                      },
                      {
                        "test": [
                          0.8805932629,
                          0.04738706897
                        ],
                        "passed_time": 57.63304933,
                        "iteration": 817,
                        "remaining_time": 12.8230012,
                        "learn": [
                          0.003537954945
                        ]
                      },
                      {
                        "test": [
                          0.8824587865,
                          0.04735645425
                        ],
                        "passed_time": 57.70124643,
                        "iteration": 818,
                        "remaining_time": 12.75204591,
                        "learn": [
                          0.00351858432
                        ]
                      },
                      {
                        "test": [
                          0.8824587865,
                          0.04737704396
                        ],
                        "passed_time": 57.76919669,
                        "iteration": 819,
                        "remaining_time": 12.68104318,
                        "learn": [
                          0.003514860415
                        ]
                      },
                      {
                        "test": [
                          0.8824587865,
                          0.04738426076
                        ],
                        "passed_time": 57.83548571,
                        "iteration": 820,
                        "remaining_time": 12.60968568,
                        "learn": [
                          0.003511680996
                        ]
                      },
                      {
                        "test": [
                          0.8824587865,
                          0.04738907264
                        ],
                        "passed_time": 57.90103307,
                        "iteration": 821,
                        "remaining_time": 12.53817991,
                        "learn": [
                          0.003508233224
                        ]
                      },
                      {
                        "test": [
                          0.8824587865,
                          0.04739962365
                        ],
                        "passed_time": 57.96736882,
                        "iteration": 822,
                        "remaining_time": 12.46685818,
                        "learn": [
                          0.003505174769
                        ]
                      },
                      {
                        "test": [
                          0.8824587865,
                          0.04740069707
                        ],
                        "passed_time": 58.07386701,
                        "iteration": 823,
                        "remaining_time": 12.40412693,
                        "learn": [
                          0.003501701523
                        ]
                      },
                      {
                        "test": [
                          0.8824587865,
                          0.04742075094
                        ],
                        "passed_time": 58.18613682,
                        "iteration": 824,
                        "remaining_time": 12.34251387,
                        "learn": [
                          0.003495748172
                        ]
                      },
                      {
                        "test": [
                          0.8824587865,
                          0.04742676307
                        ],
                        "passed_time": 58.25684814,
                        "iteration": 825,
                        "remaining_time": 12.2720237,
                        "learn": [
                          0.003490371803
                        ]
                      },
                      {
                        "test": [
                          0.8824587865,
                          0.04743424458
                        ],
                        "passed_time": 58.32350859,
                        "iteration": 826,
                        "remaining_time": 12.20068559,
                        "learn": [
                          0.003487067854
                        ]
                      },
                      {
                        "test": [
                          0.8824587865,
                          0.04744163708
                        ],
                        "passed_time": 58.39118856,
                        "iteration": 827,
                        "remaining_time": 12.12957057,
                        "learn": [
                          0.003484017923
                        ]
                      },
                      {
                        "test": [
                          0.8824587865,
                          0.04747547927
                        ],
                        "passed_time": 58.47166504,
                        "iteration": 828,
                        "remaining_time": 12.0611034,
                        "learn": [
                          0.003467844674
                        ]
                      },
                      {
                        "test": [
                          0.8824587865,
                          0.04747153891
                        ],
                        "passed_time": 58.54446711,
                        "iteration": 829,
                        "remaining_time": 11.99103543,
                        "learn": [
                          0.00346452106
                        ]
                      },
                      {
                        "test": [
                          0.8824587865,
                          0.04748089687
                        ],
                        "passed_time": 58.61380282,
                        "iteration": 830,
                        "remaining_time": 11.92025593,
                        "learn": [
                          0.003461521833
                        ]
                      },
                      {
                        "test": [
                          0.8824587865,
                          0.04749157704
                        ],
                        "passed_time": 58.6792916,
                        "iteration": 831,
                        "remaining_time": 11.84870311,
                        "learn": [
                          0.003458403171
                        ]
                      },
                      {
                        "test": [
                          0.8824323252,
                          0.04750823656
                        ],
                        "passed_time": 58.749308,
                        "iteration": 832,
                        "remaining_time": 11.77807255,
                        "learn": [
                          0.003452470823
                        ]
                      },
                      {
                        "test": [
                          0.8824323252,
                          0.04751547391
                        ],
                        "passed_time": 58.8162024,
                        "iteration": 833,
                        "remaining_time": 11.70682206,
                        "learn": [
                          0.003449103873
                        ]
                      },
                      {
                        "test": [
                          0.8824587865,
                          0.04751279926
                        ],
                        "passed_time": 58.88154661,
                        "iteration": 834,
                        "remaining_time": 11.63527568,
                        "learn": [
                          0.003445987745
                        ]
                      },
                      {
                        "test": [
                          0.8824587865,
                          0.04751041999
                        ],
                        "passed_time": 58.94735517,
                        "iteration": 835,
                        "remaining_time": 11.56383522,
                        "learn": [
                          0.003442229027
                        ]
                      },
                      {
                        "test": [
                          0.8824587865,
                          0.04751880932
                        ],
                        "passed_time": 59.01317362,
                        "iteration": 836,
                        "remaining_time": 11.49241016,
                        "learn": [
                          0.00343903939
                        ]
                      },
                      {
                        "test": [
                          0.8824587865,
                          0.0475389165
                        ],
                        "passed_time": 59.11769461,
                        "iteration": 837,
                        "remaining_time": 11.42848034,
                        "learn": [
                          0.003436059167
                        ]
                      },
                      {
                        "test": [
                          0.8824587865,
                          0.04753090741
                        ],
                        "passed_time": 59.24587079,
                        "iteration": 838,
                        "remaining_time": 11.36899308,
                        "learn": [
                          0.003428977034
                        ]
                      },
                      {
                        "test": [
                          0.8823794025,
                          0.04756193508
                        ],
                        "passed_time": 59.31159359,
                        "iteration": 839,
                        "remaining_time": 11.2974464,
                        "learn": [
                          0.0034151868
                        ]
                      },
                      {
                        "test": [
                          0.8824323252,
                          0.04754682587
                        ],
                        "passed_time": 59.3772095,
                        "iteration": 840,
                        "remaining_time": 11.22589335,
                        "learn": [
                          0.003412266728
                        ]
                      },
                      {
                        "test": [
                          0.8824323252,
                          0.04755421927
                        ],
                        "passed_time": 59.44318403,
                        "iteration": 841,
                        "remaining_time": 11.15442171,
                        "learn": [
                          0.00340625298
                        ]
                      },
                      {
                        "test": [
                          0.8824323252,
                          0.0475615894
                        ],
                        "passed_time": 59.51056878,
                        "iteration": 842,
                        "remaining_time": 11.08322574,
                        "learn": [
                          0.003403203366
                        ]
                      },
                      {
                        "test": [
                          0.8824323252,
                          0.0475674102
                        ],
                        "passed_time": 59.57750379,
                        "iteration": 843,
                        "remaining_time": 11.01195568,
                        "learn": [
                          0.003398704973
                        ]
                      },
                      {
                        "test": [
                          0.8824323252,
                          0.04758406121
                        ],
                        "passed_time": 59.64443579,
                        "iteration": 844,
                        "remaining_time": 10.94069532,
                        "learn": [
                          0.003395440615
                        ]
                      },
                      {
                        "test": [
                          0.8824323252,
                          0.0475931741
                        ],
                        "passed_time": 59.70997656,
                        "iteration": 845,
                        "remaining_time": 10.86919195,
                        "learn": [
                          0.003392541792
                        ]
                      },
                      {
                        "test": [
                          0.8824852478,
                          0.04757826883
                        ],
                        "passed_time": 59.78033351,
                        "iteration": 846,
                        "remaining_time": 10.79857264,
                        "learn": [
                          0.003386599581
                        ]
                      },
                      {
                        "test": [
                          0.8824852478,
                          0.04758942938
                        ],
                        "passed_time": 59.8466024,
                        "iteration": 847,
                        "remaining_time": 10.72722118,
                        "learn": [
                          0.003383569992
                        ]
                      },
                      {
                        "test": [
                          0.8824852478,
                          0.0476061218
                        ],
                        "passed_time": 59.91316727,
                        "iteration": 848,
                        "remaining_time": 10.65593434,
                        "learn": [
                          0.003378415885
                        ]
                      },
                      {
                        "test": [
                          0.8824852478,
                          0.04761395211
                        ],
                        "passed_time": 59.97877687,
                        "iteration": 849,
                        "remaining_time": 10.58449004,
                        "learn": [
                          0.003375371999
                        ]
                      },
                      {
                        "test": [
                          0.8824852478,
                          0.04765040394
                        ],
                        "passed_time": 60.04389378,
                        "iteration": 850,
                        "remaining_time": 10.51297318,
                        "learn": [
                          0.003360453635
                        ]
                      },
                      {
                        "test": [
                          0.8824852478,
                          0.04767011562
                        ],
                        "passed_time": 60.11823504,
                        "iteration": 851,
                        "remaining_time": 10.44307369,
                        "learn": [
                          0.00335736823
                        ]
                      },
                      {
                        "test": [
                          0.8824852478,
                          0.04767732127
                        ],
                        "passed_time": 60.23258792,
                        "iteration": 852,
                        "remaining_time": 10.38005911,
                        "learn": [
                          0.003354362007
                        ]
                      },
                      {
                        "test": [
                          0.8824852478,
                          0.0476844965
                        ],
                        "passed_time": 60.32811572,
                        "iteration": 853,
                        "remaining_time": 10.31370597,
                        "learn": [
                          0.003351116653
                        ]
                      },
                      {
                        "test": [
                          0.8824852478,
                          0.04769162926
                        ],
                        "passed_time": 60.39362896,
                        "iteration": 854,
                        "remaining_time": 10.24219439,
                        "learn": [
                          0.003345469635
                        ]
                      },
                      {
                        "test": [
                          0.8824852478,
                          0.04769878319
                        ],
                        "passed_time": 60.45806624,
                        "iteration": 855,
                        "remaining_time": 10.17051582,
                        "learn": [
                          0.003342540766
                        ]
                      },
                      {
                        "test": [
                          0.8824852478,
                          0.04771834071
                        ],
                        "passed_time": 60.52596182,
                        "iteration": 856,
                        "remaining_time": 10.0994312,
                        "learn": [
                          0.003339759766
                        ]
                      },
                      {
                        "test": [
                          0.8824852478,
                          0.04772076268
                        ],
                        "passed_time": 60.591935,
                        "iteration": 857,
                        "remaining_time": 10.02803586,
                        "learn": [
                          0.003334629098
                        ]
                      },
                      {
                        "test": [
                          0.8824852478,
                          0.04771799427
                        ],
                        "passed_time": 60.65711223,
                        "iteration": 858,
                        "remaining_time": 9.956522496,
                        "learn": [
                          0.003331522499
                        ]
                      },
                      {
                        "test": [
                          0.8826440158,
                          0.04771423909
                        ],
                        "passed_time": 60.72210577,
                        "iteration": 859,
                        "remaining_time": 9.884993962,
                        "learn": [
                          0.003325808967
                        ]
                      },
                      {
                        "test": [
                          0.8826440158,
                          0.04772346565
                        ],
                        "passed_time": 60.78666038,
                        "iteration": 860,
                        "remaining_time": 9.813409748,
                        "learn": [
                          0.003323017298
                        ]
                      },
                      {
                        "test": [
                          0.8825381705,
                          0.04772963264
                        ],
                        "passed_time": 60.85952443,
                        "iteration": 861,
                        "remaining_time": 9.743172124,
                        "learn": [
                          0.003306331127
                        ]
                      },
                      {
                        "test": [
                          0.8825381705,
                          0.04773714285
                        ],
                        "passed_time": 60.92406864,
                        "iteration": 862,
                        "remaining_time": 9.671607652,
                        "learn": [
                          0.003300443339
                        ]
                      },
                      {
                        "test": [
                          0.8825381705,
                          0.04775647874
                        ],
                        "passed_time": 60.98899656,
                        "iteration": 863,
                        "remaining_time": 9.600119828,
                        "learn": [
                          0.003297660494
                        ]
                      },
                      {
                        "test": [
                          0.8825381705,
                          0.04776508885
                        ],
                        "passed_time": 61.05483243,
                        "iteration": 864,
                        "remaining_time": 9.528788877,
                        "learn": [
                          0.003294684722
                        ]
                      },
                      {
                        "test": [
                          0.8825381705,
                          0.047771979
                        ],
                        "passed_time": 61.13186763,
                        "iteration": 865,
                        "remaining_time": 9.459203536,
                        "learn": [
                          0.003291923359
                        ]
                      },
                      {
                        "test": [
                          0.8825381705,
                          0.04777883166
                        ],
                        "passed_time": 61.19899059,
                        "iteration": 866,
                        "remaining_time": 9.388080447,
                        "learn": [
                          0.003288963117
                        ]
                      },
                      {
                        "test": [
                          0.8825381705,
                          0.0477979919
                        ],
                        "passed_time": 61.50981769,
                        "iteration": 867,
                        "remaining_time": 9.354027576,
                        "learn": [
                          0.003285949031
                        ]
                      },
                      {
                        "test": [
                          0.8825381705,
                          0.04780486535
                        ],
                        "passed_time": 61.58001486,
                        "iteration": 868,
                        "remaining_time": 9.28306323,
                        "learn": [
                          0.003283216174
                        ]
                      },
                      {
                        "test": [
                          0.8825381705,
                          0.04781178368
                        ],
                        "passed_time": 61.64424773,
                        "iteration": 869,
                        "remaining_time": 9.211209432,
                        "learn": [
                          0.003277562766
                        ]
                      },
                      {
                        "test": [
                          0.8825381705,
                          0.04782070374
                        ],
                        "passed_time": 61.70902909,
                        "iteration": 870,
                        "remaining_time": 9.139454365,
                        "learn": [
                          0.003274957923
                        ]
                      },
                      {
                        "test": [
                          0.8823264798,
                          0.04782482123
                        ],
                        "passed_time": 61.77400632,
                        "iteration": 871,
                        "remaining_time": 9.067744046,
                        "learn": [
                          0.003258477727
                        ]
                      },
                      {
                        "test": [
                          0.8823264798,
                          0.04783199612
                        ],
                        "passed_time": 61.83967409,
                        "iteration": 872,
                        "remaining_time": 8.99614961,
                        "learn": [
                          0.00325297197
                        ]
                      },
                      {
                        "test": [
                          0.8823264798,
                          0.04785098467
                        ],
                        "passed_time": 61.90381842,
                        "iteration": 873,
                        "remaining_time": 8.924349109,
                        "learn": [
                          0.003250229321
                        ]
                      },
                      {
                        "test": [
                          0.8825117091,
                          0.04783627574
                        ],
                        "passed_time": 61.96829778,
                        "iteration": 874,
                        "remaining_time": 8.852613969,
                        "learn": [
                          0.00324741187
                        ]
                      },
                      {
                        "test": [
                          0.8825117091,
                          0.04784297901
                        ],
                        "passed_time": 62.03308705,
                        "iteration": 875,
                        "remaining_time": 8.780939263,
                        "learn": [
                          0.003244663248
                        ]
                      },
                      {
                        "test": [
                          0.8825117091,
                          0.0478525934
                        ],
                        "passed_time": 62.10303192,
                        "iteration": 876,
                        "remaining_time": 8.710003337,
                        "learn": [
                          0.003241570297
                        ]
                      },
                      {
                        "test": [
                          0.8825117091,
                          0.04787143393
                        ],
                        "passed_time": 62.17627441,
                        "iteration": 877,
                        "remaining_time": 8.639527879,
                        "learn": [
                          0.003238774727
                        ]
                      },
                      {
                        "test": [
                          0.8825117091,
                          0.047878139
                        ],
                        "passed_time": 62.24116061,
                        "iteration": 878,
                        "remaining_time": 8.567895829,
                        "learn": [
                          0.003236188805
                        ]
                      },
                      {
                        "test": [
                          0.8825117091,
                          0.04788643213
                        ],
                        "passed_time": 62.30617986,
                        "iteration": 879,
                        "remaining_time": 8.496297254,
                        "learn": [
                          0.003230531073
                        ]
                      },
                      {
                        "test": [
                          0.8825117091,
                          0.04789309168
                        ],
                        "passed_time": 62.37211822,
                        "iteration": 880,
                        "remaining_time": 8.424837762,
                        "learn": [
                          0.00322790841
                        ]
                      },
                      {
                        "test": [
                          0.8825117091,
                          0.04789443048
                        ],
                        "passed_time": 62.4866471,
                        "iteration": 881,
                        "remaining_time": 8.359891562,
                        "learn": [
                          0.003224852833
                        ]
                      },
                      {
                        "test": [
                          0.8825117091,
                          0.0478994189
                        ],
                        "passed_time": 62.60246111,
                        "iteration": 882,
                        "remaining_time": 8.295003341,
                        "learn": [
                          0.003221713983
                        ]
                      },
                      {
                        "test": [
                          0.8823264798,
                          0.04791019207
                        ],
                        "passed_time": 62.6683124,
                        "iteration": 883,
                        "remaining_time": 8.223443709,
                        "learn": [
                          0.003206164711
                        ]
                      },
                      {
                        "test": [
                          0.8823264798,
                          0.04791750323
                        ],
                        "passed_time": 62.73190745,
                        "iteration": 884,
                        "remaining_time": 8.151603793,
                        "learn": [
                          0.003200929469
                        ]
                      },
                      {
                        "test": [
                          0.8823264798,
                          0.04793650601
                        ],
                        "passed_time": 62.79701039,
                        "iteration": 885,
                        "remaining_time": 8.079976506,
                        "learn": [
                          0.003198158315
                        ]
                      },
                      {
                        "test": [
                          0.8823264798,
                          0.04794498209
                        ],
                        "passed_time": 62.86267948,
                        "iteration": 886,
                        "remaining_time": 8.008436056,
                        "learn": [
                          0.003195476135
                        ]
                      },
                      {
                        "test": [
                          0.8823264798,
                          0.0479539165
                        ],
                        "passed_time": 62.92843562,
                        "iteration": 887,
                        "remaining_time": 7.936919808,
                        "learn": [
                          0.00319253991
                        ]
                      },
                      {
                        "test": [
                          0.8823264798,
                          0.04796112963
                        ],
                        "passed_time": 62.99298781,
                        "iteration": 888,
                        "remaining_time": 7.865266195,
                        "learn": [
                          0.003189974386
                        ]
                      },
                      {
                        "test": [
                          0.8823264798,
                          0.04797997923
                        ],
                        "passed_time": 63.05853204,
                        "iteration": 889,
                        "remaining_time": 7.793751151,
                        "learn": [
                          0.003187289644
                        ]
                      },
                      {
                        "test": [
                          0.8823264798,
                          0.04798837865
                        ],
                        "passed_time": 63.12351828,
                        "iteration": 890,
                        "remaining_time": 7.722181249,
                        "learn": [
                          0.003184477026
                        ]
                      },
                      {
                        "test": [
                          0.8823264798,
                          0.04799529516
                        ],
                        "passed_time": 63.20314513,
                        "iteration": 891,
                        "remaining_time": 7.652398737,
                        "learn": [
                          0.003179206283
                        ]
                      },
                      {
                        "test": [
                          0.8823000185,
                          0.04800416899
                        ],
                        "passed_time": 63.26946131,
                        "iteration": 892,
                        "remaining_time": 7.580999283,
                        "learn": [
                          0.003176574752
                        ]
                      },
                      {
                        "test": [
                          0.8823000185,
                          0.04800830013
                        ],
                        "passed_time": 63.33730965,
                        "iteration": 893,
                        "remaining_time": 7.509792867,
                        "learn": [
                          0.003173110248
                        ]
                      },
                      {
                        "test": [
                          0.8823000185,
                          0.04801642667
                        ],
                        "passed_time": 63.40213256,
                        "iteration": 894,
                        "remaining_time": 7.438239016,
                        "learn": [
                          0.003170414738
                        ]
                      },
                      {
                        "test": [
                          0.8821941732,
                          0.04804124314
                        ],
                        "passed_time": 63.46694984,
                        "iteration": 895,
                        "remaining_time": 7.366699535,
                        "learn": [
                          0.003151196881
                        ]
                      },
                      {
                        "test": [
                          0.8821941732,
                          0.04805122114
                        ],
                        "passed_time": 63.60290791,
                        "iteration": 896,
                        "remaining_time": 7.30334394,
                        "learn": [
                          0.003148350345
                        ]
                      },
                      {
                        "test": [
                          0.8821941732,
                          0.04804910285
                        ],
                        "passed_time": 63.69753955,
                        "iteration": 897,
                        "remaining_time": 7.235132555,
                        "learn": [
                          0.003145670327
                        ]
                      },
                      {
                        "test": [
                          0.8821941732,
                          0.04805563005
                        ],
                        "passed_time": 63.76768247,
                        "iteration": 898,
                        "remaining_time": 7.164111157,
                        "learn": [
                          0.003143031277
                        ]
                      },
                      {
                        "test": [
                          0.8821941732,
                          0.0480654945
                        ],
                        "passed_time": 63.8332151,
                        "iteration": 899,
                        "remaining_time": 7.092579456,
                        "learn": [
                          0.003140291814
                        ]
                      },
                      {
                        "test": [
                          0.8821941732,
                          0.04807717301
                        ],
                        "passed_time": 63.89859795,
                        "iteration": 900,
                        "remaining_time": 7.021044614,
                        "learn": [
                          0.003135832062
                        ]
                      },
                      {
                        "test": [
                          0.8821941732,
                          0.04809239863
                        ],
                        "passed_time": 63.96538589,
                        "iteration": 901,
                        "remaining_time": 6.949676072,
                        "learn": [
                          0.003130718127
                        ]
                      },
                      {
                        "test": [
                          0.8821941732,
                          0.04810059056
                        ],
                        "passed_time": 64.03204706,
                        "iteration": 902,
                        "remaining_time": 6.878304059,
                        "learn": [
                          0.003127963127
                        ]
                      },
                      {
                        "test": [
                          0.8821941732,
                          0.04810924257
                        ],
                        "passed_time": 64.09861716,
                        "iteration": 903,
                        "remaining_time": 6.806932796,
                        "learn": [
                          0.003125260331
                        ]
                      },
                      {
                        "test": [
                          0.8821941732,
                          0.04811619316
                        ],
                        "passed_time": 64.17402135,
                        "iteration": 904,
                        "remaining_time": 6.736499479,
                        "learn": [
                          0.003122691224
                        ]
                      },
                      {
                        "test": [
                          0.8821941732,
                          0.04812374555
                        ],
                        "passed_time": 64.25471102,
                        "iteration": 905,
                        "remaining_time": 6.666603572,
                        "learn": [
                          0.003120252292
                        ]
                      },
                      {
                        "test": [
                          0.8821941732,
                          0.04813894703
                        ],
                        "passed_time": 64.3201933,
                        "iteration": 906,
                        "remaining_time": 6.595124561,
                        "learn": [
                          0.003117897132
                        ]
                      },
                      {
                        "test": [
                          0.8821941732,
                          0.04814547866
                        ],
                        "passed_time": 64.38473156,
                        "iteration": 907,
                        "remaining_time": 6.52356311,
                        "learn": [
                          0.003115168365
                        ]
                      },
                      {
                        "test": [
                          0.8821941732,
                          0.0481654371
                        ],
                        "passed_time": 64.44927885,
                        "iteration": 908,
                        "remaining_time": 6.452018014,
                        "learn": [
                          0.003102366319
                        ]
                      },
                      {
                        "test": [
                          0.8821677119,
                          0.04817402822
                        ],
                        "passed_time": 64.51782006,
                        "iteration": 909,
                        "remaining_time": 6.380883302,
                        "learn": [
                          0.003099920736
                        ]
                      },
                      {
                        "test": [
                          0.8822206345,
                          0.04818580282
                        ],
                        "passed_time": 64.64284169,
                        "iteration": 910,
                        "remaining_time": 6.31527213,
                        "learn": [
                          0.003096252565
                        ]
                      },
                      {
                        "test": [
                          0.8822206345,
                          0.04819231711
                        ],
                        "passed_time": 64.74427206,
                        "iteration": 911,
                        "remaining_time": 6.247254322,
                        "learn": [
                          0.003091182972
                        ]
                      },
                      {
                        "test": [
                          0.8822206345,
                          0.04820213062
                        ],
                        "passed_time": 64.80980542,
                        "iteration": 912,
                        "remaining_time": 6.175742685,
                        "learn": [
                          0.003088559387
                        ]
                      },
                      {
                        "test": [
                          0.8822206345,
                          0.04820867348
                        ],
                        "passed_time": 64.87533049,
                        "iteration": 913,
                        "remaining_time": 6.104243351,
                        "learn": [
                          0.003086010523
                        ]
                      },
                      {
                        "test": [
                          0.8821941732,
                          0.04822533928
                        ],
                        "passed_time": 64.94123956,
                        "iteration": 914,
                        "remaining_time": 6.032792746,
                        "learn": [
                          0.003083583338
                        ]
                      },
                      {
                        "test": [
                          0.8821941732,
                          0.04823223596
                        ],
                        "passed_time": 65.00523564,
                        "iteration": 915,
                        "remaining_time": 5.961178815,
                        "learn": [
                          0.003081046537
                        ]
                      },
                      {
                        "test": [
                          0.8821941732,
                          0.04823868611
                        ],
                        "passed_time": 65.07209411,
                        "iteration": 916,
                        "remaining_time": 5.889840579,
                        "learn": [
                          0.003078689032
                        ]
                      },
                      {
                        "test": [
                          0.8821941732,
                          0.04825064204
                        ],
                        "passed_time": 65.13718146,
                        "iteration": 917,
                        "remaining_time": 5.8183539,
                        "learn": [
                          0.003076297049
                        ]
                      },
                      {
                        "test": [
                          0.8821941732,
                          0.04825716067
                        ],
                        "passed_time": 65.2114411,
                        "iteration": 918,
                        "remaining_time": 5.747689586,
                        "learn": [
                          0.00307373177
                        ]
                      },
                      {
                        "test": [
                          0.8821941732,
                          0.04826298142
                        ],
                        "passed_time": 65.27982862,
                        "iteration": 919,
                        "remaining_time": 5.676506837,
                        "learn": [
                          0.003067306807
                        ]
                      },
                      {
                        "test": [
                          0.8821941732,
                          0.04828327823
                        ],
                        "passed_time": 65.35166516,
                        "iteration": 920,
                        "remaining_time": 5.605626002,
                        "learn": [
                          0.003057802238
                        ]
                      },
                      {
                        "test": [
                          0.8821941732,
                          0.04827812949
                        ],
                        "passed_time": 65.41715356,
                        "iteration": 921,
                        "remaining_time": 5.534206049,
                        "learn": [
                          0.003055252478
                        ]
                      },
                      {
                        "test": [
                          0.8821941732,
                          0.04828229748
                        ],
                        "passed_time": 65.48433391,
                        "iteration": 922,
                        "remaining_time": 5.462940099,
                        "learn": [
                          0.003049895006
                        ]
                      },
                      {
                        "test": [
                          0.8821941732,
                          0.04827985169
                        ],
                        "passed_time": 65.55074695,
                        "iteration": 923,
                        "remaining_time": 5.391619879,
                        "learn": [
                          0.003047455179
                        ]
                      },
                      {
                        "test": [
                          0.8821941732,
                          0.04828565959
                        ],
                        "passed_time": 65.65233033,
                        "iteration": 924,
                        "remaining_time": 5.323161919,
                        "learn": [
                          0.003044033351
                        ]
                      },
                      {
                        "test": [
                          0.8821941732,
                          0.04829781405
                        ],
                        "passed_time": 65.77556717,
                        "iteration": 925,
                        "remaining_time": 5.256362819,
                        "learn": [
                          0.003041847859
                        ]
                      },
                      {
                        "test": [
                          0.8821941732,
                          0.04830452619
                        ],
                        "passed_time": 65.84059141,
                        "iteration": 926,
                        "remaining_time": 5.184857791,
                        "learn": [
                          0.003039380711
                        ]
                      },
                      {
                        "test": [
                          0.8821941732,
                          0.04832127244
                        ],
                        "passed_time": 65.90518424,
                        "iteration": 927,
                        "remaining_time": 5.11333326,
                        "learn": [
                          0.003036889863
                        ]
                      },
                      {
                        "test": [
                          0.8821941732,
                          0.04832789557
                        ],
                        "passed_time": 65.96994371,
                        "iteration": 928,
                        "remaining_time": 5.041836387,
                        "learn": [
                          0.003034565398
                        ]
                      },
                      {
                        "test": [
                          0.8821941732,
                          0.04833494446
                        ],
                        "passed_time": 66.04592537,
                        "iteration": 929,
                        "remaining_time": 4.971198684,
                        "learn": [
                          0.003031953821
                        ]
                      },
                      {
                        "test": [
                          0.8821941732,
                          0.0483392651
                        ],
                        "passed_time": 66.11158609,
                        "iteration": 930,
                        "remaining_time": 4.899784576,
                        "learn": [
                          0.003026863669
                        ]
                      },
                      {
                        "test": [
                          0.8821941732,
                          0.04834836198
                        ],
                        "passed_time": 66.17658186,
                        "iteration": 931,
                        "remaining_time": 4.828334299,
                        "learn": [
                          0.00302406182
                        ]
                      },
                      {
                        "test": [
                          0.8821941732,
                          0.04835850246
                        ],
                        "passed_time": 66.25475041,
                        "iteration": 932,
                        "remaining_time": 4.757843813,
                        "learn": [
                          0.003021498042
                        ]
                      },
                      {
                        "test": [
                          0.8821941732,
                          0.04836694966
                        ],
                        "passed_time": 66.32228399,
                        "iteration": 933,
                        "remaining_time": 4.686585378,
                        "learn": [
                          0.003019361298
                        ]
                      },
                      {
                        "test": [
                          0.8822206345,
                          0.04838796617
                        ],
                        "passed_time": 66.39102977,
                        "iteration": 934,
                        "remaining_time": 4.615419182,
                        "learn": [
                          0.003007223218
                        ]
                      },
                      {
                        "test": [
                          0.8822206345,
                          0.04840311208
                        ],
                        "passed_time": 66.45562105,
                        "iteration": 935,
                        "remaining_time": 4.543974089,
                        "learn": [
                          0.003005028223
                        ]
                      },
                      {
                        "test": [
                          0.8822206345,
                          0.04841103164
                        ],
                        "passed_time": 66.52340081,
                        "iteration": 936,
                        "remaining_time": 4.472758005,
                        "learn": [
                          0.003001567755
                        ]
                      },
                      {
                        "test": [
                          0.8822206345,
                          0.04841768971
                        ],
                        "passed_time": 66.58959175,
                        "iteration": 937,
                        "remaining_time": 4.401444231,
                        "learn": [
                          0.002999212757
                        ]
                      },
                      {
                        "test": [
                          0.8822206345,
                          0.04842986305
                        ],
                        "passed_time": 66.65376776,
                        "iteration": 938,
                        "remaining_time": 4.330010472,
                        "learn": [
                          0.002997077308
                        ]
                      },
                      {
                        "test": [
                          0.8822206345,
                          0.04843424281
                        ],
                        "passed_time": 66.80435023,
                        "iteration": 939,
                        "remaining_time": 4.264107461,
                        "learn": [
                          0.002994339989
                        ]
                      },
                      {
                        "test": [
                          0.8822206345,
                          0.04845008099
                        ],
                        "passed_time": 66.87651122,
                        "iteration": 940,
                        "remaining_time": 4.193107505,
                        "learn": [
                          0.002987387398
                        ]
                      },
                      {
                        "test": [
                          0.8822206345,
                          0.04845854885
                        ],
                        "passed_time": 66.95048001,
                        "iteration": 941,
                        "remaining_time": 4.122216391,
                        "learn": [
                          0.002985242764
                        ]
                      },
                      {
                        "test": [
                          0.8821677119,
                          0.04847362399
                        ],
                        "passed_time": 67.01714179,
                        "iteration": 942,
                        "remaining_time": 4.050877076,
                        "learn": [
                          0.002982954569
                        ]
                      },
                      {
                        "test": [
                          0.8821677119,
                          0.04848031164
                        ],
                        "passed_time": 67.08385496,
                        "iteration": 943,
                        "remaining_time": 3.979550718,
                        "learn": [
                          0.002980855543
                        ]
                      },
                      {
                        "test": [
                          0.8821677119,
                          0.04848959264
                        ],
                        "passed_time": 67.14891812,
                        "iteration": 944,
                        "remaining_time": 3.908138091,
                        "learn": [
                          0.002978422602
                        ]
                      },
                      {
                        "test": [
                          0.8821677119,
                          0.04850054609
                        ],
                        "passed_time": 67.21533434,
                        "iteration": 945,
                        "remaining_time": 3.836816125,
                        "learn": [
                          0.002976283008
                        ]
                      },
                      {
                        "test": [
                          0.8821677119,
                          0.04849927226
                        ],
                        "passed_time": 67.28993377,
                        "iteration": 946,
                        "remaining_time": 3.765962502,
                        "learn": [
                          0.002973947014
                        ]
                      },
                      {
                        "test": [
                          0.8821677119,
                          0.04852703621
                        ],
                        "passed_time": 67.35505999,
                        "iteration": 947,
                        "remaining_time": 3.69458135,
                        "learn": [
                          0.002962686386
                        ]
                      },
                      {
                        "test": [
                          0.8821677119,
                          0.04854191297
                        ],
                        "passed_time": 67.42126413,
                        "iteration": 948,
                        "remaining_time": 3.623271308,
                        "learn": [
                          0.002960552203
                        ]
                      },
                      {
                        "test": [
                          0.8821677119,
                          0.048547734
                        ],
                        "passed_time": 67.4906697,
                        "iteration": 949,
                        "remaining_time": 3.55214051,
                        "learn": [
                          0.002957712264
                        ]
                      },
                      {
                        "test": [
                          0.8821677119,
                          0.04855557128
                        ],
                        "passed_time": 67.55617383,
                        "iteration": 950,
                        "remaining_time": 3.480812322,
                        "learn": [
                          0.002955396912
                        ]
                      },
                      {
                        "test": [
                          0.8821677119,
                          0.04856261269
                        ],
                        "passed_time": 67.62558515,
                        "iteration": 951,
                        "remaining_time": 3.409693369,
                        "learn": [
                          0.002953173385
                        ]
                      },
                      {
                        "test": [
                          0.8821677119,
                          0.04857254378
                        ],
                        "passed_time": 67.68978506,
                        "iteration": 952,
                        "remaining_time": 3.338320984,
                        "learn": [
                          0.002951017999
                        ]
                      },
                      {
                        "test": [
                          0.8821677119,
                          0.0485890092
                        ],
                        "passed_time": 67.81537052,
                        "iteration": 953,
                        "remaining_time": 3.269923526,
                        "learn": [
                          0.002945889756
                        ]
                      },
                      {
                        "test": [
                          0.8821677119,
                          0.04859890877
                        ],
                        "passed_time": 67.93192924,
                        "iteration": 954,
                        "remaining_time": 3.200980959,
                        "learn": [
                          0.002943040452
                        ]
                      },
                      {
                        "test": [
                          0.8821677119,
                          0.04860563617
                        ],
                        "passed_time": 67.99684508,
                        "iteration": 955,
                        "remaining_time": 3.129561908,
                        "learn": [
                          0.002940913817
                        ]
                      },
                      {
                        "test": [
                          0.8821677119,
                          0.0486019966
                        ],
                        "passed_time": 68.06369764,
                        "iteration": 956,
                        "remaining_time": 3.058243468,
                        "learn": [
                          0.002938299444
                        ]
                      },
                      {
                        "test": [
                          0.8821677119,
                          0.04860696384
                        ],
                        "passed_time": 68.13021394,
                        "iteration": 957,
                        "remaining_time": 2.986919609,
                        "learn": [
                          0.002935501685
                        ]
                      },
                      {
                        "test": [
                          0.8821677119,
                          0.04861432639
                        ],
                        "passed_time": 68.1948013,
                        "iteration": 958,
                        "remaining_time": 2.915523309,
                        "learn": [
                          0.002933217924
                        ]
                      },
                      {
                        "test": [
                          0.8821677119,
                          0.0486245114
                        ],
                        "passed_time": 68.25920769,
                        "iteration": 959,
                        "remaining_time": 2.844133654,
                        "learn": [
                          0.002930935774
                        ]
                      },
                      {
                        "test": [
                          0.8821677119,
                          0.04864119708
                        ],
                        "passed_time": 68.33564703,
                        "iteration": 960,
                        "remaining_time": 2.773246862,
                        "learn": [
                          0.002928895922
                        ]
                      },
                      {
                        "test": [
                          0.8821677119,
                          0.04865021847
                        ],
                        "passed_time": 68.40102492,
                        "iteration": 961,
                        "remaining_time": 2.701911587,
                        "learn": [
                          0.002923975293
                        ]
                      },
                      {
                        "test": [
                          0.8821677119,
                          0.04868475107
                        ],
                        "passed_time": 68.46747821,
                        "iteration": 962,
                        "remaining_time": 2.630630004,
                        "learn": [
                          0.002915418679
                        ]
                      },
                      {
                        "test": [
                          0.8821677119,
                          0.04869141138
                        ],
                        "passed_time": 68.53223841,
                        "iteration": 963,
                        "remaining_time": 2.55929521,
                        "learn": [
                          0.002913469812
                        ]
                      },
                      {
                        "test": [
                          0.8821677119,
                          0.0486980671
                        ],
                        "passed_time": 68.5986913,
                        "iteration": 964,
                        "remaining_time": 2.488035436,
                        "learn": [
                          0.002911323194
                        ]
                      },
                      {
                        "test": [
                          0.8821677119,
                          0.04870607462
                        ],
                        "passed_time": 68.66570707,
                        "iteration": 965,
                        "remaining_time": 2.416805425,
                        "learn": [
                          0.002908653077
                        ]
                      },
                      {
                        "test": [
                          0.8821677119,
                          0.04871309228
                        ],
                        "passed_time": 68.73059973,
                        "iteration": 966,
                        "remaining_time": 2.345511676,
                        "learn": [
                          0.002901919485
                        ]
                      },
                      {
                        "test": [
                          0.8821677119,
                          0.04871064055
                        ],
                        "passed_time": 68.82373704,
                        "iteration": 967,
                        "remaining_time": 2.275164861,
                        "learn": [
                          0.002899739638
                        ]
                      },
                      {
                        "test": [
                          0.8821677119,
                          0.04872944361
                        ],
                        "passed_time": 68.95125038,
                        "iteration": 968,
                        "remaining_time": 2.205870755,
                        "learn": [
                          0.002897702348
                        ]
                      },
                      {
                        "test": [
                          0.8821677119,
                          0.04873620662
                        ],
                        "passed_time": 69.05050102,
                        "iteration": 969,
                        "remaining_time": 2.135582506,
                        "learn": [
                          0.002895423971
                        ]
                      },
                      {
                        "test": [
                          0.8821677119,
                          0.04874408378
                        ],
                        "passed_time": 69.11563288,
                        "iteration": 970,
                        "remaining_time": 2.064215606,
                        "learn": [
                          0.002893461801
                        ]
                      },
                      {
                        "test": [
                          0.8821677119,
                          0.0487543157
                        ],
                        "passed_time": 69.18286762,
                        "iteration": 971,
                        "remaining_time": 1.992922112,
                        "learn": [
                          0.002890108759
                        ]
                      },
                      {
                        "test": [
                          0.8821677119,
                          0.04876439679
                        ],
                        "passed_time": 69.2485716,
                        "iteration": 972,
                        "remaining_time": 1.921594484,
                        "learn": [
                          0.002888089178
                        ]
                      },
                      {
                        "test": [
                          0.8821677119,
                          0.04877114159
                        ],
                        "passed_time": 69.32349947,
                        "iteration": 973,
                        "remaining_time": 1.850524626,
                        "learn": [
                          0.002886032857
                        ]
                      },
                      {
                        "test": [
                          0.8821677119,
                          0.04878981213
                        ],
                        "passed_time": 69.38899561,
                        "iteration": 974,
                        "remaining_time": 1.779205016,
                        "learn": [
                          0.002880772954
                        ]
                      },
                      {
                        "test": [
                          0.8821677119,
                          0.04879501764
                        ],
                        "passed_time": 69.4625862,
                        "iteration": 975,
                        "remaining_time": 1.708096382,
                        "learn": [
                          0.00287818896
                        ]
                      },
                      {
                        "test": [
                          0.8821412506,
                          0.04881654093
                        ],
                        "passed_time": 69.5274892,
                        "iteration": 976,
                        "remaining_time": 1.636778149,
                        "learn": [
                          0.002870302231
                        ]
                      },
                      {
                        "test": [
                          0.8821412506,
                          0.04883458926
                        ],
                        "passed_time": 69.59856577,
                        "iteration": 977,
                        "remaining_time": 1.565611909,
                        "learn": [
                          0.002863098763
                        ]
                      },
                      {
                        "test": [
                          0.8821412506,
                          0.04884116166
                        ],
                        "passed_time": 69.66372612,
                        "iteration": 978,
                        "remaining_time": 1.494318946,
                        "learn": [
                          0.002861088395
                        ]
                      },
                      {
                        "test": [
                          0.8821412506,
                          0.04885098618
                        ],
                        "passed_time": 69.72838086,
                        "iteration": 979,
                        "remaining_time": 1.423028181,
                        "learn": [
                          0.00285881952
                        ]
                      },
                      {
                        "test": [
                          0.8821412506,
                          0.04885752352
                        ],
                        "passed_time": 69.7947254,
                        "iteration": 980,
                        "remaining_time": 1.351783672,
                        "learn": [
                          0.00285693207
                        ]
                      },
                      {
                        "test": [
                          0.8821412506,
                          0.04887370848
                        ],
                        "passed_time": 69.85961223,
                        "iteration": 981,
                        "remaining_time": 1.280522424,
                        "learn": [
                          0.002854697141
                        ]
                      },
                      {
                        "test": [
                          0.8821412506,
                          0.04888016073
                        ],
                        "passed_time": 69.9998325,
                        "iteration": 982,
                        "remaining_time": 1.210576961,
                        "learn": [
                          0.002852864141
                        ]
                      },
                      {
                        "test": [
                          0.8821412506,
                          0.04888790189
                        ],
                        "passed_time": 70.09193716,
                        "iteration": 983,
                        "remaining_time": 1.139706295,
                        "learn": [
                          0.002850749541
                        ]
                      },
                      {
                        "test": [
                          0.8821412506,
                          0.04889166877
                        ],
                        "passed_time": 70.15689936,
                        "iteration": 984,
                        "remaining_time": 1.068379178,
                        "learn": [
                          0.002848599523
                        ]
                      },
                      {
                        "test": [
                          0.8821412506,
                          0.04889979421
                        ],
                        "passed_time": 70.22468838,
                        "iteration": 985,
                        "remaining_time": 0.9971051089,
                        "learn": [
                          0.002843821033
                        ]
                      },
                      {
                        "test": [
                          0.8821412506,
                          0.04890497045
                        ],
                        "passed_time": 70.29078652,
                        "iteration": 986,
                        "remaining_time": 0.9258158305,
                        "learn": [
                          0.002841858563
                        ]
                      },
                      {
                        "test": [
                          0.8821412506,
                          0.04891359488
                        ],
                        "passed_time": 70.36878057,
                        "iteration": 987,
                        "remaining_time": 0.8546815454,
                        "learn": [
                          0.002839811137
                        ]
                      },
                      {
                        "test": [
                          0.8821412506,
                          0.04892937227
                        ],
                        "passed_time": 70.43419915,
                        "iteration": 988,
                        "remaining_time": 0.7833935194,
                        "learn": [
                          0.00283615902
                        ]
                      },
                      {
                        "test": [
                          0.8821412506,
                          0.04893574176
                        ],
                        "passed_time": 70.50992558,
                        "iteration": 989,
                        "remaining_time": 0.7122214705,
                        "learn": [
                          0.002833983635
                        ]
                      },
                      {
                        "test": [
                          0.8821147892,
                          0.0489573016
                        ],
                        "passed_time": 70.57608447,
                        "iteration": 990,
                        "remaining_time": 0.6409533403,
                        "learn": [
                          0.002823566693
                        ]
                      },
                      {
                        "test": [
                          0.8821147892,
                          0.04896736961
                        ],
                        "passed_time": 70.64258486,
                        "iteration": 991,
                        "remaining_time": 0.569698265,
                        "learn": [
                          0.002821399888
                        ]
                      },
                      {
                        "test": [
                          0.8821147892,
                          0.04897368931
                        ],
                        "passed_time": 70.70927791,
                        "iteration": 992,
                        "remaining_time": 0.4984541243,
                        "learn": [
                          0.002819374316
                        ]
                      },
                      {
                        "test": [
                          0.8822470959,
                          0.04897456235
                        ],
                        "passed_time": 70.7730619,
                        "iteration": 993,
                        "remaining_time": 0.4272015809,
                        "learn": [
                          0.002817316493
                        ]
                      },
                      {
                        "test": [
                          0.8822470959,
                          0.04898311623
                        ],
                        "passed_time": 70.83824058,
                        "iteration": 994,
                        "remaining_time": 0.3559710582,
                        "learn": [
                          0.002815276298
                        ]
                      },
                      {
                        "test": [
                          0.8822470959,
                          0.0489894552
                        ],
                        "passed_time": 70.902375,
                        "iteration": 995,
                        "remaining_time": 0.284748494,
                        "learn": [
                          0.002813290634
                        ]
                      },
                      {
                        "test": [
                          0.8822470959,
                          0.04899947137
                        ],
                        "passed_time": 71.01135149,
                        "iteration": 996,
                        "remaining_time": 0.2136750797,
                        "learn": [
                          0.002811377847
                        ]
                      },
                      {
                        "test": [
                          0.8822470959,
                          0.04900845515
                        ],
                        "passed_time": 71.14216147,
                        "iteration": 997,
                        "remaining_time": 0.1425694619,
                        "learn": [
                          0.002805405546
                        ]
                      },
                      {
                        "test": [
                          0.8822470959,
                          0.04901491803
                        ],
                        "passed_time": 71.20682893,
                        "iteration": 998,
                        "remaining_time": 0.07127810704,
                        "learn": [
                          0.002803485708
                        ]
                      },
                      {
                        "test": [
                          0.8822470959,
                          0.04903087521
                        ],
                        "passed_time": 71.27122498,
                        "iteration": 999,
                        "remaining_time": 0,
                        "learn": [
                          0.00280122839
                        ]
                      }
                    ]
                  },
                  "total_iterations": 1000,
                  "passed_iterations": 999
                },
                "path": "catboost_info",
                "name": "catboost_info"
              }
            },
            "_view_module": "catboost-widget",
            "_model_module_version": "^1.0.0",
            "_view_count": null,
            "_view_module_version": "^1.0.0",
            "layout": "IPY_MODEL_a0033d7f75c149cfa45ec0b8952c5edd",
            "_model_module": "catboost-widget"
          }
        }
      }
    }
  },
  "nbformat": 4,
  "nbformat_minor": 0
}